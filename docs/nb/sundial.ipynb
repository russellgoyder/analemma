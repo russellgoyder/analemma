{
  "cells": [
    {
      "cell_type": "markdown",
      "metadata": {},
      "source": [
        "# Sundial Calculations\n",
        "\n",
        "This notebook accompanies my [sundial paper](https://russellgoyder.github.io/sundial-latex/). I originally used [Maple](https://www.maplesoft.com/) for the calculations, but decided to reproduce them here to make the analysis more accessible, and as a way to learn [SymPy](https://www.sympy.org/en/index.html) and [GAlgebra](https://github.com/pygae/galgebra). I used my [cheat sheet](https://russellgoyder.github.io/geometric-algebra-cheat-sheet/) for Geometric Algebra at various points.\n",
        "\n",
        "Run the notebook yourself: [![Binder](https://mybinder.org/badge_logo.svg)](https://mybinder.org/v2/gh/russellgoyder/sundial/HEAD?labpath=docs/sundial.ipynb)"
      ]
    },
    {
      "cell_type": "code",
      "execution_count": 1,
      "metadata": {},
      "outputs": [],
      "source": [
        "import sympy as sp\n",
        "from sympy import sin, cos, tan\n",
        "from sympy.abc import *\n",
        "from galgebra import mv\n",
        "from galgebra.ga import Ga\n",
        "from galgebra.printer import latex\n",
        "from IPython.display import Math\n",
        "\n",
        "sp.init_printing()\n",
        "\n",
        "# Multivector mv on its own in a cell appears fine in the notebook but when nbconverted\n",
        "# to Markdown comes out as \\begin{equation*} x \\end{equation*} instead of eg $\\displaystyle x$\n",
        "# and consequently isn't rendered in HTML after running mkdocs.\n",
        "def display(mv):\n",
        "    return(Math(latex(mv)))"
      ]
    },
    {
      "cell_type": "markdown",
      "metadata": {},
      "source": [
        "## Setup and Definitions\n",
        "\n",
        "### Fixed Stars Frame\n",
        "\n",
        "First, we define the geometric algebra of 3-space and some basis blades from the frame of the \"fixed stars\"\n",
        "\n",
        "![Earth's orientation and orbit](https://raw.githubusercontent.com/russellgoyder/sundial-latex/main/figs/MainArena.png?token=GHSAT0AAAAAAB73Q3JM6JGFDMRHPPAJKRQ2ZAWFO7Q \"Earth's orientation and orbit.\")."
      ]
    },
    {
      "cell_type": "code",
      "execution_count": 2,
      "metadata": {},
      "outputs": [],
      "source": [
        "coords = sp.symbols('1 2 3', real=True)\n",
        "G3 = Ga('e', g=[1,1,1], coords=coords)\n",
        "\n",
        "(e1, e2, e3) = G3.mv()\n",
        "I = e1^e2^e3"
      ]
    },
    {
      "cell_type": "markdown",
      "metadata": {},
      "source": [
        "### Earth Frame\n",
        "\n",
        "Now, let the tilt of the earth's plane (axis) of rotation be $\\alpha$ and measure the earth's rotation by $\\psi$. Then we can define the Earth frame as follows."
      ]
    },
    {
      "cell_type": "code",
      "execution_count": 3,
      "metadata": {},
      "outputs": [
        {
          "data": {
            "text/latex": [
              "$\\displaystyle \n",
              "            \\begin{align}\n",
              "            f_1 &= \\cos{\\left (\\alpha  \\right )} \\cos{\\left (\\psi  \\right )} \\boldsymbol{e}_{1} + \\sin{\\left (\\psi  \\right )} \\boldsymbol{e}_{2} + \\sin{\\left (\\alpha  \\right )} \\cos{\\left (\\psi  \\right )} \\boldsymbol{e}_{3} \\nonumber \\\\\n",
              "            f_2 &= - \\sin{\\left (\\psi  \\right )} \\cos{\\left (\\alpha  \\right )} \\boldsymbol{e}_{1} + \\cos{\\left (\\psi  \\right )} \\boldsymbol{e}_{2} - \\sin{\\left (\\alpha  \\right )} \\sin{\\left (\\psi  \\right )} \\boldsymbol{e}_{3} \\nonumber \\\\\n",
              "            f_3 &= - \\sin{\\left (\\alpha  \\right )} \\boldsymbol{e}_{1} + \\cos{\\left (\\alpha  \\right )} \\boldsymbol{e}_{3} \\nonumber\n",
              "            \\end{align}\n",
              "            $"
            ],
            "text/plain": [
              "<IPython.core.display.Math object>"
            ]
          },
          "execution_count": 3,
          "metadata": {},
          "output_type": "execute_result"
        }
      ],
      "source": [
        "def rotate(mv, angle, bivec):\n",
        "    rotor = ( cos(angle/2) - (bivec) * sin(angle/2) ).trigsimp()\n",
        "    return ( rotor * mv * rotor.rev() )\n",
        "\n",
        "e1_prime = rotate(e1, alpha, e1^e3).trigsimp()\n",
        "\n",
        "f1 = rotate(e1_prime, psi, e1_prime^e2).trigsimp().trigsimp()\n",
        "f2 = rotate(e2, psi, e1_prime^e2).trigsimp().trigsimp()\n",
        "f3 = rotate(e3, alpha, e1^e3).trigsimp().trigsimp()\n",
        "\n",
        "def print_3frame(frame, symbol):\n",
        "    return Math(fr'''\n",
        "            \\begin{{align}}\n",
        "            {symbol}_1 &= {latex(frame[0])} \\nonumber \\\\\n",
        "            {symbol}_2 &= {latex(frame[1])} \\nonumber \\\\\n",
        "            {symbol}_3 &= {latex(frame[2])} \\nonumber\n",
        "            \\end{{align}}\n",
        "            ''')\n",
        "\n",
        "print_3frame((f1,f2,f3), \"f\")"
      ]
    },
    {
      "cell_type": "markdown",
      "metadata": {},
      "source": [
        "Check that this is an orthonormal frame"
      ]
    },
    {
      "cell_type": "code",
      "execution_count": 4,
      "metadata": {},
      "outputs": [
        {
          "data": {
            "text/latex": [
              "$\\displaystyle  0 $"
            ],
            "text/plain": [
              "<IPython.core.display.Math object>"
            ]
          },
          "execution_count": 4,
          "metadata": {},
          "output_type": "execute_result"
        }
      ],
      "source": [
        "result = (e1 ^ e2 ^ e3) - (f1 * f2 * f3)\n",
        "\n",
        "assert result.obj.equals(0)\n",
        "display(result)"
      ]
    },
    {
      "cell_type": "markdown",
      "metadata": {},
      "source": [
        "The equatorial plane should only depend on the tilt of the Earth's axis of spin $\\alpha$, not the angle by which it has rotated relative to the fixed stars $\\psi$."
      ]
    },
    {
      "cell_type": "code",
      "execution_count": 5,
      "metadata": {},
      "outputs": [
        {
          "data": {
            "text/latex": [
              "$\\displaystyle \n",
              "        \\begin{equation}\n",
              "            f_1 \\wedge f_2 = \\cos{\\left (\\alpha  \\right )} \\boldsymbol{e}_{1}\\wedge \\boldsymbol{e}_{2} - \\sin{\\left (\\alpha  \\right )} \\boldsymbol{e}_{2}\\wedge \\boldsymbol{e}_{3} \\nonumber\n",
              "        \\end{equation}\n",
              "        $"
            ],
            "text/plain": [
              "<IPython.core.display.Math object>"
            ]
          },
          "execution_count": 5,
          "metadata": {},
          "output_type": "execute_result"
        }
      ],
      "source": [
        "# would like to use mv.Fmt but it seems to give LaTeX output which doesn't render after eg jupyter nbconvert --to Markdown\n",
        "def print_eq(lhs : str, rhs : sp.Symbol):\n",
        "    return Math(fr'''\n",
        "        \\begin{{equation}}\n",
        "            {lhs} = {latex(rhs)} \\nonumber\n",
        "        \\end{{equation}}\n",
        "        ''')\n",
        "\n",
        "print_eq(r\"f_1 \\wedge f_2\", (f1^f2))"
      ]
    },
    {
      "cell_type": "markdown",
      "metadata": {},
      "source": [
        "### Surface Frame\n",
        "\n",
        "Define an orthonormal frame embedded in the Earth's surface, with $n_1$ pointing South, $n_2$ pointing East and $n_3$ pointing up.\n",
        "\n",
        "![](https://raw.githubusercontent.com/russellgoyder/sundial-latex/main/figs/SurfaceFrame.png?token=GHSAT0AAAAAAB73Q3JNXNOAJWYLCUINTVLUZAWF6JQ \"Frame embedded in Earth's surface.\").\n",
        "\n",
        "<!-- ![](https://raw.githubusercontent.com/russellgoyder/sundial-latex/main/figs/SurfaceFrame.svg?token=GHSAT0AAAAAAB73Q3JNXNOAJWYLCUINTVLUZAWF6JQ \"Frame embedded in Earth's surface.\"). -->"
      ]
    },
    {
      "cell_type": "code",
      "execution_count": 6,
      "metadata": {},
      "outputs": [
        {
          "data": {
            "text/latex": [
              "$\\displaystyle \n",
              "            \\begin{align}\n",
              "            n_1 &= \\left ( \\sin{\\left (\\alpha  \\right )} \\sin{\\left (\\theta  \\right )} + \\cos{\\left (\\alpha  \\right )} \\cos{\\left (\\psi  \\right )} \\cos{\\left (\\theta  \\right )}\\right ) \\boldsymbol{e}_{1} + \\sin{\\left (\\psi  \\right )} \\cos{\\left (\\theta  \\right )} \\boldsymbol{e}_{2} + \\left ( \\sin{\\left (\\alpha  \\right )} \\cos{\\left (\\psi  \\right )} \\cos{\\left (\\theta  \\right )} - \\sin{\\left (\\theta  \\right )} \\cos{\\left (\\alpha  \\right )}\\right ) \\boldsymbol{e}_{3} \\nonumber \\\\\n",
              "            n_2 &= - \\sin{\\left (\\psi  \\right )} \\cos{\\left (\\alpha  \\right )} \\boldsymbol{e}_{1} + \\cos{\\left (\\psi  \\right )} \\boldsymbol{e}_{2} - \\sin{\\left (\\alpha  \\right )} \\sin{\\left (\\psi  \\right )} \\boldsymbol{e}_{3} \\nonumber \\\\\n",
              "            n_3 &= \\left ( - \\sin{\\left (\\alpha  \\right )} \\cos{\\left (\\theta  \\right )} + \\sin{\\left (\\theta  \\right )} \\cos{\\left (\\alpha  \\right )} \\cos{\\left (\\psi  \\right )}\\right ) \\boldsymbol{e}_{1} + \\sin{\\left (\\psi  \\right )} \\sin{\\left (\\theta  \\right )} \\boldsymbol{e}_{2} + \\left ( \\sin{\\left (\\alpha  \\right )} \\sin{\\left (\\theta  \\right )} \\cos{\\left (\\psi  \\right )} + \\cos{\\left (\\alpha  \\right )} \\cos{\\left (\\theta  \\right )}\\right ) \\boldsymbol{e}_{3} \\nonumber\n",
              "            \\end{align}\n",
              "            $"
            ],
            "text/plain": [
              "<IPython.core.display.Math object>"
            ]
          },
          "execution_count": 6,
          "metadata": {},
          "output_type": "execute_result"
        }
      ],
      "source": [
        "n1 = rotate(f1, theta, f3^f1).trigsimp().trigsimp()\n",
        "n2 = f2\n",
        "\n",
        "# n3 needs a little love\n",
        "raw_n3 = rotate(f3, theta, f3^f1).obj.trigsimp()\n",
        "sympy_n3 = sp.expand(sp.expand_trig(raw_n3)) # galgebra's Mv doesn't have expand_trig as a method\n",
        "n3 = mv.Mv(sympy_n3, ga=G3)\n",
        "\n",
        "print_3frame((n1,n2,n3), \"n\")"
      ]
    },
    {
      "cell_type": "markdown",
      "metadata": {},
      "source": [
        "Check that this basis is orthonormal. Geometric product of the $\\{n_i\\}$ should give the pseudoscalar $I = e_1 \\wedge e_2 \\wedge e_3$"
      ]
    },
    {
      "cell_type": "code",
      "execution_count": 7,
      "metadata": {},
      "outputs": [
        {
          "data": {
            "text/latex": [
              "$\\displaystyle  \\boldsymbol{e}_{1}\\wedge \\boldsymbol{e}_{2}\\wedge \\boldsymbol{e}_{3}$"
            ],
            "text/plain": [
              "<IPython.core.display.Math object>"
            ]
          },
          "execution_count": 7,
          "metadata": {},
          "output_type": "execute_result"
        }
      ],
      "source": [
        "n123 = (n1*n2*n3).trigsimp()\n",
        "assert n123.obj.equals((e1*e2*e3).obj)\n",
        "display(n123)"
      ]
    },
    {
      "cell_type": "markdown",
      "metadata": {},
      "source": [
        "### Orbit Rotor and Meridian Plane\n",
        "\n",
        "Earth orbit rotor $R_\\sigma$, and vector parallel to rays of sunshine, $s$."
      ]
    },
    {
      "cell_type": "code",
      "execution_count": 8,
      "metadata": {},
      "outputs": [
        {
          "data": {
            "text/latex": [
              "$\\displaystyle \n",
              "        \\begin{equation}\n",
              "            s = \\cos{\\left (\\sigma  \\right )} \\boldsymbol{e}_{1} + \\sin{\\left (\\sigma  \\right )} \\boldsymbol{e}_{2} \\nonumber\n",
              "        \\end{equation}\n",
              "        $"
            ],
            "text/plain": [
              "<IPython.core.display.Math object>"
            ]
          },
          "execution_count": 8,
          "metadata": {},
          "output_type": "execute_result"
        }
      ],
      "source": [
        "s = rotate(e1, sigma, e1^e2).trigsimp()\n",
        "print_eq(\"s\", s)"
      ]
    },
    {
      "cell_type": "markdown",
      "metadata": {},
      "source": [
        "The meridian plane, $M$."
      ]
    },
    {
      "cell_type": "code",
      "execution_count": 9,
      "metadata": {},
      "outputs": [
        {
          "data": {
            "text/latex": [
              "$\\displaystyle \n",
              "        \\begin{equation}\n",
              "            M = \\sin{\\left (\\alpha  \\right )} \\sin{\\left (\\psi  \\right )} \\boldsymbol{e}_{1}\\wedge \\boldsymbol{e}_{2} + \\cos{\\left (\\psi  \\right )} \\boldsymbol{e}_{1}\\wedge \\boldsymbol{e}_{3} + \\sin{\\left (\\psi  \\right )} \\cos{\\left (\\alpha  \\right )} \\boldsymbol{e}_{2}\\wedge \\boldsymbol{e}_{3} \\nonumber\n",
              "        \\end{equation}\n",
              "        $"
            ],
            "text/plain": [
              "<IPython.core.display.Math object>"
            ]
          },
          "execution_count": 9,
          "metadata": {},
          "output_type": "execute_result"
        }
      ],
      "source": [
        "M = (n1^n3).trigsimp()\n",
        "print_eq(\"M\", M)"
      ]
    },
    {
      "cell_type": "markdown",
      "metadata": {},
      "source": [
        "The noon line is the intersection of the sunshine vector $s$ and the meridian plane $M$, which occurs where $s \\wedge M$ vanishes."
      ]
    },
    {
      "cell_type": "code",
      "execution_count": 10,
      "metadata": {},
      "outputs": [
        {
          "data": {
            "text/latex": [
              "$\\displaystyle \\left ( \\sin{\\left (\\psi  \\right )} \\cos{\\left (\\alpha  \\right )} \\cos{\\left (\\sigma  \\right )} - \\sin{\\left (\\sigma  \\right )} \\cos{\\left (\\psi  \\right )}\\right ) \\boldsymbol{e}_{1}\\wedge \\boldsymbol{e}_{2}\\wedge \\boldsymbol{e}_{3}$"
            ],
            "text/plain": [
              "<IPython.core.display.Math object>"
            ]
          },
          "execution_count": 10,
          "metadata": {},
          "output_type": "execute_result"
        }
      ],
      "source": [
        "display( (s^M).trigsimp() )"
      ]
    },
    {
      "cell_type": "code",
      "execution_count": 11,
      "metadata": {},
      "outputs": [
        {
          "data": {
            "text/latex": [
              "$\\displaystyle \n",
              "        \\begin{equation}\n",
              "            \\tan(\\psi) = \\frac{\\tan{\\left (\\sigma  \\right )}}{\\cos{\\left (\\alpha  \\right )}} \\nonumber\n",
              "        \\end{equation}\n",
              "        $"
            ],
            "text/plain": [
              "<IPython.core.display.Math object>"
            ]
          },
          "execution_count": 11,
          "metadata": {},
          "output_type": "execute_result"
        }
      ],
      "source": [
        "coeff = (s^M).trigsimp().get_coefs(3)[0]\n",
        "soln = sp.solve(coeff.subs(sin(psi), tan(psi)*cos(psi)), tan(psi))[0]\n",
        "\n",
        "assert soln.equals(tan(sigma)/cos(alpha))\n",
        "print_eq( r\"\\tan(\\psi)\", soln )"
      ]
    },
    {
      "cell_type": "markdown",
      "metadata": {},
      "source": [
        "### Dial face and gnomon\n",
        "\n",
        "Define an orthonormal frame $u_1, u_2, u_3$ as the unevaluated version of $n_1, n_2, n_3$.\n",
        "\n",
        "![](https://raw.githubusercontent.com/russellgoyder/sundial-latex/main/figs/DialFrame.png?token=GHSAT0AAAAAAB73Q3JNJN46TIEHP3QCWWGYZAWGADA \"Frame embedded in the sundial's face.\").\n"
      ]
    },
    {
      "cell_type": "code",
      "execution_count": 12,
      "metadata": {},
      "outputs": [
        {
          "data": {
            "text/latex": [
              "$\\displaystyle  \\boldsymbol{u}_{1}\\wedge \\boldsymbol{u}_{2}\\wedge \\boldsymbol{u}_{3}$"
            ],
            "text/plain": [
              "<IPython.core.display.Math object>"
            ]
          },
          "execution_count": 12,
          "metadata": {},
          "output_type": "execute_result"
        }
      ],
      "source": [
        "G3u = Ga('u', g=[1,1,1], coords=coords)\n",
        "\n",
        "(u1, u2, u3) = G3u.mv()\n",
        "U = u1^u2^u3\n",
        "display(U)"
      ]
    },
    {
      "cell_type": "markdown",
      "metadata": {},
      "source": [
        "Dial face expressed relative to $u$ basis: $G_u$."
      ]
    },
    {
      "cell_type": "code",
      "execution_count": 13,
      "metadata": {},
      "outputs": [
        {
          "data": {
            "text/latex": [
              "$\\displaystyle \n",
              "        \\begin{equation}\n",
              "            G_u = \\cos{\\left (i \\right )} \\boldsymbol{u}_{1}\\wedge \\boldsymbol{u}_{2} + \\sin{\\left (d \\right )} \\sin{\\left (i \\right )} \\boldsymbol{u}_{1}\\wedge \\boldsymbol{u}_{3} - \\sin{\\left (i \\right )} \\cos{\\left (d \\right )} \\boldsymbol{u}_{2}\\wedge \\boldsymbol{u}_{3} \\nonumber\n",
              "        \\end{equation}\n",
              "        $"
            ],
            "text/plain": [
              "<IPython.core.display.Math object>"
            ]
          },
          "execution_count": 13,
          "metadata": {},
          "output_type": "execute_result"
        }
      ],
      "source": [
        "Gu = rotate(rotate(u1^u2, i, u1^u3), d, u1^u2).trigsimp()\n",
        "print_eq( \"G_u\", Gu)"
      ]
    },
    {
      "cell_type": "markdown",
      "metadata": {},
      "source": [
        "Frame embedded in dial face."
      ]
    },
    {
      "cell_type": "code",
      "execution_count": 14,
      "metadata": {},
      "outputs": [
        {
          "data": {
            "text/latex": [
              "$\\displaystyle \n",
              "            \\begin{align}\n",
              "            m_1 &= \\cos{\\left (d \\right )} \\cos{\\left (i \\right )} \\boldsymbol{u}_{1} + \\sin{\\left (d \\right )} \\cos{\\left (i \\right )} \\boldsymbol{u}_{2} + \\sin{\\left (i \\right )} \\boldsymbol{u}_{3} \\nonumber \\\\\n",
              "            m_2 &= - \\sin{\\left (d \\right )} \\boldsymbol{u}_{1} + \\cos{\\left (d \\right )} \\boldsymbol{u}_{2} \\nonumber \\\\\n",
              "            m_3 &= - \\sin{\\left (i \\right )} \\cos{\\left (d \\right )} \\boldsymbol{u}_{1} - \\sin{\\left (d \\right )} \\sin{\\left (i \\right )} \\boldsymbol{u}_{2} + \\cos{\\left (i \\right )} \\boldsymbol{u}_{3} \\nonumber\n",
              "            \\end{align}\n",
              "            $"
            ],
            "text/plain": [
              "<IPython.core.display.Math object>"
            ]
          },
          "execution_count": 14,
          "metadata": {},
          "output_type": "execute_result"
        }
      ],
      "source": [
        "m1 = rotate(rotate(u1, i, u1^u3), d, u1^u2).trigsimp()\n",
        "m2 = rotate(rotate(u2, i, u1^u3), d, u1^u2)\n",
        "m3 = rotate(rotate(u3, i, u1^u3), d, u1^u2).trigsimp()\n",
        "\n",
        "print_3frame((m1,m2,m3), \"m\")"
      ]
    },
    {
      "cell_type": "markdown",
      "metadata": {},
      "source": [
        "The gnomon expressed relative to the $u$ frame, $g_u$.\n",
        "\n",
        "![](https://raw.githubusercontent.com/russellgoyder/sundial-latex/main/figs/Gnomon.png?token=GHSAT0AAAAAAB73Q3JNHJMDP6T55SWPTQFGZAWGBNA \"The gnomon.\").\n"
      ]
    },
    {
      "cell_type": "code",
      "execution_count": 15,
      "metadata": {},
      "outputs": [
        {
          "data": {
            "text/latex": [
              "$\\displaystyle \n",
              "        \\begin{equation}\n",
              "            g_u = - \\sin{\\left (\\iota  \\right )} \\left(\\sin{\\left (\\delta  \\right )} \\boldsymbol{u}_{2} + \\cos{\\left (\\delta  \\right )} \\boldsymbol{u}_{1}\\right) + \\cos{\\left (\\iota  \\right )} \\boldsymbol{u}_{3} \\nonumber\n",
              "        \\end{equation}\n",
              "        $"
            ],
            "text/plain": [
              "<IPython.core.display.Math object>"
            ]
          },
          "execution_count": 15,
          "metadata": {},
          "output_type": "execute_result"
        }
      ],
      "source": [
        "gu = rotate(rotate(u3, iota, u1^u3), delta, u1^u2).trigsimp()\n",
        "\n",
        "# extra manipulation to display exactly as in paper\n",
        "print_eq(\"g_u\", sp.collect(sp.trigsimp(gu.obj), -sin(iota)))"
      ]
    },
    {
      "cell_type": "markdown",
      "metadata": {},
      "source": [
        "Projected onto the fixed-stars basis, the gnomon is"
      ]
    },
    {
      "cell_type": "code",
      "execution_count": 16,
      "metadata": {},
      "outputs": [
        {
          "data": {
            "text/latex": [
              "$\\displaystyle \n",
              "            \\begin{align}\n",
              "            g & = - \\sin{\\left (\\alpha  \\right )} \\sin{\\left (\\iota  \\right )} \\sin{\\left (\\theta  \\right )} \\cos{\\left (\\delta  \\right )} - \\sin{\\left (\\alpha  \\right )} \\cos{\\left (\\iota  \\right )} \\cos{\\left (\\theta  \\right )} + \\sin{\\left (\\delta  \\right )} \\sin{\\left (\\iota  \\right )} \\sin{\\left (\\psi  \\right )} \\cos{\\left (\\alpha  \\right )} - \\sin{\\left (\\iota  \\right )} \\cos{\\left (\\alpha  \\right )} \\cos{\\left (\\delta  \\right )} \\cos{\\left (\\psi  \\right )} \\cos{\\left (\\theta  \\right )} + \\sin{\\left (\\theta  \\right )} \\cos{\\left (\\alpha  \\right )} \\cos{\\left (\\iota  \\right )} \\cos{\\left (\\psi  \\right )} e_1 \\nonumber \\\\\n",
              "            & + - \\sin{\\left (\\delta  \\right )} \\sin{\\left (\\iota  \\right )} \\cos{\\left (\\psi  \\right )} - \\sin{\\left (\\iota  \\right )} \\sin{\\left (\\psi  \\right )} \\cos{\\left (\\delta  \\right )} \\cos{\\left (\\theta  \\right )} + \\sin{\\left (\\psi  \\right )} \\sin{\\left (\\theta  \\right )} \\cos{\\left (\\iota  \\right )} e_2 \\nonumber \\\\\n",
              "            & + \\sin{\\left (\\alpha  \\right )} \\sin{\\left (\\delta  \\right )} \\sin{\\left (\\iota  \\right )} \\sin{\\left (\\psi  \\right )} - \\sin{\\left (\\alpha  \\right )} \\sin{\\left (\\iota  \\right )} \\cos{\\left (\\delta  \\right )} \\cos{\\left (\\psi  \\right )} \\cos{\\left (\\theta  \\right )} + \\sin{\\left (\\alpha  \\right )} \\sin{\\left (\\theta  \\right )} \\cos{\\left (\\iota  \\right )} \\cos{\\left (\\psi  \\right )} + \\sin{\\left (\\iota  \\right )} \\sin{\\left (\\theta  \\right )} \\cos{\\left (\\alpha  \\right )} \\cos{\\left (\\delta  \\right )} + \\cos{\\left (\\alpha  \\right )} \\cos{\\left (\\iota  \\right )} \\cos{\\left (\\theta  \\right )} e_3 \\nonumber\n",
              "            \\end{align}\n",
              "            $"
            ],
            "text/plain": [
              "<IPython.core.display.Math object>"
            ]
          },
          "execution_count": 16,
          "metadata": {},
          "output_type": "execute_result"
        }
      ],
      "source": [
        "g = sum([ c*ni for c, ni in zip(gu.get_coefs(1),[n1, n2, n3])])\n",
        "g = g.trigsimp()\n",
        "\n",
        "# would like to use .Fmt(3) but having rendering issues\n",
        "def print_vec(lhs, vec, symbol=\"e\", func=lambda x: x):\n",
        "    coeffs = vec.get_coefs(1)\n",
        "    return Math(fr'''\n",
        "            \\begin{{align}}\n",
        "            {lhs} & = {latex(func(coeffs[0]))} {symbol}_1 \\nonumber \\\\\n",
        "            & + {latex(func(coeffs[1]))} {symbol}_2 \\nonumber \\\\\n",
        "            & + {latex(func(coeffs[2]))} {symbol}_3 \\nonumber\n",
        "            \\end{{align}}\n",
        "            ''')\n",
        "\n",
        "print_vec(\"g\", g)"
      ]
    },
    {
      "cell_type": "markdown",
      "metadata": {},
      "source": [
        "The gnomon lies in the meridian plane when the following trivector vanishes:"
      ]
    },
    {
      "cell_type": "code",
      "execution_count": 17,
      "metadata": {},
      "outputs": [
        {
          "data": {
            "text/latex": [
              "$\\displaystyle \\sin{\\left (\\delta  \\right )} \\sin{\\left (\\iota  \\right )} \\boldsymbol{e}_{1}\\wedge \\boldsymbol{e}_{2}\\wedge \\boldsymbol{e}_{3}$"
            ],
            "text/plain": [
              "<IPython.core.display.Math object>"
            ]
          },
          "execution_count": 17,
          "metadata": {},
          "output_type": "execute_result"
        }
      ],
      "source": [
        "M_wedge_g = M^g\n",
        "assert M_wedge_g.obj.trigsimp().equals((sin(delta)*sin(iota)*e1^e2^e3).obj)\n",
        "display( M_wedge_g )"
      ]
    },
    {
      "cell_type": "markdown",
      "metadata": {},
      "source": [
        "Will also want $s$ on the $n$ frame"
      ]
    },
    {
      "cell_type": "code",
      "execution_count": 18,
      "metadata": {},
      "outputs": [
        {
          "data": {
            "text/latex": [
              "$\\displaystyle \n",
              "            \\begin{align}\n",
              "            s_u & = \\sin{\\left (\\alpha  \\right )} \\sin{\\left (\\theta  \\right )} \\cos{\\left (\\sigma  \\right )} + \\sin{\\left (\\psi  \\right )} \\sin{\\left (\\sigma  \\right )} \\cos{\\left (\\theta  \\right )} + \\cos{\\left (\\alpha  \\right )} \\cos{\\left (\\psi  \\right )} \\cos{\\left (\\sigma  \\right )} \\cos{\\left (\\theta  \\right )} u_1 \\nonumber \\\\\n",
              "            & + - \\sin{\\left (\\psi  \\right )} \\cos{\\left (\\alpha  \\right )} \\cos{\\left (\\sigma  \\right )} + \\sin{\\left (\\sigma  \\right )} \\cos{\\left (\\psi  \\right )} u_2 \\nonumber \\\\\n",
              "            & + - \\sin{\\left (\\alpha  \\right )} \\cos{\\left (\\sigma  \\right )} \\cos{\\left (\\theta  \\right )} + \\sin{\\left (\\psi  \\right )} \\sin{\\left (\\sigma  \\right )} \\sin{\\left (\\theta  \\right )} + \\sin{\\left (\\theta  \\right )} \\cos{\\left (\\alpha  \\right )} \\cos{\\left (\\psi  \\right )} \\cos{\\left (\\sigma  \\right )} u_3 \\nonumber\n",
              "            \\end{align}\n",
              "            $"
            ],
            "text/plain": [
              "<IPython.core.display.Math object>"
            ]
          },
          "execution_count": 18,
          "metadata": {},
          "output_type": "execute_result"
        }
      ],
      "source": [
        "coeffs = [sp.trigsimp((s|c).obj) for c in [n1, n2, n3]]\n",
        "su = sum([coeff*vec for coeff, vec in zip(coeffs, [u1, u2, u3])])\n",
        "print_vec(\"s_u\", su, \"u\")\n"
      ]
    },
    {
      "cell_type": "markdown",
      "metadata": {},
      "source": [
        "## The Calculation\n",
        "\n",
        "The calculation proceeds by defining $S = s \\wedge g$, the plane containing the sunshine vector and the gnomon. Its magnitude is the (negative) cosine of the angle bewteen $s$ and $g$. Then we can obtain a generalized solar hour angle $\\mu$ as the angle between $S$ and $M$, given by\n",
        "\n",
        "$$\\cos(\\mu) = \\frac{-S\\cdot M}{\\sqrt{-S^2}\\sqrt{-M^2}} = \\frac{-S\\cdot M}{\\sin(\\Xi)}$$\n",
        "\n",
        "given that $M^2=-1$. In anticipation of setting $\\delta =0$, I will apply $\\delta$ as a subscript to these quantities for now."
      ]
    },
    {
      "cell_type": "code",
      "execution_count": 19,
      "metadata": {},
      "outputs": [
        {
          "data": {
            "text/latex": [
              "$\\displaystyle \n",
              "            \\begin{align}\n",
              "            S_\\delta & = \\sin{\\left (\\alpha  \\right )} \\sin{\\left (\\iota  \\right )} \\sin{\\left (\\sigma  \\right )} \\sin{\\left (\\theta  \\right )} \\cos{\\left (\\delta  \\right )} + \\sin{\\left (\\alpha  \\right )} \\sin{\\left (\\sigma  \\right )} \\cos{\\left (\\iota  \\right )} \\cos{\\left (\\theta  \\right )} - \\sin{\\left (\\delta  \\right )} \\sin{\\left (\\iota  \\right )} \\sin{\\left (\\psi  \\right )} \\sin{\\left (\\sigma  \\right )} \\cos{\\left (\\alpha  \\right )} - \\sin{\\left (\\delta  \\right )} \\sin{\\left (\\iota  \\right )} \\cos{\\left (\\psi  \\right )} \\cos{\\left (\\sigma  \\right )} - \\sin{\\left (\\iota  \\right )} \\sin{\\left (\\psi  \\right )} \\cos{\\left (\\delta  \\right )} \\cos{\\left (\\sigma  \\right )} \\cos{\\left (\\theta  \\right )} + \\sin{\\left (\\iota  \\right )} \\sin{\\left (\\sigma  \\right )} \\cos{\\left (\\alpha  \\right )} \\cos{\\left (\\delta  \\right )} \\cos{\\left (\\psi  \\right )} \\cos{\\left (\\theta  \\right )} + \\sin{\\left (\\psi  \\right )} \\sin{\\left (\\theta  \\right )} \\cos{\\left (\\iota  \\right )} \\cos{\\left (\\sigma  \\right )} - \\sin{\\left (\\sigma  \\right )} \\sin{\\left (\\theta  \\right )} \\cos{\\left (\\alpha  \\right )} \\cos{\\left (\\iota  \\right )} \\cos{\\left (\\psi  \\right )} e_1 \\wedge e_2 \\nonumber \\\\\n",
              "            & + \\sin{\\left (\\alpha  \\right )} \\sin{\\left (\\delta  \\right )} \\sin{\\left (\\iota  \\right )} \\sin{\\left (\\psi  \\right )} \\cos{\\left (\\sigma  \\right )} - \\sin{\\left (\\alpha  \\right )} \\sin{\\left (\\iota  \\right )} \\cos{\\left (\\delta  \\right )} \\cos{\\left (\\psi  \\right )} \\cos{\\left (\\sigma  \\right )} \\cos{\\left (\\theta  \\right )} + \\sin{\\left (\\alpha  \\right )} \\sin{\\left (\\theta  \\right )} \\cos{\\left (\\iota  \\right )} \\cos{\\left (\\psi  \\right )} \\cos{\\left (\\sigma  \\right )} + \\sin{\\left (\\iota  \\right )} \\sin{\\left (\\theta  \\right )} \\cos{\\left (\\alpha  \\right )} \\cos{\\left (\\delta  \\right )} \\cos{\\left (\\sigma  \\right )} + \\cos{\\left (\\alpha  \\right )} \\cos{\\left (\\iota  \\right )} \\cos{\\left (\\sigma  \\right )} \\cos{\\left (\\theta  \\right )} e_1 \\wedge e_3 \\nonumber \\\\\n",
              "            & + \\sin{\\left (\\alpha  \\right )} \\sin{\\left (\\delta  \\right )} \\sin{\\left (\\iota  \\right )} \\sin{\\left (\\psi  \\right )} \\sin{\\left (\\sigma  \\right )} - \\sin{\\left (\\alpha  \\right )} \\sin{\\left (\\iota  \\right )} \\sin{\\left (\\sigma  \\right )} \\cos{\\left (\\delta  \\right )} \\cos{\\left (\\psi  \\right )} \\cos{\\left (\\theta  \\right )} + \\sin{\\left (\\alpha  \\right )} \\sin{\\left (\\sigma  \\right )} \\sin{\\left (\\theta  \\right )} \\cos{\\left (\\iota  \\right )} \\cos{\\left (\\psi  \\right )} + \\sin{\\left (\\iota  \\right )} \\sin{\\left (\\sigma  \\right )} \\sin{\\left (\\theta  \\right )} \\cos{\\left (\\alpha  \\right )} \\cos{\\left (\\delta  \\right )} + \\sin{\\left (\\sigma  \\right )} \\cos{\\left (\\alpha  \\right )} \\cos{\\left (\\iota  \\right )} \\cos{\\left (\\theta  \\right )} e_2 \\wedge e_3 \\nonumber\n",
              "            \\end{align}\n",
              "            $"
            ],
            "text/plain": [
              "<IPython.core.display.Math object>"
            ]
          },
          "execution_count": 19,
          "metadata": {},
          "output_type": "execute_result"
        }
      ],
      "source": [
        "S_delta = s^g\n",
        "\n",
        "def print_bivec(lhs, bivec, symbol=\"e\"):\n",
        "    coeffs = bivec.get_coefs(2)\n",
        "    return Math(fr'''\n",
        "            \\begin{{align}}\n",
        "            {lhs} & = {latex(coeffs[0])} {symbol}_1 \\wedge {symbol}_2 \\nonumber \\\\\n",
        "            & + {latex(coeffs[1])} {symbol}_1 \\wedge {symbol}_3 \\nonumber \\\\\n",
        "            & + {latex(coeffs[2])} {symbol}_2 \\wedge {symbol}_3 \\nonumber\n",
        "            \\end{{align}}\n",
        "            ''')\n",
        "\n",
        "print_bivec(\"S_\\delta\", S_delta)"
      ]
    },
    {
      "cell_type": "markdown",
      "metadata": {},
      "source": [
        "Angle $\\Xi$ between sun ray and gnomon:"
      ]
    },
    {
      "cell_type": "code",
      "execution_count": 20,
      "metadata": {},
      "outputs": [
        {
          "data": {
            "text/latex": [
              "$\\displaystyle \n",
              "        \\begin{equation}\n",
              "            \\cos(\\Xi_\\delta) = \\left(- \\sin{\\left (\\delta  \\right )} \\sin{\\left (\\iota  \\right )} \\cos{\\left (\\psi  \\right )} - \\sin{\\left (\\iota  \\right )} \\sin{\\left (\\psi  \\right )} \\cos{\\left (\\delta  \\right )} \\cos{\\left (\\theta  \\right )} + \\sin{\\left (\\psi  \\right )} \\sin{\\left (\\theta  \\right )} \\cos{\\left (\\iota  \\right )}\\right) \\sin{\\left (\\sigma  \\right )} + \\left(- \\sin{\\left (\\alpha  \\right )} \\sin{\\left (\\iota  \\right )} \\sin{\\left (\\theta  \\right )} \\cos{\\left (\\delta  \\right )} - \\sin{\\left (\\alpha  \\right )} \\cos{\\left (\\iota  \\right )} \\cos{\\left (\\theta  \\right )} + \\sin{\\left (\\delta  \\right )} \\sin{\\left (\\iota  \\right )} \\sin{\\left (\\psi  \\right )} \\cos{\\left (\\alpha  \\right )} - \\sin{\\left (\\iota  \\right )} \\cos{\\left (\\alpha  \\right )} \\cos{\\left (\\delta  \\right )} \\cos{\\left (\\psi  \\right )} \\cos{\\left (\\theta  \\right )} + \\sin{\\left (\\theta  \\right )} \\cos{\\left (\\alpha  \\right )} \\cos{\\left (\\iota  \\right )} \\cos{\\left (\\psi  \\right )}\\right) \\cos{\\left (\\sigma  \\right )} \\nonumber\n",
              "        \\end{equation}\n",
              "        $"
            ],
            "text/plain": [
              "<IPython.core.display.Math object>"
            ]
          },
          "execution_count": 20,
          "metadata": {},
          "output_type": "execute_result"
        }
      ],
      "source": [
        "cosXi_delta = sp.trigsimp((s|g).obj)\n",
        "print_eq(r\"\\cos(\\Xi_\\delta)\", cosXi_delta)"
      ]
    },
    {
      "cell_type": "markdown",
      "metadata": {},
      "source": [
        "Hour angle $\\mu$:"
      ]
    },
    {
      "cell_type": "code",
      "execution_count": 21,
      "metadata": {},
      "outputs": [
        {
          "data": {
            "text/latex": [
              "$\\displaystyle \n",
              "        \\begin{equation}\n",
              "            \\sin(\\Xi_\\delta) \\cos(\\mu_\\delta) = - \\sin{\\left (\\alpha  \\right )} \\sin{\\left (\\iota  \\right )} \\cos{\\left (\\delta  \\right )} \\cos{\\left (\\sigma  \\right )} \\cos{\\left (\\theta  \\right )} + \\sin{\\left (\\alpha  \\right )} \\sin{\\left (\\theta  \\right )} \\cos{\\left (\\iota  \\right )} \\cos{\\left (\\sigma  \\right )} + \\sin{\\left (\\iota  \\right )} \\sin{\\left (\\psi  \\right )} \\sin{\\left (\\sigma  \\right )} \\sin{\\left (\\theta  \\right )} \\cos{\\left (\\delta  \\right )} + \\sin{\\left (\\iota  \\right )} \\sin{\\left (\\theta  \\right )} \\cos{\\left (\\alpha  \\right )} \\cos{\\left (\\delta  \\right )} \\cos{\\left (\\psi  \\right )} \\cos{\\left (\\sigma  \\right )} + \\sin{\\left (\\psi  \\right )} \\sin{\\left (\\sigma  \\right )} \\cos{\\left (\\iota  \\right )} \\cos{\\left (\\theta  \\right )} + \\cos{\\left (\\alpha  \\right )} \\cos{\\left (\\iota  \\right )} \\cos{\\left (\\psi  \\right )} \\cos{\\left (\\sigma  \\right )} \\cos{\\left (\\theta  \\right )} \\nonumber\n",
              "        \\end{equation}\n",
              "        $"
            ],
            "text/plain": [
              "<IPython.core.display.Math object>"
            ]
          },
          "execution_count": 21,
          "metadata": {},
          "output_type": "execute_result"
        }
      ],
      "source": [
        "sinXi_cos_mu_delta = sp.trigsimp(-(S_delta|M).obj)\n",
        "\n",
        "print_eq( r\"\\sin(\\Xi_\\delta) \\cos(\\mu_\\delta)\", sinXi_cos_mu_delta )"
      ]
    },
    {
      "cell_type": "markdown",
      "metadata": {},
      "source": [
        "### A Simplifying Assumption\n",
        "\n",
        "While $\\sin(\\Xi)\\cos(\\mu)$ is available in closed form, I have not been able to factorize $\\sin(\\Xi)\\sin(\\mu) = \\sqrt{1-\\sin^2(\\Xi)\\cos^2(\\mu)}$. While we can always proceed numerically, there is a nice factorization available in the case where the gnomon's declination angle $\\delta$ is zero, so that it remains in the $n_1 \\wedge n_3$ plane, so I will work in that case from here."
      ]
    },
    {
      "cell_type": "code",
      "execution_count": 22,
      "metadata": {},
      "outputs": [
        {
          "data": {
            "text/latex": [
              "$\\displaystyle \n",
              "        \\begin{equation}\n",
              "            g_u = - \\sin{\\left (\\iota  \\right )} \\boldsymbol{u}_{1} + \\cos{\\left (\\iota  \\right )} \\boldsymbol{u}_{3} \\nonumber\n",
              "        \\end{equation}\n",
              "        $"
            ],
            "text/plain": [
              "<IPython.core.display.Math object>"
            ]
          },
          "execution_count": 22,
          "metadata": {},
          "output_type": "execute_result"
        }
      ],
      "source": [
        "gu_delta = gu\n",
        "gu = gu.subs(delta, 0)\n",
        "print_eq( \"g_u\", gu)"
      ]
    },
    {
      "cell_type": "code",
      "execution_count": 23,
      "metadata": {},
      "outputs": [
        {
          "data": {
            "text/latex": [
              "$\\displaystyle \n",
              "        \\begin{equation}\n",
              "            g = \\left ( - \\sin{\\left (\\alpha  \\right )} \\cos{\\left (\\iota  - \\theta  \\right )} - \\sin{\\left (\\iota  - \\theta  \\right )} \\cos{\\left (\\alpha  \\right )} \\cos{\\left (\\psi  \\right )}\\right ) \\boldsymbol{e}_{1} - \\sin{\\left (\\psi  \\right )} \\sin{\\left (\\iota  - \\theta  \\right )} \\boldsymbol{e}_{2} + \\left ( - \\sin{\\left (\\alpha  \\right )} \\sin{\\left (\\iota  - \\theta  \\right )} \\cos{\\left (\\psi  \\right )} + \\cos{\\left (\\alpha  \\right )} \\cos{\\left (\\iota  - \\theta  \\right )}\\right ) \\boldsymbol{e}_{3} \\nonumber\n",
              "        \\end{equation}\n",
              "        $"
            ],
            "text/plain": [
              "<IPython.core.display.Math object>"
            ]
          },
          "execution_count": 23,
          "metadata": {},
          "output_type": "execute_result"
        }
      ],
      "source": [
        "g_delta = g\n",
        "g = g.subs(delta, 0)\n",
        "print_eq( \"g\", g)"
      ]
    },
    {
      "cell_type": "markdown",
      "metadata": {},
      "source": [
        "`g.obj` trails behind by one trigsimp"
      ]
    },
    {
      "cell_type": "code",
      "execution_count": 24,
      "metadata": {},
      "outputs": [
        {
          "data": {
            "text/latex": [
              "$\\displaystyle \\left(- \\sin{\\left (\\iota  \\right )} \\sin{\\left (\\psi  \\right )} \\cos{\\left (\\theta  \\right )} + \\sin{\\left (\\psi  \\right )} \\sin{\\left (\\theta  \\right )} \\cos{\\left (\\iota  \\right )}\\right) \\boldsymbol{e}_{2} + \\left(- \\sin{\\left (\\alpha  \\right )} \\sin{\\left (\\iota  \\right )} \\sin{\\left (\\theta  \\right )} - \\sin{\\left (\\alpha  \\right )} \\cos{\\left (\\iota  \\right )} \\cos{\\left (\\theta  \\right )} - \\sin{\\left (\\iota  \\right )} \\cos{\\left (\\alpha  \\right )} \\cos{\\left (\\psi  \\right )} \\cos{\\left (\\theta  \\right )} + \\sin{\\left (\\theta  \\right )} \\cos{\\left (\\alpha  \\right )} \\cos{\\left (\\iota  \\right )} \\cos{\\left (\\psi  \\right )}\\right) \\boldsymbol{e}_{1} + \\left(- \\sin{\\left (\\alpha  \\right )} \\sin{\\left (\\iota  \\right )} \\cos{\\left (\\psi  \\right )} \\cos{\\left (\\theta  \\right )} + \\sin{\\left (\\alpha  \\right )} \\sin{\\left (\\theta  \\right )} \\cos{\\left (\\iota  \\right )} \\cos{\\left (\\psi  \\right )} + \\sin{\\left (\\iota  \\right )} \\sin{\\left (\\theta  \\right )} \\cos{\\left (\\alpha  \\right )} + \\cos{\\left (\\alpha  \\right )} \\cos{\\left (\\iota  \\right )} \\cos{\\left (\\theta  \\right )}\\right) \\boldsymbol{e}_{3}$"
            ],
            "text/plain": [
              "<IPython.core.display.Math object>"
            ]
          },
          "execution_count": 24,
          "metadata": {},
          "output_type": "execute_result"
        }
      ],
      "source": [
        "display( g.obj )"
      ]
    },
    {
      "cell_type": "markdown",
      "metadata": {},
      "source": [
        "Hack: ensure a healthy `g.obj` by reforming $g$ from the result of applying `sympy.trigsimp` to each component individually"
      ]
    },
    {
      "cell_type": "code",
      "execution_count": 25,
      "metadata": {},
      "outputs": [
        {
          "data": {
            "text/latex": [
              "$\\displaystyle \\left ( - \\sin{\\left (\\alpha  \\right )} \\cos{\\left (\\iota  - \\theta  \\right )} - \\sin{\\left (\\iota  - \\theta  \\right )} \\cos{\\left (\\alpha  \\right )} \\cos{\\left (\\psi  \\right )}\\right ) \\boldsymbol{e}_{1} - \\sin{\\left (\\psi  \\right )} \\sin{\\left (\\iota  - \\theta  \\right )} \\boldsymbol{e}_{2} + \\left ( - \\sin{\\left (\\alpha  \\right )} \\sin{\\left (\\iota  - \\theta  \\right )} \\cos{\\left (\\psi  \\right )} + \\cos{\\left (\\alpha  \\right )} \\cos{\\left (\\iota  - \\theta  \\right )}\\right ) \\boldsymbol{e}_{3}$"
            ],
            "text/plain": [
              "<IPython.core.display.Math object>"
            ]
          },
          "execution_count": 25,
          "metadata": {},
          "output_type": "execute_result"
        }
      ],
      "source": [
        "g = sum([sp.trigsimp(coef)*vec for coef, vec in zip(g.get_coefs(1), G3.mv())])\n",
        "display( g )"
      ]
    },
    {
      "cell_type": "code",
      "execution_count": 26,
      "metadata": {},
      "outputs": [
        {
          "data": {
            "text/latex": [
              "$\\displaystyle - \\sin{\\left (\\alpha  \\right )} \\sin{\\left (\\iota  - \\theta  \\right )} \\cos{\\left (\\psi  \\right )} \\boldsymbol{e}_{3} - \\sin{\\left (\\alpha  \\right )} \\cos{\\left (\\iota  - \\theta  \\right )} \\boldsymbol{e}_{1} - \\sin{\\left (\\psi  \\right )} \\sin{\\left (\\iota  - \\theta  \\right )} \\boldsymbol{e}_{2} - \\sin{\\left (\\iota  - \\theta  \\right )} \\cos{\\left (\\alpha  \\right )} \\cos{\\left (\\psi  \\right )} \\boldsymbol{e}_{1} + \\cos{\\left (\\alpha  \\right )} \\cos{\\left (\\iota  - \\theta  \\right )} \\boldsymbol{e}_{3}$"
            ],
            "text/plain": [
              "<IPython.core.display.Math object>"
            ]
          },
          "execution_count": 26,
          "metadata": {},
          "output_type": "execute_result"
        }
      ],
      "source": [
        "# eyeball check:\n",
        "display( g.obj )"
      ]
    },
    {
      "cell_type": "markdown",
      "metadata": {},
      "source": [
        "### The Shadow Plane\n",
        "\n",
        "Setting $\\delta = 0$ in the shadow plane $S = s \\wedge g$ (the plane containing the sunshine vector and the gnomon) gives a more manageable expression."
      ]
    },
    {
      "cell_type": "code",
      "execution_count": 27,
      "metadata": {},
      "outputs": [
        {
          "data": {
            "text/latex": [
              "$\\displaystyle \n",
              "            \\begin{align}\n",
              "            S & = \\sin{\\left (\\alpha  \\right )} \\sin{\\left (\\sigma  \\right )} \\cos{\\left (\\iota  - \\theta  \\right )} - \\sin{\\left (\\psi  \\right )} \\sin{\\left (\\iota  - \\theta  \\right )} \\cos{\\left (\\sigma  \\right )} + \\sin{\\left (\\sigma  \\right )} \\sin{\\left (\\iota  - \\theta  \\right )} \\cos{\\left (\\alpha  \\right )} \\cos{\\left (\\psi  \\right )} e_1 \\wedge e_2 \\nonumber \\\\\n",
              "            & + - \\sin{\\left (\\alpha  \\right )} \\sin{\\left (\\iota  - \\theta  \\right )} \\cos{\\left (\\psi  \\right )} \\cos{\\left (\\sigma  \\right )} + \\cos{\\left (\\alpha  \\right )} \\cos{\\left (\\sigma  \\right )} \\cos{\\left (\\iota  - \\theta  \\right )} e_1 \\wedge e_3 \\nonumber \\\\\n",
              "            & + - \\sin{\\left (\\alpha  \\right )} \\sin{\\left (\\sigma  \\right )} \\sin{\\left (\\iota  - \\theta  \\right )} \\cos{\\left (\\psi  \\right )} + \\sin{\\left (\\sigma  \\right )} \\cos{\\left (\\alpha  \\right )} \\cos{\\left (\\iota  - \\theta  \\right )} e_2 \\wedge e_3 \\nonumber\n",
              "            \\end{align}\n",
              "            $"
            ],
            "text/plain": [
              "<IPython.core.display.Math object>"
            ]
          },
          "execution_count": 27,
          "metadata": {},
          "output_type": "execute_result"
        }
      ],
      "source": [
        "S = s^g\n",
        "\n",
        "print_bivec(\"S\", S)"
      ]
    },
    {
      "cell_type": "markdown",
      "metadata": {},
      "source": [
        "Appl the $\\delta=0$ assumption to the cosine of the angle $\\Xi$ between sun ray and gnomon:"
      ]
    },
    {
      "cell_type": "code",
      "execution_count": 28,
      "metadata": {},
      "outputs": [
        {
          "data": {
            "text/latex": [
              "$\\displaystyle \n",
              "        \\begin{equation}\n",
              "            \\cos(\\Xi) = - \\left(\\sin{\\left (\\alpha  \\right )} \\cos{\\left (\\iota  - \\theta  \\right )} + \\sin{\\left (\\iota  - \\theta  \\right )} \\cos{\\left (\\alpha  \\right )} \\cos{\\left (\\psi  \\right )}\\right) \\cos{\\left (\\sigma  \\right )} - \\sin{\\left (\\psi  \\right )} \\sin{\\left (\\sigma  \\right )} \\sin{\\left (\\iota  - \\theta  \\right )} \\nonumber\n",
              "        \\end{equation}\n",
              "        $"
            ],
            "text/plain": [
              "<IPython.core.display.Math object>"
            ]
          },
          "execution_count": 28,
          "metadata": {},
          "output_type": "execute_result"
        }
      ],
      "source": [
        "cosXi = sp.trigsimp((s|g).obj)\n",
        "print_eq(r\"\\cos(\\Xi)\", cosXi)"
      ]
    },
    {
      "cell_type": "markdown",
      "metadata": {},
      "source": [
        "Check $S^2 = (s\\wedge g)^2 = (s\\cdot g)^2 - s^2 g^2$ where $s^2 = g^2 = 1$. "
      ]
    },
    {
      "cell_type": "code",
      "execution_count": 29,
      "metadata": {},
      "outputs": [
        {
          "data": {
            "text/latex": [
              "$\\displaystyle  0 $"
            ],
            "text/plain": [
              "<IPython.core.display.Math object>"
            ]
          },
          "execution_count": 29,
          "metadata": {},
          "output_type": "execute_result"
        }
      ],
      "source": [
        "sg_squared = (s|g)*(s|g)\n",
        "S_norm_check = (S|S) - ( sg_squared - 1 )\n",
        "assert S_norm_check.obj.equals(0)\n",
        "display( S_norm_check )"
      ]
    },
    {
      "cell_type": "markdown",
      "metadata": {},
      "source": [
        "The magnitude of $S$ is given by $\\sqrt{-S^2} = \\sqrt{1 - (s\\cdot g)^2} = \\sqrt{1 - \\cos^2(\\Xi}) = \\sin^2(\\Xi)$:"
      ]
    },
    {
      "cell_type": "code",
      "execution_count": 30,
      "metadata": {},
      "outputs": [
        {
          "data": {
            "text/latex": [
              "$\\displaystyle \n",
              "        \\begin{equation}\n",
              "            \\sin(\\Xi) = \\sqrt{1 - \\left(\\left(\\sin{\\left (\\psi  \\right )} \\sin{\\left (\\sigma  \\right )} + \\cos{\\left (\\alpha  \\right )} \\cos{\\left (\\psi  \\right )} \\cos{\\left (\\sigma  \\right )}\\right) \\sin{\\left (\\iota  - \\theta  \\right )} + \\sin{\\left (\\alpha  \\right )} \\cos{\\left (\\sigma  \\right )} \\cos{\\left (\\iota  - \\theta  \\right )}\\right)^{2}} \\nonumber\n",
              "        \\end{equation}\n",
              "        $"
            ],
            "text/plain": [
              "<IPython.core.display.Math object>"
            ]
          },
          "execution_count": 30,
          "metadata": {},
          "output_type": "execute_result"
        }
      ],
      "source": [
        "sinXi = sp.sqrt( 1 - ((cos(alpha)*cos(sigma)*cos(psi) + sin(sigma)*sin(psi))*sin(iota-theta) + sin(alpha)*cos(sigma)*cos(iota-theta))**2 )\n",
        "print_eq(\"\\sin(\\Xi)\", sinXi)"
      ]
    },
    {
      "cell_type": "code",
      "execution_count": 31,
      "metadata": {},
      "outputs": [
        {
          "data": {
            "text/latex": [
              "$\\displaystyle  0 $"
            ],
            "text/plain": [
              "<IPython.core.display.Math object>"
            ]
          },
          "execution_count": 31,
          "metadata": {},
          "output_type": "execute_result"
        }
      ],
      "source": [
        "# check\n",
        "sg_check = sinXi**2 - ( 1 - sg_squared )\n",
        "assert sg_check.obj.equals(0)\n",
        "display( sg_check )"
      ]
    },
    {
      "cell_type": "markdown",
      "metadata": {},
      "source": [
        "### The Hour Angle\n",
        "\n",
        "We can now calculate the generalized solar hour angle $\\mu$ (the angle between $S$ and $M$), given by $\\cos(\\mu) = \\frac{-S\\cdot M}{\\sin(\\Xi)}$ and also obtain a nice expression in closed form for $\\sin(\\mu)$.\n"
      ]
    },
    {
      "cell_type": "code",
      "execution_count": 32,
      "metadata": {},
      "outputs": [
        {
          "data": {
            "text/latex": [
              "$\\displaystyle \n",
              "        \\begin{equation}\n",
              "            \\sin(\\Xi) \\cos(\\mu) = - \\sin{\\left (\\alpha  \\right )} \\sin{\\left (\\iota  - \\theta  \\right )} \\cos{\\left (\\sigma  \\right )} + \\sin{\\left (\\psi  \\right )} \\sin{\\left (\\sigma  \\right )} \\cos{\\left (\\iota  - \\theta  \\right )} + \\cos{\\left (\\alpha  \\right )} \\cos{\\left (\\psi  \\right )} \\cos{\\left (\\sigma  \\right )} \\cos{\\left (\\iota  - \\theta  \\right )} \\nonumber\n",
              "        \\end{equation}\n",
              "        $"
            ],
            "text/plain": [
              "<IPython.core.display.Math object>"
            ]
          },
          "execution_count": 32,
          "metadata": {},
          "output_type": "execute_result"
        }
      ],
      "source": [
        "sinXi_cos_mu = sp.trigsimp(-(S|M).obj)\n",
        "\n",
        "print_eq( r\"\\sin(\\Xi) \\cos(\\mu)\", sinXi_cos_mu )"
      ]
    },
    {
      "cell_type": "markdown",
      "metadata": {},
      "source": [
        "From $\\sin^2\\mu + \\cos^2\\mu = 1$ (by hand), we have:"
      ]
    },
    {
      "cell_type": "code",
      "execution_count": 33,
      "metadata": {},
      "outputs": [
        {
          "data": {
            "text/latex": [
              "$\\displaystyle \n",
              "        \\begin{equation}\n",
              "            \\sin(\\Xi) \\sin(\\mu) = \\sin{\\left (\\psi  \\right )} \\cos{\\left (\\alpha  \\right )} \\cos{\\left (\\sigma  \\right )} - \\sin{\\left (\\sigma  \\right )} \\cos{\\left (\\psi  \\right )} \\nonumber\n",
              "        \\end{equation}\n",
              "        $"
            ],
            "text/plain": [
              "<IPython.core.display.Math object>"
            ]
          },
          "execution_count": 33,
          "metadata": {},
          "output_type": "execute_result"
        }
      ],
      "source": [
        "sinXi_sin_mu = cos(alpha)*sin(psi)*cos(sigma) - cos(psi)*sin(sigma)\n",
        "print_eq(\"\\sin(\\Xi) \\sin(\\mu)\", sinXi_sin_mu)"
      ]
    },
    {
      "cell_type": "markdown",
      "metadata": {},
      "source": [
        "Check that $\\sin^2(\\Xi)\\sin^2(\\mu) + \\sin^2(\\Xi)\\cos^2(\\mu) = \\sin^2(\\Xi)$"
      ]
    },
    {
      "cell_type": "code",
      "execution_count": 34,
      "metadata": {},
      "outputs": [
        {
          "data": {
            "text/latex": [
              "$\\displaystyle 0$"
            ],
            "text/plain": [
              "<IPython.core.display.Math object>"
            ]
          },
          "execution_count": 34,
          "metadata": {},
          "output_type": "execute_result"
        }
      ],
      "source": [
        "Xi_check = sp.trigsimp( sp.expand(sinXi_sin_mu**2) + sp.expand(sinXi_cos_mu**2) - sp.expand(sinXi**2) )\n",
        "assert Xi_check.equals(0)\n",
        "display( Xi_check )"
      ]
    },
    {
      "cell_type": "markdown",
      "metadata": {},
      "source": [
        "The ratio gives $\\tan(\\mu)$ as in the paper:"
      ]
    },
    {
      "cell_type": "code",
      "execution_count": 35,
      "metadata": {},
      "outputs": [
        {
          "data": {
            "text/latex": [
              "$\\displaystyle \n",
              "        \\begin{equation}\n",
              "            \\tan(\\mu) = \\frac{\\sin{\\left (\\psi  \\right )} \\cos{\\left (\\alpha  \\right )} - \\cos{\\left (\\psi  \\right )} \\tan{\\left (\\sigma  \\right )}}{\\left(\\sin{\\left (\\psi  \\right )} \\tan{\\left (\\sigma  \\right )} + \\cos{\\left (\\alpha  \\right )} \\cos{\\left (\\psi  \\right )}\\right) \\cos{\\left (\\iota  - \\theta  \\right )} - \\sin{\\left (\\alpha  \\right )} \\sin{\\left (\\iota  - \\theta  \\right )}} \\nonumber\n",
              "        \\end{equation}\n",
              "        $"
            ],
            "text/plain": [
              "<IPython.core.display.Math object>"
            ]
          },
          "execution_count": 35,
          "metadata": {},
          "output_type": "execute_result"
        }
      ],
      "source": [
        "mu_ratio = sinXi_sin_mu / sp.collect(sinXi_cos_mu, cos(iota-theta))\n",
        "print_eq( r\"\\tan(\\mu)\", sp.simplify( mu_ratio.subs(sin(sigma), tan(sigma)*cos(sigma)) ) )"
      ]
    },
    {
      "cell_type": "markdown",
      "metadata": {},
      "source": [
        "Now express $S$ in terms of $\\mu$ on the $\\{n\\}$ basis. First remind myself what $S$ looks like:"
      ]
    },
    {
      "cell_type": "code",
      "execution_count": 36,
      "metadata": {},
      "outputs": [
        {
          "data": {
            "text/latex": [
              "$\\displaystyle \n",
              "            \\begin{align}\n",
              "            S & = \\sin{\\left (\\alpha  \\right )} \\sin{\\left (\\sigma  \\right )} \\cos{\\left (\\iota  - \\theta  \\right )} - \\sin{\\left (\\psi  \\right )} \\sin{\\left (\\iota  - \\theta  \\right )} \\cos{\\left (\\sigma  \\right )} + \\sin{\\left (\\sigma  \\right )} \\sin{\\left (\\iota  - \\theta  \\right )} \\cos{\\left (\\alpha  \\right )} \\cos{\\left (\\psi  \\right )} e_1 \\wedge e_2 \\nonumber \\\\\n",
              "            & + - \\sin{\\left (\\alpha  \\right )} \\sin{\\left (\\iota  - \\theta  \\right )} \\cos{\\left (\\psi  \\right )} \\cos{\\left (\\sigma  \\right )} + \\cos{\\left (\\alpha  \\right )} \\cos{\\left (\\sigma  \\right )} \\cos{\\left (\\iota  - \\theta  \\right )} e_1 \\wedge e_3 \\nonumber \\\\\n",
              "            & + - \\sin{\\left (\\alpha  \\right )} \\sin{\\left (\\sigma  \\right )} \\sin{\\left (\\iota  - \\theta  \\right )} \\cos{\\left (\\psi  \\right )} + \\sin{\\left (\\sigma  \\right )} \\cos{\\left (\\alpha  \\right )} \\cos{\\left (\\iota  - \\theta  \\right )} e_2 \\wedge e_3 \\nonumber\n",
              "            \\end{align}\n",
              "            $"
            ],
            "text/plain": [
              "<IPython.core.display.Math object>"
            ]
          },
          "execution_count": 36,
          "metadata": {},
          "output_type": "execute_result"
        }
      ],
      "source": [
        "print_bivec(\"S\", S)"
      ]
    },
    {
      "cell_type": "markdown",
      "metadata": {},
      "source": [
        "and save nice forms of the $n$ bivectors"
      ]
    },
    {
      "cell_type": "code",
      "execution_count": 37,
      "metadata": {},
      "outputs": [],
      "source": [
        "n12 = mv.Mv(sp.trigsimp(sp.expand_trig((n1^n2).obj)), ga=G3)\n",
        "n13 = mv.Mv(sp.trigsimp(sp.expand_trig((n1^n3).obj)), ga=G3)\n",
        "n23 = mv.Mv(sp.trigsimp(sp.expand_trig((n2^n3).obj)), ga=G3)"
      ]
    },
    {
      "cell_type": "markdown",
      "metadata": {},
      "source": [
        "So now can check each component of S on the $n$ basis"
      ]
    },
    {
      "cell_type": "code",
      "execution_count": 38,
      "metadata": {},
      "outputs": [
        {
          "data": {
            "text/plain": [
              "True"
            ]
          },
          "execution_count": 38,
          "metadata": {},
          "output_type": "execute_result"
        }
      ],
      "source": [
        "Sn_check = (S|n12) + (-sinXi_sin_mu*sin(iota)) == (S|n13) + sinXi_cos_mu == (S|n23) + (-sinXi_sin_mu*cos(iota)) == mv.Mv(0, ga=G3)\n",
        "assert Sn_check\n",
        "Sn_check"
      ]
    },
    {
      "cell_type": "markdown",
      "metadata": {},
      "source": [
        "and confirm S in this form"
      ]
    },
    {
      "cell_type": "code",
      "execution_count": 39,
      "metadata": {},
      "outputs": [
        {
          "data": {
            "text/latex": [
              "$\\displaystyle  0 $"
            ],
            "text/plain": [
              "<IPython.core.display.Math object>"
            ]
          },
          "execution_count": 39,
          "metadata": {},
          "output_type": "execute_result"
        }
      ],
      "source": [
        "S_check = S - (-sinXi_sin_mu*(sin(iota)*n12 + cos(iota)*n23) + sinXi_cos_mu*n13)\n",
        "assert S_check.obj.equals(0)\n",
        "display( S_check )"
      ]
    },
    {
      "cell_type": "markdown",
      "metadata": {},
      "source": [
        "so can capture S in terms of the surface-frame bivectors"
      ]
    },
    {
      "cell_type": "code",
      "execution_count": 40,
      "metadata": {},
      "outputs": [
        {
          "data": {
            "text/latex": [
              "$\\displaystyle \n",
              "        \\begin{equation}\n",
              "            S_u = - \\sin{\\left (\\Xi \\right )} \\sin{\\left (\\iota  \\right )} \\sin{\\left (\\mu  \\right )} \\boldsymbol{u}_{1}\\wedge \\boldsymbol{u}_{2} + \\sin{\\left (\\Xi \\right )} \\cos{\\left (\\mu  \\right )} \\boldsymbol{u}_{1}\\wedge \\boldsymbol{u}_{3} - \\sin{\\left (\\Xi \\right )} \\sin{\\left (\\mu  \\right )} \\cos{\\left (\\iota  \\right )} \\boldsymbol{u}_{2}\\wedge \\boldsymbol{u}_{3} \\nonumber\n",
              "        \\end{equation}\n",
              "        $"
            ],
            "text/plain": [
              "<IPython.core.display.Math object>"
            ]
          },
          "execution_count": 40,
          "metadata": {},
          "output_type": "execute_result"
        }
      ],
      "source": [
        "Xi = sp.Symbol(\"\\Xi\")\n",
        "Su = sin(Xi)*( -sin(mu) * (sin(iota)*(u1^u2) + cos(iota)*(u2^u3)) + cos(mu)*(u1^u3) )\n",
        "print_eq( \"S_u\", Su)"
      ]
    },
    {
      "cell_type": "markdown",
      "metadata": {},
      "source": [
        "Check that $S_u$ and $S$ are really the same thing"
      ]
    },
    {
      "cell_type": "code",
      "execution_count": 41,
      "metadata": {},
      "outputs": [
        {
          "data": {
            "text/latex": [
              "$\\displaystyle  0 $"
            ],
            "text/plain": [
              "<IPython.core.display.Math object>"
            ]
          },
          "execution_count": 41,
          "metadata": {},
          "output_type": "execute_result"
        }
      ],
      "source": [
        "def e_frame(bvec):\n",
        "    \"\"\"\n",
        "    Take a bivector in the GA defined by the surface frame n1, n2, n3 (written as u1, u2, u3)\n",
        "    and express it in the GA defined by the frame of the fixed stars, e1, e2, e3\n",
        "    \"\"\"\n",
        "    coeffs = bvec.get_coefs(2)\n",
        "    return coeffs[0]*n12 + coeffs[1]*n13 + coeffs[2]*n23\n",
        "\n",
        "Su_check = e_frame(Su).subs(sin(mu), sinXi_sin_mu/sin(Xi)).subs(cos(mu), sinXi_cos_mu/sin(Xi)) - S\n",
        "assert Su_check.obj.equals(0)\n",
        "display( Su_check )\n"
      ]
    },
    {
      "cell_type": "markdown",
      "metadata": {},
      "source": [
        "### The Shadow Angle\n",
        "\n",
        "Form a vector parallel to the shadow, as the intersection between $S$ (the plane containing the sun ray and the gnomon) and $G$ (the dial face)"
      ]
    },
    {
      "cell_type": "code",
      "execution_count": 42,
      "metadata": {},
      "outputs": [
        {
          "data": {
            "text/latex": [
              "$\\displaystyle \n",
              "            \\begin{align}\n",
              "            u & = \\sin{\\left (\\Xi \\right )} \\sin{\\left (d \\right )} \\sin{\\left (i \\right )} \\sin{\\left (\\iota  \\right )} \\sin{\\left (\\mu  \\right )} + \\sin{\\left (\\Xi \\right )} \\cos{\\left (i \\right )} \\cos{\\left (\\mu  \\right )} u_1 \\nonumber \\\\\n",
              "            & + - \\sin{\\left (\\Xi \\right )} \\sin{\\left (i \\right )} \\sin{\\left (\\iota  \\right )} \\sin{\\left (\\mu  \\right )} \\cos{\\left (d \\right )} - \\sin{\\left (\\Xi \\right )} \\sin{\\left (\\mu  \\right )} \\cos{\\left (i \\right )} \\cos{\\left (\\iota  \\right )} u_2 \\nonumber \\\\\n",
              "            & + - \\sin{\\left (\\Xi \\right )} \\sin{\\left (d \\right )} \\sin{\\left (i \\right )} \\sin{\\left (\\mu  \\right )} \\cos{\\left (\\iota  \\right )} + \\sin{\\left (\\Xi \\right )} \\sin{\\left (i \\right )} \\cos{\\left (d \\right )} \\cos{\\left (\\mu  \\right )} u_3 \\nonumber\n",
              "            \\end{align}\n",
              "            $"
            ],
            "text/plain": [
              "<IPython.core.display.Math object>"
            ]
          },
          "execution_count": 42,
          "metadata": {},
          "output_type": "execute_result"
        }
      ],
      "source": [
        "u = ((u1^u2^u3) * Gu * Su).get_grade(1).trigsimp()\n",
        "print_vec(\"u\", u, \"u\")"
      ]
    },
    {
      "cell_type": "markdown",
      "metadata": {},
      "source": [
        "Want to normalize $u$ to get $\\hat{u} \\equiv \\hat{w}$, a unit vector parallel to the shadow $w$. Can square and add the above components, but there is a route to a simpler expression as follows.\n",
        "\n",
        "The cosine of the angle between the \"shadow plane\" $S$ (containing the sun ray $s$ and the gnomon $g$) and dial face $G$ is given by\n",
        "\n",
        "$$\\cos(\\Psi) = \\frac{S\\cdot G}{\\sqrt{-S^2}\\sqrt{-G^2}}$$\n",
        "\n",
        "Given that $S^2 = -\\sin^2(\\Xi)$ and $G^2 = -1$,\n",
        "\n",
        "$$ \\cos(\\Psi) = \\frac{S\\cdot G}{\\sin(\\Xi)}$$"
      ]
    },
    {
      "cell_type": "code",
      "execution_count": 43,
      "metadata": {},
      "outputs": [
        {
          "data": {
            "text/latex": [
              "$\\displaystyle \n",
              "        \\begin{equation}\n",
              "            \\cos(\\Psi) = - \\sin{\\left (d \\right )} \\sin{\\left (i \\right )} \\cos{\\left (\\mu  \\right )} - \\sin{\\left (i \\right )} \\sin{\\left (\\mu  \\right )} \\cos{\\left (d \\right )} \\cos{\\left (\\iota  \\right )} + \\sin{\\left (\\iota  \\right )} \\sin{\\left (\\mu  \\right )} \\cos{\\left (i \\right )} \\nonumber\n",
              "        \\end{equation}\n",
              "        $"
            ],
            "text/plain": [
              "<IPython.core.display.Math object>"
            ]
          },
          "execution_count": 43,
          "metadata": {},
          "output_type": "execute_result"
        }
      ],
      "source": [
        "cosPsi = sp.trigsimp(((Su|Gu)/sin(Xi)).obj)\n",
        "print_eq(r\"\\cos(\\Psi)\", cosPsi)"
      ]
    },
    {
      "cell_type": "code",
      "execution_count": 44,
      "metadata": {},
      "outputs": [
        {
          "data": {
            "text/latex": [
              "$\\displaystyle  0 $"
            ],
            "text/plain": [
              "<IPython.core.display.Math object>"
            ]
          },
          "execution_count": 44,
          "metadata": {},
          "output_type": "execute_result"
        }
      ],
      "source": [
        "# check (force sympy to give up the positive square root in each factor in the denominator)\n",
        "SuGu_check = sp.trigsimp((Su|Gu).obj) \\\n",
        "/ sp.powdenest(sp.sqrt(sp.trigsimp((-Su|Su).obj)), force=True) \\\n",
        "/ sp.powdenest(sp.sqrt(sp.trigsimp((-Gu|Gu).obj)), force=True) \\\n",
        "- ((Su|Gu)/sin(Xi))\n",
        "assert SuGu_check.obj.equals(0)\n",
        "display( SuGu_check )"
      ]
    },
    {
      "cell_type": "markdown",
      "metadata": {},
      "source": [
        "Now, the length of $u$ is related to $\\Psi$ as follows.\n",
        "\n",
        "$$u^2 = (I\\; G \\times S)^2 = (\\frac{I}{2}(GS-SG))^2 = -\\frac{1}{4}(GSGS+SGSG-2S^2G^2)$$\n",
        "\n",
        "But\n",
        "\n",
        "$$(S\\cdot G)^2 = \\frac{1}{4}(SG+GS)^2 = \\frac{1}{4}(SGSG+GSGS+2S^2G^2)$$\n",
        "\n",
        "So,\n",
        "\n",
        "$$u^2 = S^2G^2 - (S\\cdot G)^2 = \\sin^2(\\Xi) - (S\\cdot G)^2 = \\sin^2(\\Xi)\\sin^2(\\Psi)$$"
      ]
    },
    {
      "cell_type": "code",
      "execution_count": 45,
      "metadata": {},
      "outputs": [
        {
          "data": {
            "text/latex": [
              "$\\displaystyle  0 $"
            ],
            "text/plain": [
              "<IPython.core.display.Math object>"
            ]
          },
          "execution_count": 45,
          "metadata": {},
          "output_type": "execute_result"
        }
      ],
      "source": [
        "# check\n",
        "u2_check = (u|u) - (sin(Xi)**2 - (Su|Gu)**2)\n",
        "assert u2_check.obj.equals(0)\n",
        "display( u2_check )"
      ]
    },
    {
      "cell_type": "markdown",
      "metadata": {},
      "source": [
        "We can now form $\\hat{w}$ by dividing $u$ by its length"
      ]
    },
    {
      "cell_type": "code",
      "execution_count": 46,
      "metadata": {},
      "outputs": [
        {
          "data": {
            "text/latex": [
              "$\\displaystyle \n",
              "            \\begin{align}\n",
              "            \\hat{w} & = \\frac{\\sin{\\left (d \\right )} \\sin{\\left (i \\right )} \\sin{\\left (\\iota  \\right )} \\sin{\\left (\\mu  \\right )} + \\cos{\\left (i \\right )} \\cos{\\left (\\mu  \\right )}}{\\sin{\\left (\\Psi \\right )}} u_1 \\nonumber \\\\\n",
              "            & + - \\frac{\\left(\\sin{\\left (i \\right )} \\sin{\\left (\\iota  \\right )} \\cos{\\left (d \\right )} + \\cos{\\left (i \\right )} \\cos{\\left (\\iota  \\right )}\\right) \\sin{\\left (\\mu  \\right )}}{\\sin{\\left (\\Psi \\right )}} u_2 \\nonumber \\\\\n",
              "            & + \\frac{\\left(- \\sin{\\left (d \\right )} \\sin{\\left (\\mu  \\right )} \\cos{\\left (\\iota  \\right )} + \\cos{\\left (d \\right )} \\cos{\\left (\\mu  \\right )}\\right) \\sin{\\left (i \\right )}}{\\sin{\\left (\\Psi \\right )}} u_3 \\nonumber\n",
              "            \\end{align}\n",
              "            $"
            ],
            "text/plain": [
              "<IPython.core.display.Math object>"
            ]
          },
          "execution_count": 46,
          "metadata": {},
          "output_type": "execute_result"
        }
      ],
      "source": [
        "Psi = sp.Symbol(\"\\Psi\")\n",
        "what = u/sin(Xi)/sin(Psi)\n",
        "\n",
        "print_vec(r\"\\hat{w}\", what, \"u\", sp.factor)"
      ]
    },
    {
      "cell_type": "markdown",
      "metadata": {},
      "source": [
        "Check that\n",
        "\n",
        "$$\\hat{w}^2 = \\left(\\frac{u}{\\sin(\\Xi)\\sin(\\Psi)}\\right)^2 = 1$$\n",
        "\n",
        "by showing that\n",
        "\n",
        "$$\\frac{u^2}{\\sin^2(\\Xi)} - \\sin^2\\Psi = 0$$"
      ]
    },
    {
      "cell_type": "code",
      "execution_count": 47,
      "metadata": {},
      "outputs": [
        {
          "data": {
            "text/latex": [
              "$\\displaystyle 0$"
            ],
            "text/plain": [
              "<IPython.core.display.Math object>"
            ]
          },
          "execution_count": 47,
          "metadata": {},
          "output_type": "execute_result"
        }
      ],
      "source": [
        "sinPsiSquared = 1 - sp.expand(cosPsi**2)\n",
        "u_over_sinXi_squared = sp.trigsimp(((u|u)/sin(Xi)**2).obj)\n",
        "what_check = sp.trigsimp(u_over_sinXi_squared - sinPsiSquared)\n",
        "assert what_check.equals(0)\n",
        "display( what_check )"
      ]
    },
    {
      "cell_type": "markdown",
      "metadata": {},
      "source": [
        "Get the angular coordinate of the shadow tip relative to noon, call it $\\zeta$. At noon we have $\\mu = 0$"
      ]
    },
    {
      "cell_type": "code",
      "execution_count": 48,
      "metadata": {},
      "outputs": [
        {
          "data": {
            "text/latex": [
              "$\\displaystyle \\sqrt{- {\\sin{\\left (d \\right )}}^{2} {\\sin{\\left (i \\right )}}^{2} + 1}$"
            ],
            "text/plain": [
              "<IPython.core.display.Math object>"
            ]
          },
          "execution_count": 48,
          "metadata": {},
          "output_type": "execute_result"
        }
      ],
      "source": [
        "sinPsi_noon = sp.sqrt(1-cosPsi**2).subs(mu,0)\n",
        "display( sinPsi_noon )"
      ]
    },
    {
      "cell_type": "code",
      "execution_count": 49,
      "metadata": {},
      "outputs": [
        {
          "data": {
            "text/latex": [
              "$\\displaystyle \\frac{\\cos{\\left (i \\right )}}{\\sqrt{- {\\sin{\\left (d \\right )}}^{2} {\\sin{\\left (i \\right )}}^{2} + 1}} \\boldsymbol{u}_{1} + \\frac{\\sin{\\left (i \\right )} \\cos{\\left (d \\right )}}{\\sqrt{- {\\sin{\\left (d \\right )}}^{2} {\\sin{\\left (i \\right )}}^{2} + 1}} \\boldsymbol{u}_{3}$"
            ],
            "text/plain": [
              "<IPython.core.display.Math object>"
            ]
          },
          "execution_count": 49,
          "metadata": {},
          "output_type": "execute_result"
        }
      ],
      "source": [
        "noon = what.subs(sin(Psi),sinPsi_noon).subs(mu,0)\n",
        "display( noon )"
      ]
    },
    {
      "cell_type": "markdown",
      "metadata": {},
      "source": [
        "So $\\cos(\\zeta) = \\hat{w}(\\mu) \\cdot \\hat{w}(0)$"
      ]
    },
    {
      "cell_type": "code",
      "execution_count": 50,
      "metadata": {},
      "outputs": [
        {
          "data": {
            "text/latex": [
              "$\\displaystyle \n",
              "        \\begin{equation}\n",
              "            \\cos(\\zeta) = \\frac{\\left(- {\\sin{\\left (d \\right )}}^{2} {\\sin{\\left (i \\right )}}^{2} + 1\\right) \\cos{\\left (\\mu  \\right )} + \\left(- \\sin{\\left (i \\right )} \\cos{\\left (d \\right )} \\cos{\\left (\\iota  \\right )} + \\sin{\\left (\\iota  \\right )} \\cos{\\left (i \\right )}\\right) \\sin{\\left (d \\right )} \\sin{\\left (i \\right )} \\sin{\\left (\\mu  \\right )}}{\\sqrt{- {\\sin{\\left (d \\right )}}^{2} {\\sin{\\left (i \\right )}}^{2} + 1} \\sin{\\left (\\Psi \\right )}} \\nonumber\n",
              "        \\end{equation}\n",
              "        $"
            ],
            "text/plain": [
              "<IPython.core.display.Math object>"
            ]
          },
          "execution_count": 50,
          "metadata": {},
          "output_type": "execute_result"
        }
      ],
      "source": [
        "cos_zeta = sp.collect(sp.collect(sp.trigsimp((what|noon).obj),sin(mu)*sin(i)*sin(d)),cos(mu))\n",
        "print_eq( r\"\\cos(\\zeta)\", cos_zeta )"
      ]
    },
    {
      "cell_type": "markdown",
      "metadata": {},
      "source": [
        "And easiest route to $\\sin(\\zeta)$ is to use the fact that the shadow lives in the plane of the dial face, so $\\hat{w}(\\mu) \\wedge \\hat{w}(0) = \\sin(\\zeta) G$"
      ]
    },
    {
      "cell_type": "code",
      "execution_count": 51,
      "metadata": {},
      "outputs": [
        {
          "data": {
            "text/latex": [
              "$\\displaystyle \n",
              "        \\begin{equation}\n",
              "            \\sin(\\zeta) = \\frac{\\left(\\sin{\\left (i \\right )} \\sin{\\left (\\iota  \\right )} \\cos{\\left (d \\right )} + \\cos{\\left (i \\right )} \\cos{\\left (\\iota  \\right )}\\right) \\sin{\\left (\\mu  \\right )}}{\\sqrt{- {\\sin{\\left (d \\right )}}^{2} {\\sin{\\left (i \\right )}}^{2} + 1} \\sin{\\left (\\Psi \\right )}} \\nonumber\n",
              "        \\end{equation}\n",
              "        $"
            ],
            "text/plain": [
              "<IPython.core.display.Math object>"
            ]
          },
          "execution_count": 51,
          "metadata": {},
          "output_type": "execute_result"
        }
      ],
      "source": [
        "sin_zeta = -(what ^ noon) | Gu\n",
        "print_eq(r\"\\sin(\\zeta)\", sin_zeta)"
      ]
    },
    {
      "cell_type": "code",
      "execution_count": 52,
      "metadata": {},
      "outputs": [
        {
          "data": {
            "text/latex": [
              "$\\displaystyle \n",
              "        \\begin{equation}\n",
              "            \\tan(\\zeta) = - \\frac{\\left(\\sin{\\left (i \\right )} \\sin{\\left (\\iota  \\right )} \\cos{\\left (d \\right )} + \\cos{\\left (i \\right )} \\cos{\\left (\\iota  \\right )}\\right) \\tan{\\left (\\mu  \\right )}}{{\\sin{\\left (d \\right )}}^{2} {\\sin{\\left (i \\right )}}^{2} + \\sin{\\left (d \\right )} {\\sin{\\left (i \\right )}}^{2} \\cos{\\left (d \\right )} \\cos{\\left (\\iota  \\right )} \\tan{\\left (\\mu  \\right )} - \\sin{\\left (d \\right )} \\sin{\\left (i \\right )} \\sin{\\left (\\iota  \\right )} \\cos{\\left (i \\right )} \\tan{\\left (\\mu  \\right )} - 1} \\nonumber\n",
              "        \\end{equation}\n",
              "        $"
            ],
            "text/plain": [
              "<IPython.core.display.Math object>"
            ]
          },
          "execution_count": 52,
          "metadata": {},
          "output_type": "execute_result"
        }
      ],
      "source": [
        "tan_zeta = (sin_zeta/cos_zeta).subs(sin(mu), tan(mu)*cos(mu))\n",
        "print_eq(r\"\\tan(\\zeta)\", tan_zeta)"
      ]
    },
    {
      "cell_type": "markdown",
      "metadata": {},
      "source": [
        "Check that $\\sin^2(\\zeta) + \\cos^2(\\zeta) = 1$"
      ]
    },
    {
      "cell_type": "code",
      "execution_count": 53,
      "metadata": {},
      "outputs": [
        {
          "data": {
            "image/png": "[encoded data removed]",
            "text/latex": [
              "$\\displaystyle \\frac{- \\sin^{2}{\\left(d \\right)} \\sin^{2}{\\left(i \\right)} \\sin^{2}{\\left(\\iota \\right)} \\sin^{2}{\\left(\\mu \\right)} + 2 \\sin^{2}{\\left(d \\right)} \\sin^{2}{\\left(i \\right)} \\sin^{2}{\\left(\\mu \\right)} - \\sin^{2}{\\left(d \\right)} \\sin^{2}{\\left(i \\right)} - 2 \\sin{\\left(d \\right)} \\sin^{2}{\\left(i \\right)} \\sin{\\left(\\mu \\right)} \\cos{\\left(d \\right)} \\cos{\\left(\\iota \\right)} \\cos{\\left(\\mu \\right)} + 2 \\sin{\\left(d \\right)} \\sin{\\left(i \\right)} \\sin{\\left(\\iota \\right)} \\sin{\\left(\\mu \\right)} \\cos{\\left(i \\right)} \\cos{\\left(\\mu \\right)} + 2 \\sin^{2}{\\left(i \\right)} \\sin^{2}{\\left(\\iota \\right)} \\sin^{2}{\\left(\\mu \\right)} - \\sin^{2}{\\left(i \\right)} \\sin^{2}{\\left(\\mu \\right)} + 2 \\sin{\\left(i \\right)} \\sin{\\left(\\iota \\right)} \\sin^{2}{\\left(\\mu \\right)} \\cos{\\left(d \\right)} \\cos{\\left(i \\right)} \\cos{\\left(\\iota \\right)} - \\sin^{2}{\\left(\\iota \\right)} \\sin^{2}{\\left(\\mu \\right)} + 1}{\\sin^{2}{\\left(\\Psi \\right)}}$"
            ],
            "text/plain": [
              "(-sin(d)**2*sin(i)**2*sin(iota)**2*sin(mu)**2 + 2*sin(d)**2*sin(i)**2*sin(mu)**2 - sin(d)**2*sin(i)**2 - 2*sin(d)*sin(i)**2*sin(mu)*cos(d)*cos(iota)*cos(mu) + 2*sin(d)*sin(i)*sin(iota)*sin(mu)*cos(i)*cos(mu) + 2*sin(i)**2*sin(iota)**2*sin(mu)**2 - sin(i)**2*sin(mu)**2 + 2*sin(i)*sin(iota)*sin(mu)**2*cos(d)*cos(i)*cos(iota) - sin(iota)**2*sin(mu)**2 + 1)/sin(\\Psi)**2"
            ]
          },
          "execution_count": 53,
          "metadata": {},
          "output_type": "execute_result"
        }
      ],
      "source": [
        "sp.simplify(sp.expand( sp.trigsimp(sin_zeta.obj)**2 + cos_zeta**2 ))"
      ]
    },
    {
      "cell_type": "markdown",
      "metadata": {},
      "source": [
        "This is 1 if the numerator is equal to the denominator, and we have an explicit expression for $\\cos(\\Psi) = \\sqrt{1 - \\sin^2(\\Psi)}$. So should get zero from the following:"
      ]
    },
    {
      "cell_type": "code",
      "execution_count": 54,
      "metadata": {},
      "outputs": [
        {
          "data": {
            "text/latex": [
              "$\\displaystyle 0$"
            ],
            "text/plain": [
              "<IPython.core.display.Math object>"
            ]
          },
          "execution_count": 54,
          "metadata": {},
          "output_type": "execute_result"
        }
      ],
      "source": [
        "zeta_check = sp.trigsimp(sp.numer(_) - (1-cosPsi**2))\n",
        "assert zeta_check.equals(0)\n",
        "display( zeta_check )"
      ]
    },
    {
      "cell_type": "markdown",
      "metadata": {},
      "source": [
        "### The Shadow Length\n",
        "\n",
        "We have the angle of the shadow vector $w$. Now find the length. Form $w(p) = g + p*s$ and enforce $w(p) \\wedge G = 0$ (used $\\lambda$ instead of $p$ in the paper but can't here because it's a keyword in Python)."
      ]
    },
    {
      "cell_type": "code",
      "execution_count": 55,
      "metadata": {},
      "outputs": [
        {
          "data": {
            "text/latex": [
              "$\\displaystyle p \\sin{\\left (\\alpha  \\right )} \\sin{\\left (i \\right )} \\sin{\\left (\\theta  \\right )} \\cos{\\left (d \\right )} \\cos{\\left (\\sigma  \\right )} + p \\sin{\\left (\\alpha  \\right )} \\cos{\\left (i \\right )} \\cos{\\left (\\sigma  \\right )} \\cos{\\left (\\theta  \\right )} - p \\sin{\\left (d \\right )} \\sin{\\left (i \\right )} \\sin{\\left (\\psi  \\right )} \\cos{\\left (\\alpha  \\right )} \\cos{\\left (\\sigma  \\right )} + p \\sin{\\left (d \\right )} \\sin{\\left (i \\right )} \\sin{\\left (\\sigma  \\right )} \\cos{\\left (\\psi  \\right )} + p \\sin{\\left (i \\right )} \\sin{\\left (\\psi  \\right )} \\sin{\\left (\\sigma  \\right )} \\cos{\\left (d \\right )} \\cos{\\left (\\theta  \\right )} + p \\sin{\\left (i \\right )} \\cos{\\left (\\alpha  \\right )} \\cos{\\left (d \\right )} \\cos{\\left (\\psi  \\right )} \\cos{\\left (\\sigma  \\right )} \\cos{\\left (\\theta  \\right )} - p \\sin{\\left (\\psi  \\right )} \\sin{\\left (\\sigma  \\right )} \\sin{\\left (\\theta  \\right )} \\cos{\\left (i \\right )} - p \\sin{\\left (\\theta  \\right )} \\cos{\\left (\\alpha  \\right )} \\cos{\\left (i \\right )} \\cos{\\left (\\psi  \\right )} \\cos{\\left (\\sigma  \\right )} - \\sin{\\left (i \\right )} \\sin{\\left (\\iota  \\right )} \\cos{\\left (d \\right )} - \\cos{\\left (i \\right )} \\cos{\\left (\\iota  \\right )}$"
            ],
            "text/plain": [
              "<IPython.core.display.Math object>"
            ]
          },
          "execution_count": 55,
          "metadata": {},
          "output_type": "execute_result"
        }
      ],
      "source": [
        "G = e_frame(Gu)\n",
        "triangle_condition = ((g + p*s)^G) * I\n",
        "display( triangle_condition )"
      ]
    },
    {
      "cell_type": "code",
      "execution_count": 56,
      "metadata": {},
      "outputs": [
        {
          "data": {
            "text/latex": [
              "$\\displaystyle \\frac{\\sin{\\left (i \\right )} \\sin{\\left (\\iota  \\right )} \\cos{\\left (d \\right )} + \\cos{\\left (i \\right )} \\cos{\\left (\\iota  \\right )}}{\\sin{\\left (\\alpha  \\right )} \\sin{\\left (i \\right )} \\sin{\\left (\\theta  \\right )} \\cos{\\left (d \\right )} \\cos{\\left (\\sigma  \\right )} + \\sin{\\left (\\alpha  \\right )} \\cos{\\left (i \\right )} \\cos{\\left (\\sigma  \\right )} \\cos{\\left (\\theta  \\right )} - \\sin{\\left (d \\right )} \\sin{\\left (i \\right )} \\sin{\\left (\\psi  \\right )} \\cos{\\left (\\alpha  \\right )} \\cos{\\left (\\sigma  \\right )} + \\sin{\\left (d \\right )} \\sin{\\left (i \\right )} \\sin{\\left (\\sigma  \\right )} \\cos{\\left (\\psi  \\right )} + \\sin{\\left (i \\right )} \\sin{\\left (\\psi  \\right )} \\sin{\\left (\\sigma  \\right )} \\cos{\\left (d \\right )} \\cos{\\left (\\theta  \\right )} + \\sin{\\left (i \\right )} \\cos{\\left (\\alpha  \\right )} \\cos{\\left (d \\right )} \\cos{\\left (\\psi  \\right )} \\cos{\\left (\\sigma  \\right )} \\cos{\\left (\\theta  \\right )} - \\sin{\\left (\\psi  \\right )} \\sin{\\left (\\sigma  \\right )} \\sin{\\left (\\theta  \\right )} \\cos{\\left (i \\right )} - \\sin{\\left (\\theta  \\right )} \\cos{\\left (\\alpha  \\right )} \\cos{\\left (i \\right )} \\cos{\\left (\\psi  \\right )} \\cos{\\left (\\sigma  \\right )}}$"
            ],
            "text/plain": [
              "<IPython.core.display.Math object>"
            ]
          },
          "execution_count": 56,
          "metadata": {},
          "output_type": "execute_result"
        }
      ],
      "source": [
        "p_soln = sp.solve(sp.trigsimp(triangle_condition.obj), p)[0]\n",
        "display( p_soln )"
      ]
    },
    {
      "cell_type": "markdown",
      "metadata": {},
      "source": [
        "Now to simplify the denominator. Writing $p = \\frac{N}{D}$, we can write $D$ in terms of the hour angle $\\mu$ (and sunray-gnomon angle $\\Xi$) evaluated under the condition $\\iota = \\theta$ and denoted $\\mu_s$ (and $\\Xi_s$). This is true when the gnomon is parallel to the earth's axis, and termed a style, hence the subscript $s$."
      ]
    },
    {
      "cell_type": "code",
      "execution_count": 57,
      "metadata": {},
      "outputs": [
        {
          "data": {
            "text/latex": [
              "$\\displaystyle \n",
              "        \\begin{equation}\n",
              "            D = \\left(\\left(\\sin{\\left (i \\right )} \\cos{\\left (d \\right )} \\cos{\\left (\\theta  \\right )} - \\sin{\\left (\\theta  \\right )} \\cos{\\left (i \\right )}\\right) \\cos{\\left (\\mu_{s} \\right )} - \\sin{\\left (\\mu_{s} \\right )} \\sin{\\left (d \\right )} \\sin{\\left (i \\right )}\\right) \\sin{\\left (\\Xi_{s} \\right )} + \\left(\\sin{\\left (i \\right )} \\sin{\\left (\\theta  \\right )} \\cos{\\left (d \\right )} + \\cos{\\left (i \\right )} \\cos{\\left (\\theta  \\right )}\\right) \\sin{\\left (\\alpha  \\right )} \\cos{\\left (\\sigma  \\right )} \\nonumber\n",
              "        \\end{equation}\n",
              "        $"
            ],
            "text/plain": [
              "<IPython.core.display.Math object>"
            ]
          },
          "execution_count": 57,
          "metadata": {},
          "output_type": "execute_result"
        }
      ],
      "source": [
        "mu_s = sp.Symbol(r\"\\mu_s\")\n",
        "Xi_s = sp.Symbol(r\"\\Xi_s\")\n",
        "D_soln = sin(Xi_s) * ((sin(i)*cos(d)*cos(theta)-cos(i)*sin(theta)) * cos(mu_s) - sin(i)*sin(d)*sin(mu_s)) + sin(alpha)*cos(sigma)*( sin(i)*sin(theta)*cos(d) + cos(i)*cos(theta) )\n",
        "print_eq( \"D\", D_soln )"
      ]
    },
    {
      "cell_type": "code",
      "execution_count": 58,
      "metadata": {},
      "outputs": [
        {
          "data": {
            "text/latex": [
              "$\\displaystyle 0$"
            ],
            "text/plain": [
              "<IPython.core.display.Math object>"
            ]
          },
          "execution_count": 58,
          "metadata": {},
          "output_type": "execute_result"
        }
      ],
      "source": [
        "# check\n",
        "D_explicit = sp.simplify(D_soln.subs(mu_s,mu).subs(Xi_s,Xi).subs(sin(mu),sinXi_sin_mu/sin(Xi)).subs(cos(mu),sinXi_cos_mu/sin(Xi)).subs(iota,theta))\n",
        "D_check = sp.simplify(sp.denom(p_soln) - D_explicit)\n",
        "assert D_check.equals(0)\n",
        "display( D_check )"
      ]
    },
    {
      "cell_type": "markdown",
      "metadata": {},
      "source": [
        "The factorization implicit in the above expression remains when $\\mu_s$ and $\\Xi_s$ are eliminated"
      ]
    },
    {
      "cell_type": "code",
      "execution_count": 59,
      "metadata": {},
      "outputs": [
        {
          "data": {
            "text/latex": [
              "$\\displaystyle \n",
              "        \\begin{equation}\n",
              "            D = \\left(\\sin{\\left (\\psi  \\right )} \\sin{\\left (\\sigma  \\right )} + \\cos{\\left (\\alpha  \\right )} \\cos{\\left (\\psi  \\right )} \\cos{\\left (\\sigma  \\right )}\\right) \\left(\\sin{\\left (i \\right )} \\cos{\\left (d \\right )} \\cos{\\left (\\theta  \\right )} - \\sin{\\left (\\theta  \\right )} \\cos{\\left (i \\right )}\\right) + \\left(\\sin{\\left (i \\right )} \\sin{\\left (\\theta  \\right )} \\cos{\\left (d \\right )} + \\cos{\\left (i \\right )} \\cos{\\left (\\theta  \\right )}\\right) \\sin{\\left (\\alpha  \\right )} \\cos{\\left (\\sigma  \\right )} - \\left(\\sin{\\left (\\psi  \\right )} \\cos{\\left (\\alpha  \\right )} \\cos{\\left (\\sigma  \\right )} - \\sin{\\left (\\sigma  \\right )} \\cos{\\left (\\psi  \\right )}\\right) \\sin{\\left (d \\right )} \\sin{\\left (i \\right )} \\nonumber\n",
              "        \\end{equation}\n",
              "        $"
            ],
            "text/plain": [
              "<IPython.core.display.Math object>"
            ]
          },
          "execution_count": 59,
          "metadata": {},
          "output_type": "execute_result"
        }
      ],
      "source": [
        "print_eq( \"D\", D_explicit )"
      ]
    },
    {
      "cell_type": "markdown",
      "metadata": {},
      "source": [
        "Check:"
      ]
    },
    {
      "cell_type": "code",
      "execution_count": 60,
      "metadata": {},
      "outputs": [
        {
          "data": {
            "text/latex": [
              "$\\displaystyle 0$"
            ],
            "text/plain": [
              "<IPython.core.display.Math object>"
            ]
          },
          "execution_count": 60,
          "metadata": {},
          "output_type": "execute_result"
        }
      ],
      "source": [
        "D_explicit_check = sp.simplify(sp.denom(p_soln) - D_explicit)\n",
        "assert D_explicit_check.equals(0)\n",
        "display( D_explicit_check )"
      ]
    },
    {
      "cell_type": "markdown",
      "metadata": {},
      "source": [
        "So given $p$, we have $w = g + ps$. However, it is a little cumbersome to work with and we can get $w$ in terms of $g$-$ps$-$w$ triangle directly by projecting $w$ onto $s$ and $g$ to give two equations we can solve for $p$ and $L$, the length of $w$. We have\n",
        "\n",
        "$$s\\cdot w = L\\cos(\\Xi-\\beta) = s\\cdot g + p\\, s\\cdot s = \\cos(\\Xi) + p$$\n",
        "\n",
        "and\n",
        "\n",
        "$$g\\cdot w = L\\cos(\\beta) = g\\cdot g + p g\\cdot s = 1 + p\\, \\cos(\\Xi)$$\n",
        "\n",
        "This yields two simultaneous equations for $p$ and $L$, with solutions\n",
        "\n",
        "$$p = \\frac{\\sin(\\beta)}{\\sin(\\Xi-\\beta)}$$\n",
        "\n",
        "and\n",
        "\n",
        "$$L = \\frac{\\sin(\\Xi)}{\\sin(\\Xi-\\beta)}$$\n",
        "\n",
        "First define $w$ on the $n$ basis"
      ]
    },
    {
      "cell_type": "code",
      "execution_count": 61,
      "metadata": {},
      "outputs": [
        {
          "data": {
            "text/latex": [
              "$\\displaystyle \n",
              "            \\begin{align}\n",
              "            w & = p \\sin{\\left (\\alpha  \\right )} \\sin{\\left (\\theta  \\right )} \\cos{\\left (\\sigma  \\right )} + p \\sin{\\left (\\psi  \\right )} \\sin{\\left (\\sigma  \\right )} \\cos{\\left (\\theta  \\right )} + p \\cos{\\left (\\alpha  \\right )} \\cos{\\left (\\psi  \\right )} \\cos{\\left (\\sigma  \\right )} \\cos{\\left (\\theta  \\right )} - \\sin{\\left (\\iota  \\right )} u_1 \\nonumber \\\\\n",
              "            & + - p \\sin{\\left (\\psi  \\right )} \\cos{\\left (\\alpha  \\right )} \\cos{\\left (\\sigma  \\right )} + p \\sin{\\left (\\sigma  \\right )} \\cos{\\left (\\psi  \\right )} u_2 \\nonumber \\\\\n",
              "            & + - p \\sin{\\left (\\alpha  \\right )} \\cos{\\left (\\sigma  \\right )} \\cos{\\left (\\theta  \\right )} + p \\sin{\\left (\\psi  \\right )} \\sin{\\left (\\sigma  \\right )} \\sin{\\left (\\theta  \\right )} + p \\sin{\\left (\\theta  \\right )} \\cos{\\left (\\alpha  \\right )} \\cos{\\left (\\psi  \\right )} \\cos{\\left (\\sigma  \\right )} + \\cos{\\left (\\iota  \\right )} u_3 \\nonumber\n",
              "            \\end{align}\n",
              "            $"
            ],
            "text/plain": [
              "<IPython.core.display.Math object>"
            ]
          },
          "execution_count": 61,
          "metadata": {},
          "output_type": "execute_result"
        }
      ],
      "source": [
        "wu = gu + p*su\n",
        "print_vec(\"w\", wu, \"u\")"
      ]
    },
    {
      "cell_type": "markdown",
      "metadata": {},
      "source": [
        "Then check that $p + \\cos(\\Xi)$ is equal to the projection of $w$ onto $s$"
      ]
    },
    {
      "cell_type": "code",
      "execution_count": 62,
      "metadata": {},
      "outputs": [
        {
          "data": {
            "text/latex": [
              "$\\displaystyle  0 $"
            ],
            "text/plain": [
              "<IPython.core.display.Math object>"
            ]
          },
          "execution_count": 62,
          "metadata": {},
          "output_type": "execute_result"
        }
      ],
      "source": [
        "ws_check = (su|wu) - (p + cosXi)\n",
        "assert ws_check.obj.equals(0)\n",
        "display( ws_check )"
      ]
    },
    {
      "cell_type": "markdown",
      "metadata": {},
      "source": [
        "Now check that $1 + p\\cos(\\Xi)$ is equal to the projection of $w$ onto $g$"
      ]
    },
    {
      "cell_type": "code",
      "execution_count": 63,
      "metadata": {},
      "outputs": [
        {
          "data": {
            "text/latex": [
              "$\\displaystyle  0 $"
            ],
            "text/plain": [
              "<IPython.core.display.Math object>"
            ]
          },
          "execution_count": 63,
          "metadata": {},
          "output_type": "execute_result"
        }
      ],
      "source": [
        "wg_check = (gu|wu) - (1 + p*cosXi)\n",
        "assert wg_check.obj.equals(0)\n",
        "display( wg_check )"
      ]
    },
    {
      "cell_type": "markdown",
      "metadata": {},
      "source": [
        "Given that $\\sin(\\beta)$ appears in the solution for $p$, it will be useful to have its explicit form, which is"
      ]
    },
    {
      "cell_type": "code",
      "execution_count": 64,
      "metadata": {},
      "outputs": [
        {
          "data": {
            "text/latex": [
              "$\\displaystyle \n",
              "        \\begin{equation}\n",
              "            \\sin(\\beta) = \\frac{\\sin{\\left (i \\right )} \\sin{\\left (\\iota  \\right )} \\cos{\\left (d \\right )} + \\cos{\\left (i \\right )} \\cos{\\left (\\iota  \\right )}}{\\sin{\\left (\\Psi \\right )}} \\nonumber\n",
              "        \\end{equation}\n",
              "        $"
            ],
            "text/plain": [
              "<IPython.core.display.Math object>"
            ]
          },
          "execution_count": 64,
          "metadata": {},
          "output_type": "execute_result"
        }
      ],
      "source": [
        "sin_beta = (sin(i)*sin(iota)*cos(d) + cos(i)*cos(iota))/sin(Psi)\n",
        "print_eq(r\"\\sin(\\beta)\", sin_beta)"
      ]
    },
    {
      "cell_type": "markdown",
      "metadata": {},
      "source": [
        "Confirm this by checking that $\\sin^2(\\beta) + \\cos^2(\\beta) - 1 = 0$"
      ]
    },
    {
      "cell_type": "code",
      "execution_count": 65,
      "metadata": {},
      "outputs": [
        {
          "data": {
            "text/latex": [
              "$\\displaystyle \n",
              "        \\begin{equation}\n",
              "            \\cos(\\beta) = \\frac{\\left(\\sin{\\left (i \\right )} \\cos{\\left (d \\right )} \\cos{\\left (\\iota  \\right )} - \\sin{\\left (\\iota  \\right )} \\cos{\\left (i \\right )}\\right) \\cos{\\left (\\mu  \\right )} - \\sin{\\left (d \\right )} \\sin{\\left (i \\right )} \\sin{\\left (\\mu  \\right )}}{\\sin{\\left (\\Psi \\right )}} \\nonumber\n",
              "        \\end{equation}\n",
              "        $"
            ],
            "text/plain": [
              "<IPython.core.display.Math object>"
            ]
          },
          "execution_count": 65,
          "metadata": {},
          "output_type": "execute_result"
        }
      ],
      "source": [
        "cos_beta = sp.collect(sp.trigsimp((gu|what).obj), cos(mu))\n",
        "print_eq(r\"\\cos(\\beta)\", cos_beta)"
      ]
    },
    {
      "cell_type": "code",
      "execution_count": 66,
      "metadata": {},
      "outputs": [
        {
          "data": {
            "text/latex": [
              "$\\displaystyle 0$"
            ],
            "text/plain": [
              "<IPython.core.display.Math object>"
            ]
          },
          "execution_count": 66,
          "metadata": {},
          "output_type": "execute_result"
        }
      ],
      "source": [
        "beta_check = sp.trigsimp(sp.expand(sp.numer(sin_beta)**2 + sp.numer(cos_beta)**2) - (1-cosPsi**2))\n",
        "assert beta_check.equals(0)\n",
        "display( beta_check )"
      ]
    },
    {
      "cell_type": "markdown",
      "metadata": {},
      "source": [
        "Give $\\tan(\\beta)$ as in the paper"
      ]
    },
    {
      "cell_type": "code",
      "execution_count": 67,
      "metadata": {},
      "outputs": [
        {
          "data": {
            "text/latex": [
              "$\\displaystyle \n",
              "        \\begin{equation}\n",
              "            \\tan(\\beta) = \\frac{\\sin{\\left (i \\right )} \\sin{\\left (\\iota  \\right )} \\cos{\\left (d \\right )} + \\cos{\\left (i \\right )} \\cos{\\left (\\iota  \\right )}}{\\left(\\sin{\\left (i \\right )} \\cos{\\left (d \\right )} \\cos{\\left (\\iota  \\right )} - \\sin{\\left (\\iota  \\right )} \\cos{\\left (i \\right )}\\right) \\cos{\\left (\\mu  \\right )} - \\sin{\\left (d \\right )} \\sin{\\left (i \\right )} \\sin{\\left (\\mu  \\right )}} \\nonumber\n",
              "        \\end{equation}\n",
              "        $"
            ],
            "text/plain": [
              "<IPython.core.display.Math object>"
            ]
          },
          "execution_count": 67,
          "metadata": {},
          "output_type": "execute_result"
        }
      ],
      "source": [
        "print_eq(r\"\\tan(\\beta)\", sin_beta/cos_beta)"
      ]
    },
    {
      "cell_type": "markdown",
      "metadata": {},
      "source": [
        "We can now use the form of $p$ found by solving $w\\wedge G = 0$ to obtain $\\sin(\\Xi)$. First note that $N$, the numerator of $p$, is related to $\\beta$ via\n",
        "\n",
        "$$\\sin(\\beta) = \\frac{N}{\\sin(\\Psi)}$$\n",
        "\n",
        "Check"
      ]
    },
    {
      "cell_type": "code",
      "execution_count": 68,
      "metadata": {},
      "outputs": [
        {
          "data": {
            "text/latex": [
              "$\\displaystyle 0$"
            ],
            "text/plain": [
              "<IPython.core.display.Math object>"
            ]
          },
          "execution_count": 68,
          "metadata": {},
          "output_type": "execute_result"
        }
      ],
      "source": [
        "sin_beta_check = sp.numer(p_soln)/sin(Psi) - sin_beta\n",
        "assert sin_beta_check.equals(0)\n",
        "display( sin_beta_check )"
      ]
    },
    {
      "cell_type": "markdown",
      "metadata": {},
      "source": [
        "Given our solution for $p$, we can write\n",
        "\n",
        "$$p = \\frac{\\sin(\\beta)}{\\sin(\\Xi-\\beta)} = \\frac{N}{D}$$\n",
        "\n",
        "Eliminating $N$ using the above relationship with $\\beta$ and solving for $D$ gives\n",
        "\n",
        "$$D = \\sin(\\Psi)\\sin(\\Xi-\\beta)$$\n",
        "\n",
        "Note that using this to eliminate $\\sin(\\Xi-\\beta)$ in our solution for $L$ gives\n",
        "\n",
        "$$L = \\frac{\\sin(\\Xi)\\sin(\\Psi)}{D}$$\n",
        "\n",
        "Expanding the double angle in $D$ and solving for $\\sin(\\Xi)$ gives\n",
        "\n",
        "$$\\sin(\\Xi) = \\frac{D + N\\cos(\\Xi)}{B}$$\n",
        "\n",
        "where\n",
        "\n",
        "$$\\cos(\\beta) = \\frac{B}{\\sin(\\Psi)}$$\n",
        "\n",
        "Thus"
      ]
    },
    {
      "cell_type": "code",
      "execution_count": 69,
      "metadata": {},
      "outputs": [
        {
          "data": {
            "text/latex": [
              "$\\displaystyle \n",
              "        \\begin{equation}\n",
              "            \\sin(\\Xi) = \\frac{\\left(\\sin{\\left (i \\right )} \\sin{\\left (\\iota  \\right )} \\cos{\\left (d \\right )} + \\cos{\\left (i \\right )} \\cos{\\left (\\iota  \\right )}\\right) \\cos{\\left (\\Xi \\right )} + \\sin{\\left (\\alpha  \\right )} \\sin{\\left (i \\right )} \\sin{\\left (\\theta  \\right )} \\cos{\\left (d \\right )} \\cos{\\left (\\sigma  \\right )} + \\sin{\\left (\\alpha  \\right )} \\cos{\\left (i \\right )} \\cos{\\left (\\sigma  \\right )} \\cos{\\left (\\theta  \\right )} - \\sin{\\left (d \\right )} \\sin{\\left (i \\right )} \\sin{\\left (\\psi  \\right )} \\cos{\\left (\\alpha  \\right )} \\cos{\\left (\\sigma  \\right )} + \\sin{\\left (d \\right )} \\sin{\\left (i \\right )} \\sin{\\left (\\sigma  \\right )} \\cos{\\left (\\psi  \\right )} + \\sin{\\left (i \\right )} \\sin{\\left (\\psi  \\right )} \\sin{\\left (\\sigma  \\right )} \\cos{\\left (d \\right )} \\cos{\\left (\\theta  \\right )} + \\sin{\\left (i \\right )} \\cos{\\left (\\alpha  \\right )} \\cos{\\left (d \\right )} \\cos{\\left (\\psi  \\right )} \\cos{\\left (\\sigma  \\right )} \\cos{\\left (\\theta  \\right )} - \\sin{\\left (\\psi  \\right )} \\sin{\\left (\\sigma  \\right )} \\sin{\\left (\\theta  \\right )} \\cos{\\left (i \\right )} - \\sin{\\left (\\theta  \\right )} \\cos{\\left (\\alpha  \\right )} \\cos{\\left (i \\right )} \\cos{\\left (\\psi  \\right )} \\cos{\\left (\\sigma  \\right )}}{\\left(\\sin{\\left (i \\right )} \\cos{\\left (d \\right )} \\cos{\\left (\\iota  \\right )} - \\sin{\\left (\\iota  \\right )} \\cos{\\left (i \\right )}\\right) \\cos{\\left (\\mu  \\right )} - \\sin{\\left (d \\right )} \\sin{\\left (i \\right )} \\sin{\\left (\\mu  \\right )}} \\nonumber\n",
              "        \\end{equation}\n",
              "        $"
            ],
            "text/plain": [
              "<IPython.core.display.Math object>"
            ]
          },
          "execution_count": 69,
          "metadata": {},
          "output_type": "execute_result"
        }
      ],
      "source": [
        "tmp = (sp.denom(p_soln) + sin(beta)*sin(Psi)*cos(Xi))/(cos(beta)*sin(Psi))\n",
        "sinXi = tmp.subs(sin(beta),sin_beta).subs(cos(beta),cos_beta)\n",
        "print_eq( r\"\\sin(\\Xi)\", sinXi)"
      ]
    },
    {
      "cell_type": "markdown",
      "metadata": {},
      "source": [
        "### The Shadow Coordinates\n",
        "\n",
        "Let's now get the cartesian coordinates of the shadow tip in the dial face frame.\n",
        "\n",
        "$$w = L \\hat{w}$$\n",
        "\n",
        "and so can work with $\\hat{w}$ and scale up by after."
      ]
    },
    {
      "cell_type": "code",
      "execution_count": 70,
      "metadata": {},
      "outputs": [
        {
          "data": {
            "text/latex": [
              "$\\displaystyle \n",
              "        \\begin{equation}\n",
              "            \\frac{x}{L} = \\frac{- \\sin{\\left (d \\right )} \\sin{\\left (\\mu  \\right )} \\cos{\\left (\\iota  \\right )} + \\cos{\\left (d \\right )} \\cos{\\left (\\mu  \\right )}}{\\sin{\\left (\\Psi \\right )}} \\nonumber\n",
              "        \\end{equation}\n",
              "        $"
            ],
            "text/plain": [
              "<IPython.core.display.Math object>"
            ]
          },
          "execution_count": 70,
          "metadata": {},
          "output_type": "execute_result"
        }
      ],
      "source": [
        "print_eq(r\"\\frac{x}{L}\", what|m1)"
      ]
    },
    {
      "cell_type": "code",
      "execution_count": 71,
      "metadata": {},
      "outputs": [
        {
          "data": {
            "text/latex": [
              "$\\displaystyle \n",
              "        \\begin{equation}\n",
              "            \\frac{y}{L} = - \\frac{\\sin{\\left (d \\right )} \\cos{\\left (i \\right )} \\cos{\\left (\\mu  \\right )} + \\sin{\\left (i \\right )} \\sin{\\left (\\iota  \\right )} \\sin{\\left (\\mu  \\right )} + \\sin{\\left (\\mu  \\right )} \\cos{\\left (d \\right )} \\cos{\\left (i \\right )} \\cos{\\left (\\iota  \\right )}}{\\sin{\\left (\\Psi \\right )}} \\nonumber\n",
              "        \\end{equation}\n",
              "        $"
            ],
            "text/plain": [
              "<IPython.core.display.Math object>"
            ]
          },
          "execution_count": 71,
          "metadata": {},
          "output_type": "execute_result"
        }
      ],
      "source": [
        "print_eq(r\"\\frac{y}{L}\", mv.Mv(sp.trigsimp(sp.expand_trig((what|m2).obj)), ga=G3u))"
      ]
    },
    {
      "cell_type": "code",
      "execution_count": 72,
      "metadata": {},
      "outputs": [
        {
          "data": {
            "text/latex": [
              "$\\displaystyle \n",
              "        \\begin{equation}\n",
              "            \\frac{z}{L} =  0  \\nonumber\n",
              "        \\end{equation}\n",
              "        $"
            ],
            "text/plain": [
              "<IPython.core.display.Math object>"
            ]
          },
          "execution_count": 72,
          "metadata": {},
          "output_type": "execute_result"
        }
      ],
      "source": [
        "print_eq(r\"\\frac{z}{L}\", what|m3)"
      ]
    },
    {
      "cell_type": "markdown",
      "metadata": {},
      "source": [
        "Check:"
      ]
    },
    {
      "cell_type": "code",
      "execution_count": 73,
      "metadata": {},
      "outputs": [],
      "source": [
        "assert (what|m1).obj.trigsimp().equals((-sin(d)*sin(mu)*cos(iota)+cos(d)*cos(mu))/sin(Psi))\n",
        "assert (what|m2).obj.trigsimp().equals(-(sin(d)*cos(i)*cos(mu)+sin(i)*sin(iota)*sin(mu)+sin(mu)*cos(d)*cos(i)*cos(iota))/sin(Psi))\n",
        "assert (what|m3).obj.trigsimp().equals(0)"
      ]
    },
    {
      "cell_type": "markdown",
      "metadata": {},
      "source": [
        "By substituting for $L$ using\n",
        "\n",
        "$$L = \\frac{\\sin(\\Xi)\\sin(\\Psi)}{D}$$\n",
        "\n",
        "we obtain"
      ]
    },
    {
      "cell_type": "code",
      "execution_count": 74,
      "metadata": {},
      "outputs": [
        {
          "data": {
            "text/latex": [
              "$\\displaystyle \n",
              "        \\begin{equation}\n",
              "            x = \\frac{\\left(- \\sin{\\left (d \\right )} \\sin{\\left (\\mu  \\right )} \\cos{\\left (\\iota  \\right )} + \\cos{\\left (d \\right )} \\cos{\\left (\\mu  \\right )}\\right) \\sin{\\left (\\Xi \\right )}}{D} \\nonumber\n",
              "        \\end{equation}\n",
              "        $"
            ],
            "text/plain": [
              "<IPython.core.display.Math object>"
            ]
          },
          "execution_count": 74,
          "metadata": {},
          "output_type": "execute_result"
        }
      ],
      "source": [
        "x_shadow = (what|m1) * sin(Psi) * sin(Xi) / D\n",
        "print_eq(r\"x\", x_shadow)"
      ]
    },
    {
      "cell_type": "code",
      "execution_count": 75,
      "metadata": {},
      "outputs": [
        {
          "data": {
            "text/latex": [
              "$\\displaystyle \n",
              "        \\begin{equation}\n",
              "            y = - \\frac{\\left(\\sin{\\left (d \\right )} \\cos{\\left (i \\right )} \\cos{\\left (\\mu  \\right )} + \\sin{\\left (i \\right )} \\sin{\\left (\\iota  \\right )} \\sin{\\left (\\mu  \\right )} + \\sin{\\left (\\mu  \\right )} \\cos{\\left (d \\right )} \\cos{\\left (i \\right )} \\cos{\\left (\\iota  \\right )}\\right) \\sin{\\left (\\Xi \\right )}}{D} \\nonumber\n",
              "        \\end{equation}\n",
              "        $"
            ],
            "text/plain": [
              "<IPython.core.display.Math object>"
            ]
          },
          "execution_count": 75,
          "metadata": {},
          "output_type": "execute_result"
        }
      ],
      "source": [
        "y_shadow = mv.Mv(sp.trigsimp(sp.expand_trig((what|m2).obj)), ga=G3u) * sin(Psi) * sin(Xi) / D\n",
        "print_eq(r\"y\", y_shadow)"
      ]
    },
    {
      "cell_type": "markdown",
      "metadata": {},
      "source": [
        "We have explicit forms for $\\sin(\\Xi)\\sin(\\mu)$, $\\sin(\\Xi)\\cos(\\mu)$ and $D$, allowing the shadow coordinates to be expressed in terms of the Earth's orientation parameters $\\alpha$, $\\sigma$, and $\\psi$, together with the sundial parameters $\\theta$, $i$, $d$ and $\\iota$:"
      ]
    },
    {
      "cell_type": "code",
      "execution_count": 76,
      "metadata": {},
      "outputs": [
        {
          "data": {
            "text/latex": [
              "$\\displaystyle \n",
              "        \\begin{equation}\n",
              "            x = \\frac{\\left(- \\sin{\\left (d \\right )} \\cos{\\left (\\alpha  \\right )} \\cos{\\left (\\iota  \\right )} + \\cos{\\left (d \\right )} \\cos{\\left (\\iota  - \\theta  \\right )} \\tan{\\left (\\sigma  \\right )}\\right) \\sin{\\left (\\psi  \\right )} + \\left(\\sin{\\left (d \\right )} \\cos{\\left (\\iota  \\right )} \\tan{\\left (\\sigma  \\right )} + \\cos{\\left (\\alpha  \\right )} \\cos{\\left (d \\right )} \\cos{\\left (\\iota  - \\theta  \\right )}\\right) \\cos{\\left (\\psi  \\right )} - \\sin{\\left (\\alpha  \\right )} \\sin{\\left (\\iota  - \\theta  \\right )} \\cos{\\left (d \\right )}}{- \\left(\\sin{\\left (\\psi  \\right )} \\cos{\\left (\\alpha  \\right )} - \\cos{\\left (\\psi  \\right )} \\tan{\\left (\\sigma  \\right )}\\right) \\sin{\\left (d \\right )} \\sin{\\left (i \\right )} + \\left(\\sin{\\left (\\psi  \\right )} \\tan{\\left (\\sigma  \\right )} + \\cos{\\left (\\alpha  \\right )} \\cos{\\left (\\psi  \\right )}\\right) \\left(\\sin{\\left (i \\right )} \\cos{\\left (d \\right )} \\cos{\\left (\\theta  \\right )} - \\sin{\\left (\\theta  \\right )} \\cos{\\left (i \\right )}\\right) + \\left(\\sin{\\left (i \\right )} \\sin{\\left (\\theta  \\right )} \\cos{\\left (d \\right )} + \\cos{\\left (i \\right )} \\cos{\\left (\\theta  \\right )}\\right) \\sin{\\left (\\alpha  \\right )}} \\nonumber\n",
              "        \\end{equation}\n",
              "        $"
            ],
            "text/plain": [
              "<IPython.core.display.Math object>"
            ]
          },
          "execution_count": 76,
          "metadata": {},
          "output_type": "execute_result"
        }
      ],
      "source": [
        "def _simplify_shadow_coord_terms(term):\n",
        "    term = term.subs(sin(mu), sinXi_sin_mu/sin(Xi)).subs(cos(mu), sinXi_cos_mu/sin(Xi)).simplify().obj\n",
        "    term = term.subs(sin(sigma), tan(sigma)*cos(sigma)).simplify()\n",
        "    return sp.collect(sp.collect(sp.collect(term, cos(psi)), sin(psi)), tan(sigma))\n",
        "\n",
        "x_explicit = _simplify_shadow_coord_terms((what|m1) * sin(Psi) * sin(Xi)) / D_explicit.subs(sin(sigma), tan(sigma)*cos(sigma)).simplify()\n",
        "print_eq(r\"x\", x_explicit)"
      ]
    },
    {
      "cell_type": "code",
      "execution_count": 77,
      "metadata": {},
      "outputs": [
        {
          "data": {
            "text/latex": [
              "$\\displaystyle \n",
              "        \\begin{equation}\n",
              "            y = \\frac{\\left(\\left(\\sin{\\left (i \\right )} \\sin{\\left (\\iota  \\right )} + \\cos{\\left (d \\right )} \\cos{\\left (i \\right )} \\cos{\\left (\\iota  \\right )}\\right) \\tan{\\left (\\sigma  \\right )} - \\sin{\\left (d \\right )} \\cos{\\left (\\alpha  \\right )} \\cos{\\left (i \\right )} \\cos{\\left (\\iota  - \\theta  \\right )}\\right) \\cos{\\left (\\psi  \\right )} + \\left(- \\sin{\\left (d \\right )} \\cos{\\left (i \\right )} \\cos{\\left (\\iota  - \\theta  \\right )} \\tan{\\left (\\sigma  \\right )} - \\sin{\\left (i \\right )} \\sin{\\left (\\iota  \\right )} \\cos{\\left (\\alpha  \\right )} - \\cos{\\left (\\alpha  \\right )} \\cos{\\left (d \\right )} \\cos{\\left (i \\right )} \\cos{\\left (\\iota  \\right )}\\right) \\sin{\\left (\\psi  \\right )} + \\sin{\\left (\\alpha  \\right )} \\sin{\\left (d \\right )} \\sin{\\left (\\iota  - \\theta  \\right )} \\cos{\\left (i \\right )}}{- \\left(\\sin{\\left (\\psi  \\right )} \\cos{\\left (\\alpha  \\right )} - \\cos{\\left (\\psi  \\right )} \\tan{\\left (\\sigma  \\right )}\\right) \\sin{\\left (d \\right )} \\sin{\\left (i \\right )} + \\left(\\sin{\\left (\\psi  \\right )} \\tan{\\left (\\sigma  \\right )} + \\cos{\\left (\\alpha  \\right )} \\cos{\\left (\\psi  \\right )}\\right) \\left(\\sin{\\left (i \\right )} \\cos{\\left (d \\right )} \\cos{\\left (\\theta  \\right )} - \\sin{\\left (\\theta  \\right )} \\cos{\\left (i \\right )}\\right) + \\left(\\sin{\\left (i \\right )} \\sin{\\left (\\theta  \\right )} \\cos{\\left (d \\right )} + \\cos{\\left (i \\right )} \\cos{\\left (\\theta  \\right )}\\right) \\sin{\\left (\\alpha  \\right )}} \\nonumber\n",
              "        \\end{equation}\n",
              "        $"
            ],
            "text/plain": [
              "<IPython.core.display.Math object>"
            ]
          },
          "execution_count": 77,
          "metadata": {},
          "output_type": "execute_result"
        }
      ],
      "source": [
        "def _simplify_shadow_coord_terms(term):\n",
        "    term = term.subs(sin(mu), sinXi_sin_mu/sin(Xi)).subs(cos(mu), sinXi_cos_mu/sin(Xi)).simplify().obj\n",
        "    term = term.subs(sin(sigma), tan(sigma)*cos(sigma)).simplify()\n",
        "    return sp.collect(sp.collect(sp.collect(term, cos(psi)), sin(psi)), tan(sigma))\n",
        "\n",
        "y_explicit = _simplify_shadow_coord_terms(mv.Mv(sp.trigsimp(sp.expand_trig((what|m2).obj) * sin(Psi) * sin(Xi)), ga=G3u)) / D_explicit.subs(sin(sigma), tan(sigma)*cos(sigma)).simplify()\n",
        "print_eq(r\"y\", y_explicit)"
      ]
    },
    {
      "cell_type": "markdown",
      "metadata": {},
      "source": [
        "### Angle Between Sun Ray and Dial Face\n",
        "\n",
        "It will be important for plotting analemmas to determine an effective sunrise and sunset for the given sundial, defined as the points in the sun's journey across the sky when the angle between the sun ray $s$ and dial face $G$ is zero (or $\\pi$). This angle is given by\n",
        "$$-(G\\wedge s) \\cdot I$$"
      ]
    },
    {
      "cell_type": "code",
      "execution_count": 78,
      "metadata": {},
      "outputs": [
        {
          "data": {
            "text/latex": [
              "\\begin{equation*} - \\sin{\\left (\\alpha  \\right )} \\sin{\\left (i \\right )} \\sin{\\left (\\theta  \\right )} \\cos{\\left (d \\right )} \\cos{\\left (\\sigma  \\right )} - \\sin{\\left (\\alpha  \\right )} \\cos{\\left (i \\right )} \\cos{\\left (\\sigma  \\right )} \\cos{\\left (\\theta  \\right )} + \\sin{\\left (d \\right )} \\sin{\\left (i \\right )} \\sin{\\left (\\psi  \\right )} \\cos{\\left (\\alpha  \\right )} \\cos{\\left (\\sigma  \\right )} - \\sin{\\left (d \\right )} \\sin{\\left (i \\right )} \\sin{\\left (\\sigma  \\right )} \\cos{\\left (\\psi  \\right )} - \\sin{\\left (i \\right )} \\sin{\\left (\\psi  \\right )} \\sin{\\left (\\sigma  \\right )} \\cos{\\left (d \\right )} \\cos{\\left (\\theta  \\right )} - \\sin{\\left (i \\right )} \\cos{\\left (\\alpha  \\right )} \\cos{\\left (d \\right )} \\cos{\\left (\\psi  \\right )} \\cos{\\left (\\sigma  \\right )} \\cos{\\left (\\theta  \\right )} + \\sin{\\left (\\psi  \\right )} \\sin{\\left (\\sigma  \\right )} \\sin{\\left (\\theta  \\right )} \\cos{\\left (i \\right )} + \\sin{\\left (\\theta  \\right )} \\cos{\\left (\\alpha  \\right )} \\cos{\\left (i \\right )} \\cos{\\left (\\psi  \\right )} \\cos{\\left (\\sigma  \\right )} \\end{equation*}"
            ],
            "text/plain": [
              "-sin(alpha)*sin(i)*sin(theta)*cos(d)*cos(sigma) - sin(alpha)*cos(i)*cos(sigma)*cos(theta) + sin(d)*sin(i)*sin(psi)*cos(alpha)*cos(sigma) - sin(d)*sin(i)*sin(sigma)*cos(psi) - sin(i)*sin(psi)*sin(sigma)*cos(d)*cos(theta) - sin(i)*cos(alpha)*cos(d)*cos(psi)*cos(sigma)*cos(theta) + sin(psi)*sin(sigma)*sin(theta)*cos(i) + sin(theta)*cos(alpha)*cos(i)*cos(psi)*cos(sigma)"
            ]
          },
          "execution_count": 78,
          "metadata": {},
          "output_type": "execute_result"
        }
      ],
      "source": [
        "-(G^s)|I"
      ]
    },
    {
      "cell_type": "markdown",
      "metadata": {},
      "source": [
        "## Test `sundial` Module\n",
        "\n",
        "Check consistency with `sundial` Python module."
      ]
    },
    {
      "cell_type": "code",
      "execution_count": 79,
      "metadata": {},
      "outputs": [],
      "source": [
        "import sundial as sd\n",
        "from sympy import utilities as util\n",
        "import math, numpy as np\n",
        "\n",
        "args = {\"alpha\":sd.earth.alpha, \"sigma\":np.pi/2.4, \"psi\":np.pi/27, \"iota\":np.pi/7, \"theta\":np.pi/9, \"i\":np.pi/40, \"d\":np.pi/43}\n",
        "\n",
        "x_num = util.lambdify(args.keys(), x_explicit)\n",
        "x_val = x_num(**args)\n",
        "\n",
        "y_num = util.lambdify(args.keys(), y_explicit)\n",
        "y_val = y_num(**args)\n",
        "\n",
        "(x_py_val, y_py_val) = sd.shadow_coords_xy(**args)\n",
        "\n",
        "assert math.isclose(x_val, x_py_val)\n",
        "assert math.isclose(y_val, y_py_val)"
      ]
    }
  ],
  "metadata": {
    "anaconda-cloud": {},
    "kernelspec": {
      "display_name": "Python 3",
      "language": "python",
      "name": "python3"
    },
    "language_info": {
      "codemirror_mode": {
        "name": "ipython",
        "version": 3
      },
      "file_extension": ".py",
      "mimetype": "text/x-python",
      "name": "python",
      "nbconvert_exporter": "python",
      "pygments_lexer": "ipython3",
      "version": "3.9.6"
    }
  },
  "nbformat": 4,
  "nbformat_minor": 4
}
