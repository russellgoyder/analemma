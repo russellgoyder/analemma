{
 "cells": [
  {
   "cell_type": "markdown",
   "metadata": {},
   "source": [
    "# TODO title for non-zero decl"
   ]
  },
  {
   "cell_type": "code",
   "execution_count": 1,
   "metadata": {},
   "outputs": [],
   "source": [
    "import sympy as sp\n",
    "from sympy import sin, cos, tan\n",
    "from sympy.abc import alpha, sigma, psi, delta, iota, theta\n",
    "from analemma.algebra import frame, render, util, result\n",
    "\n",
    "e1, e2, e3 = frame.base(\"e\")\n",
    "f1, f2, f3 = frame.planet()\n",
    "n1, n2, n3 = frame.surface()\n",
    "M = frame.meridian_plane() # n1^n3\n",
    "s = frame.sunray()\n",
    "\n",
    "m1, m2, m3 = frame.dial()\n",
    "gn = frame.gnomon(\"n\", zero_decl=False)\n",
    "\n",
    "g = util.project_vector(gn, target_frame=frame.base(\"n\"), render_frame=(n1, n2, n3))"
   ]
  },
  {
   "cell_type": "markdown",
   "metadata": {},
   "source": [
    "## The Calculation\n",
    "\n",
    "The calculation proceeds by defining $S = s \\wedge g$, the plane containing the sunshine vector and the gnomon. Its magnitude is the (negative) cosine of the angle between $s$ and $g$. Then we can obtain a generalized solar hour angle $\\mu$ as the angle between $S$ and $M$, given by\n",
    "\n",
    "$$\\cos(\\mu) = \\frac{-S\\cdot M}{\\sqrt{-S^2}\\sqrt{-M^2}} = \\frac{-S\\cdot M}{\\sin(\\Xi)}$$\n",
    "\n",
    "given that $M^2=-1$. In anticipation of setting $\\delta =0$, I will apply $\\delta$ as a subscript to these quantities for now."
   ]
  },
  {
   "cell_type": "code",
   "execution_count": 18,
   "metadata": {},
   "outputs": [
    {
     "data": {
      "text/latex": [
       "$\\displaystyle \\begin{align} S_\\delta & = \\sin{\\left (\\alpha  \\right )} \\sin{\\left (\\sigma  \\right )} \\cos{\\left (\\iota  - \\theta  \\right )} - \\sin{\\left (\\psi  \\right )} \\sin{\\left (\\iota  - \\theta  \\right )} \\cos{\\left (\\sigma  \\right )} + \\sin{\\left (\\sigma  \\right )} \\sin{\\left (\\iota  - \\theta  \\right )} \\cos{\\left (\\alpha  \\right )} \\cos{\\left (\\psi  \\right )} e_1 \\wedge e_2 \\nonumber \\\\ &- \\sin{\\left (\\alpha  \\right )} \\sin{\\left (\\iota  - \\theta  \\right )} \\cos{\\left (\\psi  \\right )} \\cos{\\left (\\sigma  \\right )} + \\cos{\\left (\\alpha  \\right )} \\cos{\\left (\\sigma  \\right )} \\cos{\\left (\\iota  - \\theta  \\right )} e_1 \\wedge e_3 \\nonumber \\\\ &- \\sin{\\left (\\alpha  \\right )} \\sin{\\left (\\sigma  \\right )} \\sin{\\left (\\iota  - \\theta  \\right )} \\cos{\\left (\\psi  \\right )} + \\sin{\\left (\\sigma  \\right )} \\cos{\\left (\\alpha  \\right )} \\cos{\\left (\\iota  - \\theta  \\right )} e_2 \\wedge e_3& \\nonumber \\end{align}$"
      ],
      "text/plain": [
       "<IPython.core.display.Math object>"
      ]
     },
     "execution_count": 18,
     "metadata": {},
     "output_type": "execute_result"
    }
   ],
   "source": [
    "S_delta = result.shadow_bivector(s, g)\n",
    "\n",
    "render.align(r\"S_\\delta\", S_delta)"
   ]
  },
  {
   "cell_type": "markdown",
   "metadata": {},
   "source": [
    "Angle $\\Xi$ between sun ray and gnomon:"
   ]
  },
  {
   "cell_type": "code",
   "execution_count": 19,
   "metadata": {},
   "outputs": [
    {
     "data": {
      "text/latex": [
       "$\\displaystyle \n",
       "        \\begin{equation}\n",
       "            \\cos(\\Xi_\\delta) = - \\left(\\sin{\\left (\\alpha  \\right )} \\cos{\\left (\\iota  - \\theta  \\right )} + \\sin{\\left (\\iota  - \\theta  \\right )} \\cos{\\left (\\alpha  \\right )} \\cos{\\left (\\psi  \\right )}\\right) \\cos{\\left (\\sigma  \\right )} - \\sin{\\left (\\psi  \\right )} \\sin{\\left (\\sigma  \\right )} \\sin{\\left (\\iota  - \\theta  \\right )} \\nonumber\n",
       "        \\end{equation}\n",
       "        $"
      ],
      "text/plain": [
       "<IPython.core.display.Math object>"
      ]
     },
     "execution_count": 19,
     "metadata": {},
     "output_type": "execute_result"
    }
   ],
   "source": [
    "cosXi_delta = sp.trigsimp((s|g).obj)\n",
    "render.expression(r\"\\cos(\\Xi_\\delta)\", cosXi_delta)"
   ]
  },
  {
   "cell_type": "markdown",
   "metadata": {},
   "source": [
    "Cosine of hour angle $\\mu$ given by\n",
    "\n",
    "$$\\sin(\\Xi) \\cos(\\mu) = -S\\cdot M$$"
   ]
  },
  {
   "cell_type": "code",
   "execution_count": 20,
   "metadata": {},
   "outputs": [
    {
     "data": {
      "text/latex": [
       "$\\displaystyle \n",
       "        \\begin{equation}\n",
       "            \\sin(\\Xi_\\delta) \\cos(\\mu_\\delta) = - \\sin{\\left (\\alpha  \\right )} \\sin{\\left (\\iota  - \\theta  \\right )} \\cos{\\left (\\sigma  \\right )} + \\sin{\\left (\\psi  \\right )} \\sin{\\left (\\sigma  \\right )} \\cos{\\left (\\iota  - \\theta  \\right )} + \\cos{\\left (\\alpha  \\right )} \\cos{\\left (\\psi  \\right )} \\cos{\\left (\\sigma  \\right )} \\cos{\\left (\\iota  - \\theta  \\right )} \\nonumber\n",
       "        \\end{equation}\n",
       "        $"
      ],
      "text/plain": [
       "<IPython.core.display.Math object>"
      ]
     },
     "execution_count": 20,
     "metadata": {},
     "output_type": "execute_result"
    }
   ],
   "source": [
    "_, sinXi_cos_mu_delta = result.hour_angle_sincos(S_delta, M, zero_decl=False)\n",
    "\n",
    "render.expression( r\"\\sin(\\Xi_\\delta) \\cos(\\mu_\\delta)\", sinXi_cos_mu_delta )"
   ]
  },
  {
   "cell_type": "markdown",
   "metadata": {},
   "source": [
    "### A Simplifying Assumption\n",
    "\n",
    "While $\\sin(\\Xi)\\cos(\\mu)$ is available in closed form, I have not been able to factorize $\\sin(\\Xi)\\sin(\\mu) = \\sqrt{1-\\sin^2(\\Xi)\\cos^2(\\mu)}$. While we can always proceed numerically, there is a nice factorization available in the case where the gnomon's declination angle $\\delta$ is zero, so that it remains in the $n_1 \\wedge n_3$ plane, so I will work in that case from here."
   ]
  },
  {
   "cell_type": "code",
   "execution_count": 21,
   "metadata": {},
   "outputs": [
    {
     "data": {
      "text/latex": [
       "$\\displaystyle \n",
       "        \\begin{equation}\n",
       "            g_n = - \\sin{\\left (\\iota  \\right )} \\boldsymbol{n}_{1} + \\cos{\\left (\\iota  \\right )} \\boldsymbol{n}_{3} \\nonumber\n",
       "        \\end{equation}\n",
       "        $"
      ],
      "text/plain": [
       "<IPython.core.display.Math object>"
      ]
     },
     "execution_count": 21,
     "metadata": {},
     "output_type": "execute_result"
    }
   ],
   "source": [
    "gn_delta = gn\n",
    "gn = gn.subs(delta, 0)\n",
    "render.expression(\"g_n\", gn)"
   ]
  },
  {
   "cell_type": "code",
   "execution_count": 22,
   "metadata": {},
   "outputs": [
    {
     "data": {
      "text/latex": [
       "$\\displaystyle \n",
       "        \\begin{equation}\n",
       "            g = \\left ( - \\sin{\\left (\\alpha  \\right )} \\cos{\\left (\\iota  - \\theta  \\right )} - \\sin{\\left (\\iota  - \\theta  \\right )} \\cos{\\left (\\alpha  \\right )} \\cos{\\left (\\psi  \\right )}\\right ) \\boldsymbol{e}_{1} - \\sin{\\left (\\psi  \\right )} \\sin{\\left (\\iota  - \\theta  \\right )} \\boldsymbol{e}_{2} + \\left ( - \\sin{\\left (\\alpha  \\right )} \\sin{\\left (\\iota  - \\theta  \\right )} \\cos{\\left (\\psi  \\right )} + \\cos{\\left (\\alpha  \\right )} \\cos{\\left (\\iota  - \\theta  \\right )}\\right ) \\boldsymbol{e}_{3} \\nonumber\n",
       "        \\end{equation}\n",
       "        $"
      ],
      "text/plain": [
       "<IPython.core.display.Math object>"
      ]
     },
     "execution_count": 22,
     "metadata": {},
     "output_type": "execute_result"
    }
   ],
   "source": [
    "g_delta = g\n",
    "g = g.subs(delta, 0)\n",
    "render.expression(\"g\", g)"
   ]
  },
  {
   "cell_type": "markdown",
   "metadata": {},
   "source": [
    "`g.obj` trails behind by one trigsimp"
   ]
  },
  {
   "cell_type": "code",
   "execution_count": 23,
   "metadata": {},
   "outputs": [
    {
     "data": {
      "text/latex": [
       "$\\displaystyle \\left(- \\sin{\\left (\\alpha  \\right )} \\cos{\\left (\\iota  - \\theta  \\right )} - \\sin{\\left (\\iota  - \\theta  \\right )} \\cos{\\left (\\alpha  \\right )} \\cos{\\left (\\psi  \\right )}\\right) \\boldsymbol{e}_{1} + \\left(- \\sin{\\left (\\alpha  \\right )} \\sin{\\left (\\iota  - \\theta  \\right )} \\cos{\\left (\\psi  \\right )} + \\cos{\\left (\\alpha  \\right )} \\cos{\\left (\\iota  - \\theta  \\right )}\\right) \\boldsymbol{e}_{3} - \\sin{\\left (\\psi  \\right )} \\sin{\\left (\\iota  - \\theta  \\right )} \\boldsymbol{e}_{2}$"
      ],
      "text/plain": [
       "<IPython.core.display.Math object>"
      ]
     },
     "execution_count": 23,
     "metadata": {},
     "output_type": "execute_result"
    }
   ],
   "source": [
    "render.multivector(g.obj) # TODO is render.multivector needed?"
   ]
  },
  {
   "cell_type": "markdown",
   "metadata": {},
   "source": [
    "Hack: ensure a healthy `g.obj` by reforming $g$ from the result of applying `sympy.trigsimp` to each component individually"
   ]
  },
  {
   "cell_type": "code",
   "execution_count": 24,
   "metadata": {},
   "outputs": [
    {
     "data": {
      "text/latex": [
       "$\\displaystyle \\left ( - \\sin{\\left(\\alpha \\right)} \\cos{\\left(\\iota - \\theta \\right)} - \\sin{\\left(\\iota - \\theta \\right)} \\cos{\\left(\\alpha \\right)} \\cos{\\left(\\psi \\right)}\\right ) \\mathbf{e}_{1} - \\sin{\\left(\\psi \\right)} \\sin{\\left(\\iota - \\theta \\right)} \\mathbf{e}_{2} + \\left ( - \\sin{\\left(\\alpha \\right)} \\sin{\\left(\\iota - \\theta \\right)} \\cos{\\left(\\psi \\right)} + \\cos{\\left(\\alpha \\right)} \\cos{\\left(\\iota - \\theta \\right)}\\right ) \\mathbf{e}_{3}$"
      ],
      "text/plain": [
       "(-sin(alpha)*cos(iota - theta) - sin(iota - theta)*cos(alpha)*cos(psi))*e_1 - sin(psi)*sin(iota - theta)*e_2 + (-sin(alpha)*sin(iota - theta)*cos(psi) + cos(alpha)*cos(iota - theta))*e_3"
      ]
     },
     "execution_count": 24,
     "metadata": {},
     "output_type": "execute_result"
    }
   ],
   "source": [
    "g = util.update_coeffs(g)\n",
    "g"
   ]
  },
  {
   "cell_type": "code",
   "execution_count": 25,
   "metadata": {},
   "outputs": [
    {
     "data": {
      "text/latex": [
       "$\\displaystyle - \\sin{\\left(\\alpha \\right)} \\sin{\\left(\\iota - \\theta \\right)} \\cos{\\left(\\psi \\right)} \\mathbf{e}_{3} - \\sin{\\left(\\alpha \\right)} \\cos{\\left(\\iota - \\theta \\right)} \\mathbf{e}_{1} - \\sin{\\left(\\psi \\right)} \\sin{\\left(\\iota - \\theta \\right)} \\mathbf{e}_{2} - \\sin{\\left(\\iota - \\theta \\right)} \\cos{\\left(\\alpha \\right)} \\cos{\\left(\\psi \\right)} \\mathbf{e}_{1} + \\cos{\\left(\\alpha \\right)} \\cos{\\left(\\iota - \\theta \\right)} \\mathbf{e}_{3}$"
      ],
      "text/plain": [
       "-sin(alpha)*sin(iota - theta)*cos(psi)*e_3 - sin(alpha)*cos(iota - theta)*e_1 - sin(psi)*sin(iota - theta)*e_2 - sin(iota - theta)*cos(alpha)*cos(psi)*e_1 + cos(alpha)*cos(iota - theta)*e_3"
      ]
     },
     "execution_count": 25,
     "metadata": {},
     "output_type": "execute_result"
    }
   ],
   "source": [
    "# eyeball check:\n",
    "g.obj"
   ]
  },
  {
   "cell_type": "markdown",
   "metadata": {},
   "source": [
    "### The Shadow Plane\n",
    "\n",
    "Setting $\\delta = 0$ in the shadow plane $S = s \\wedge g$ (the plane containing the sunshine vector and the gnomon) gives a more manageable expression."
   ]
  },
  {
   "cell_type": "code",
   "execution_count": 26,
   "metadata": {},
   "outputs": [
    {
     "data": {
      "text/latex": [
       "$\\displaystyle \\begin{align} S & = \\sin{\\left (\\alpha  \\right )} \\sin{\\left (\\sigma  \\right )} \\cos{\\left (\\iota  - \\theta  \\right )} - \\sin{\\left (\\psi  \\right )} \\sin{\\left (\\iota  - \\theta  \\right )} \\cos{\\left (\\sigma  \\right )} + \\sin{\\left (\\sigma  \\right )} \\sin{\\left (\\iota  - \\theta  \\right )} \\cos{\\left (\\alpha  \\right )} \\cos{\\left (\\psi  \\right )} e_1 \\wedge e_2 \\nonumber \\\\ &- \\sin{\\left (\\alpha  \\right )} \\sin{\\left (\\iota  - \\theta  \\right )} \\cos{\\left (\\psi  \\right )} \\cos{\\left (\\sigma  \\right )} + \\cos{\\left (\\alpha  \\right )} \\cos{\\left (\\sigma  \\right )} \\cos{\\left (\\iota  - \\theta  \\right )} e_1 \\wedge e_3 \\nonumber \\\\ &- \\sin{\\left (\\alpha  \\right )} \\sin{\\left (\\sigma  \\right )} \\sin{\\left (\\iota  - \\theta  \\right )} \\cos{\\left (\\psi  \\right )} + \\sin{\\left (\\sigma  \\right )} \\cos{\\left (\\alpha  \\right )} \\cos{\\left (\\iota  - \\theta  \\right )} e_2 \\wedge e_3& \\nonumber \\end{align}$"
      ],
      "text/plain": [
       "<IPython.core.display.Math object>"
      ]
     },
     "execution_count": 26,
     "metadata": {},
     "output_type": "execute_result"
    }
   ],
   "source": [
    "S = s^g\n",
    "\n",
    "render.align(\"S\", S)"
   ]
  },
  {
   "cell_type": "markdown",
   "metadata": {},
   "source": [
    "Apply the $\\delta=0$ assumption to the cosine of the angle $\\Xi$ between sun ray and gnomon:"
   ]
  },
  {
   "cell_type": "code",
   "execution_count": 27,
   "metadata": {},
   "outputs": [
    {
     "data": {
      "text/latex": [
       "$\\displaystyle \n",
       "        \\begin{equation}\n",
       "            \\cos(\\Xi) = - \\left(\\sin{\\left (\\alpha  \\right )} \\cos{\\left (\\iota  - \\theta  \\right )} + \\sin{\\left (\\iota  - \\theta  \\right )} \\cos{\\left (\\alpha  \\right )} \\cos{\\left (\\psi  \\right )}\\right) \\cos{\\left (\\sigma  \\right )} - \\sin{\\left (\\psi  \\right )} \\sin{\\left (\\sigma  \\right )} \\sin{\\left (\\iota  - \\theta  \\right )} \\nonumber\n",
       "        \\end{equation}\n",
       "        $"
      ],
      "text/plain": [
       "<IPython.core.display.Math object>"
      ]
     },
     "execution_count": 27,
     "metadata": {},
     "output_type": "execute_result"
    }
   ],
   "source": [
    "cosXi = sp.trigsimp((s|g).obj)\n",
    "render.expression(r\"\\cos(\\Xi)\", cosXi)"
   ]
  },
  {
   "cell_type": "markdown",
   "metadata": {},
   "source": [
    "Check $S^2 = (s\\wedge g)^2 = (s\\cdot g)^2 - s^2 g^2$ where $s^2 = g^2 = 1$. "
   ]
  },
  {
   "cell_type": "code",
   "execution_count": 28,
   "metadata": {},
   "outputs": [
    {
     "data": {
      "text/latex": [
       "$\\displaystyle  0 $"
      ],
      "text/plain": [
       "0"
      ]
     },
     "metadata": {},
     "output_type": "display_data"
    }
   ],
   "source": [
    "sg_squared = (s|g)*(s|g)\n",
    "S_norm_check = (S|S) - ( sg_squared - 1 )\n",
    "assert S_norm_check.obj.equals(0)\n",
    "display( S_norm_check )"
   ]
  },
  {
   "cell_type": "markdown",
   "metadata": {},
   "source": [
    "The magnitude of $S$ is given by $\\sqrt{-S^2} = \\sqrt{1 - (s\\cdot g)^2} = \\sqrt{1 - \\cos^2(\\Xi}) = \\sin^2(\\Xi)$:"
   ]
  },
  {
   "cell_type": "code",
   "execution_count": 29,
   "metadata": {},
   "outputs": [
    {
     "data": {
      "text/latex": [
       "$\\displaystyle \n",
       "        \\begin{equation}\n",
       "            \\sin(\\Xi) = \\sqrt{1 - \\left(\\left(\\sin{\\left (\\psi  \\right )} \\sin{\\left (\\sigma  \\right )} + \\cos{\\left (\\alpha  \\right )} \\cos{\\left (\\psi  \\right )} \\cos{\\left (\\sigma  \\right )}\\right) \\sin{\\left (\\iota  - \\theta  \\right )} + \\sin{\\left (\\alpha  \\right )} \\cos{\\left (\\sigma  \\right )} \\cos{\\left (\\iota  - \\theta  \\right )}\\right)^{2}} \\nonumber\n",
       "        \\end{equation}\n",
       "        $"
      ],
      "text/plain": [
       "<IPython.core.display.Math object>"
      ]
     },
     "execution_count": 29,
     "metadata": {},
     "output_type": "execute_result"
    }
   ],
   "source": [
    "sinXi = sp.sqrt( 1 - ((cos(alpha)*cos(sigma)*cos(psi) + sin(sigma)*sin(psi))*sin(iota-theta) + sin(alpha)*cos(sigma)*cos(iota-theta))**2 )\n",
    "render.expression(r\"\\sin(\\Xi)\", sinXi)"
   ]
  },
  {
   "cell_type": "code",
   "execution_count": 30,
   "metadata": {},
   "outputs": [
    {
     "data": {
      "text/latex": [
       "$\\displaystyle  0 $"
      ],
      "text/plain": [
       "0"
      ]
     },
     "metadata": {},
     "output_type": "display_data"
    }
   ],
   "source": [
    "# check\n",
    "sg_check = sinXi**2 - ( 1 - sg_squared )\n",
    "assert sg_check.obj.equals(0)\n",
    "display( sg_check )"
   ]
  },
  {
   "cell_type": "markdown",
   "metadata": {},
   "source": [
    "### The Hour Angle\n",
    "\n",
    "We can now calculate the generalized solar hour angle $\\mu$ (the angle between $S$ and $M$), given by $\\cos(\\mu) = \\frac{-S\\cdot M}{\\sin(\\Xi)}$ and also obtain a nice expression in closed form for $\\sin(\\mu)$.\n"
   ]
  },
  {
   "cell_type": "code",
   "execution_count": 31,
   "metadata": {},
   "outputs": [
    {
     "name": "stdout",
     "output_type": "stream",
     "text": [
      "<IPython.core.display.Math object>\n"
     ]
    },
    {
     "data": {
      "text/latex": [
       "$\\displaystyle \n",
       "        \\begin{equation}\n",
       "            \\sin(\\Xi) \\cos(\\mu) = - \\sin{\\left (\\alpha  \\right )} \\sin{\\left (\\iota  - \\theta  \\right )} \\cos{\\left (\\sigma  \\right )} + \\sin{\\left (\\psi  \\right )} \\sin{\\left (\\sigma  \\right )} \\cos{\\left (\\iota  - \\theta  \\right )} + \\cos{\\left (\\alpha  \\right )} \\cos{\\left (\\psi  \\right )} \\cos{\\left (\\sigma  \\right )} \\cos{\\left (\\iota  - \\theta  \\right )} \\nonumber\n",
       "        \\end{equation}\n",
       "        $"
      ],
      "text/plain": [
       "<IPython.core.display.Math object>"
      ]
     },
     "execution_count": 31,
     "metadata": {},
     "output_type": "execute_result"
    }
   ],
   "source": [
    "sinXi_sin_mu, sinXi_cos_mu = result.hour_angle_sincos(S, M)\n",
    "\n",
    "print(render.expression(r\"\\sin(\\Xi) \\sin(\\mu)\", sinXi_sin_mu))\n",
    "render.expression(r\"\\sin(\\Xi) \\cos(\\mu)\", sinXi_cos_mu)"
   ]
  },
  {
   "cell_type": "markdown",
   "metadata": {},
   "source": [
    "Check that $\\sin^2(\\Xi)\\sin^2(\\mu) + \\sin^2(\\Xi)\\cos^2(\\mu) = \\sin^2(\\Xi)$"
   ]
  },
  {
   "cell_type": "code",
   "execution_count": 32,
   "metadata": {},
   "outputs": [
    {
     "data": {
      "text/latex": [
       "$\\displaystyle 0$"
      ],
      "text/plain": [
       "<IPython.core.display.Math object>"
      ]
     },
     "execution_count": 32,
     "metadata": {},
     "output_type": "execute_result"
    }
   ],
   "source": [
    "Xi_check = sp.trigsimp( sp.expand(sinXi_sin_mu**2) + sp.expand(sinXi_cos_mu**2) - sp.expand(sinXi**2) )\n",
    "assert Xi_check.equals(0)\n",
    "render.multivector( Xi_check )"
   ]
  },
  {
   "cell_type": "markdown",
   "metadata": {},
   "source": [
    "The ratio gives $\\tan(\\mu)$ as in the paper:"
   ]
  },
  {
   "cell_type": "code",
   "execution_count": 33,
   "metadata": {},
   "outputs": [
    {
     "data": {
      "text/latex": [
       "$\\displaystyle \n",
       "        \\begin{equation}\n",
       "            \\tan(\\mu) = \\frac{\\sin{\\left (\\psi  \\right )} \\cos{\\left (\\alpha  \\right )} - \\cos{\\left (\\psi  \\right )} \\tan{\\left (\\sigma  \\right )}}{\\left(\\sin{\\left (\\psi  \\right )} \\tan{\\left (\\sigma  \\right )} + \\cos{\\left (\\alpha  \\right )} \\cos{\\left (\\psi  \\right )}\\right) \\cos{\\left (\\iota  - \\theta  \\right )} - \\sin{\\left (\\alpha  \\right )} \\sin{\\left (\\iota  - \\theta  \\right )}} \\nonumber\n",
       "        \\end{equation}\n",
       "        $"
      ],
      "text/plain": [
       "<IPython.core.display.Math object>"
      ]
     },
     "execution_count": 33,
     "metadata": {},
     "output_type": "execute_result"
    }
   ],
   "source": [
    "tan_mu = result.hour_angle_tan(S, M)\n",
    "\n",
    "render.expression(r\"\\tan(\\mu)\", tan_mu)"
   ]
  },
  {
   "cell_type": "code",
   "execution_count": null,
   "metadata": {},
   "outputs": [],
   "source": []
  }
 ],
 "metadata": {
  "kernelspec": {
   "display_name": "venv",
   "language": "python",
   "name": "python3"
  },
  "language_info": {
   "codemirror_mode": {
    "name": "ipython",
    "version": 3
   },
   "file_extension": ".py",
   "mimetype": "text/x-python",
   "name": "python",
   "nbconvert_exporter": "python",
   "pygments_lexer": "ipython3",
   "version": "3.12.5"
  }
 },
 "nbformat": 4,
 "nbformat_minor": 2
}
