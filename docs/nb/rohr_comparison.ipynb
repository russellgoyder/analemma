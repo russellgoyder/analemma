{
 "cells": [
  {
   "cell_type": "markdown",
   "metadata": {},
   "source": [
    "# Comparison with Rohr's Book\n",
    "\n",
    "The book *SUNDIALS History, Theory and Practice* by Rohr (1996) is the standard reference for sundials and contains many results similar to those present here in `analemma`, except in various special cases, the most general of which is the case where the gnomon is a style, so its inclination $\\iota = \\theta$, the ($90^\\circ$ minus) latitude angle.\n",
    "\n",
    "In this notebook, demonstrate that our results reduce to those in Rohr when specialized to that case. Throught, we will make use of the following notational translation:\n",
    "\n",
    "| Angle | `analemma` | Rohr |\n",
    "| ----- | ---------- | ---- |\n",
    "| Sundial declination | $d$ | $-d$ |\n",
    "| Hour angle | $\\mu$ | HA |\n",
    "| Latitude | $90^\\circ - \\theta$ | $\\phi$ |\n",
    "| Gnomon-subgnomon angle | $A$ | $\\alpha$ |\n",
    "| Subgnomon-noon angle | $B$ | $\\beta$ |\n",
    "\n",
    "The function `rohr` below specializes to the case of a style, in the notation of Rohr's book."
   ]
  },
  {
   "cell_type": "code",
   "execution_count": 1,
   "metadata": {},
   "outputs": [],
   "source": [
    "import sympy as sp\n",
    "from sympy import sin, cos, tan, cot\n",
    "from sympy.abc import d, phi, mu, iota, A\n",
    "\n",
    "from analemma.algebra import frame, util, render, result\n",
    "\n",
    "def rohr(expr):\n",
    "    return expr.subs(iota, sp.pi/2-phi).subs(d, -d).simplify()"
   ]
  },
  {
   "cell_type": "markdown",
   "metadata": {},
   "source": [
    "## Noon and the Line of Greatest Slope\n",
    "\n",
    "On page 78 of Rohr's book, he derives the tangent of $v$, the angle between two lines in the dial face; the noon line and the\n",
    "line of greatest slope. The latter is the vector $m_1$, the first vector in the [dial\n",
    "frame][analemma.algebra.frame.dial]. We can calculate the same as\n",
    "\n",
    "$$\\tan(v) = \\frac{\\sin(v)}{\\cos(v)} = \\frac{m_2 \\cdot \\hat{w}_{\\mu=0}}{m_1 \\cdot \\hat{w}_{\\mu=0}}$$\n",
    "\n",
    "where $\\hat{w}_{\\mu=0}$ is introduced in [The Shadow Angle Relative to Noon](../nb/shadow_angle.md#the-shadow-angle-relative-to-noon)."
   ]
  },
  {
   "cell_type": "code",
   "execution_count": 2,
   "metadata": {},
   "outputs": [
    {
     "data": {
      "text/latex": [
       "$\\displaystyle \n",
       "        \\begin{equation}\n",
       "            \\tan(v) = \\cos{\\left (i \\right )} \\tan{\\left (d \\right )} \\nonumber\n",
       "        \\end{equation}\n",
       "        $"
      ],
      "text/plain": [
       "<IPython.core.display.Math object>"
      ]
     },
     "execution_count": 2,
     "metadata": {},
     "output_type": "execute_result"
    }
   ],
   "source": [
    "m1, m2, m3 = frame.dial()\n",
    "\n",
    "Sn = result.shadow_bivector_explicit()\n",
    "Gn = frame.dialface()\n",
    "noon_shadow = result.unit_noon_shadow(Gn, Sn)\n",
    "\n",
    "cos_v = (noon_shadow | m1).trigsimp()\n",
    "sin_v = (noon_shadow | m2).trigsimp()\n",
    "render.expression(r\"\\tan(v)\", rohr((sin_v/cos_v).trigsimp()))\n"
   ]
  },
  {
   "cell_type": "markdown",
   "metadata": {},
   "source": [
    "This matches page 77 of Rohr, right-hand column near the top.\n",
    "\n",
    "## The Shadow and the Line of Greatest Slope\n",
    "\n",
    "On page 78, Rohr calculates $w$, the angle between the shadow and the line of greatest slope on the dial face. The equivalent\n",
    "calculation here is $\\tan(w) = -y/x$ where $x$ and $y$ are the coordinates of the shadow and the minus sign enters because $m_1$ points up, not down the line of greatest slope."
   ]
  },
  {
   "cell_type": "code",
   "execution_count": 3,
   "metadata": {},
   "outputs": [
    {
     "data": {
      "text/latex": [
       "$\\displaystyle \n",
       "        \\begin{equation}\n",
       "            \\tan(w) = \\frac{y}{-x} = \\frac{- \\sin{\\left (d \\right )} \\cos{\\left (i \\right )} \\cot{\\left (\\mu  \\right )} + \\sin{\\left (i \\right )} \\cos{\\left (\\phi  \\right )} + \\sin{\\left (\\phi  \\right )} \\cos{\\left (d \\right )} \\cos{\\left (i \\right )}}{\\sin{\\left (d \\right )} \\sin{\\left (\\phi  \\right )} + \\cos{\\left (d \\right )} \\cot{\\left (\\mu  \\right )}} \\nonumber\n",
       "        \\end{equation}\n",
       "        $"
      ],
      "text/plain": [
       "<IPython.core.display.Math object>"
      ]
     },
     "execution_count": 3,
     "metadata": {},
     "output_type": "execute_result"
    }
   ],
   "source": [
    "x, y = result.shadow_coords_xy()\n",
    "tan_w = (-y/x).subs(cos(mu), cot(mu)*sin(mu))\n",
    "render.expression(r\"\\tan(w) = \\frac{y}{-x}\", rohr(tan_w))"
   ]
  },
  {
   "cell_type": "markdown",
   "metadata": {},
   "source": [
    "This matches the expression given for $\\tan(w)$ around the middle of the left-hand column of page 78 in Rohr's book.\n",
    "\n",
    "## The Subgnomon\n",
    "Rohr proceeds to calculate the angle between the style and the substyle, which is the projection of the style onto the\n",
    "dial face. Here, we have a gnomon $g$, and define the subgnomon $b$ similarly, given by $b = R \\bar{b} \\tilde{R}$ where\n",
    "$R = \\exp(\\pi/4 \\, G)$ (see [analemma.algebra.result.gnomon_dialface_angle_sin][] for details)."
   ]
  },
  {
   "cell_type": "code",
   "execution_count": 4,
   "metadata": {},
   "outputs": [
    {
     "data": {
      "text/latex": [
       "$\\displaystyle \n",
       "        \\begin{equation}\n",
       "            b = \\left ( \\sin{\\left (i \\right )} \\cos{\\left (\\iota  \\right )} - \\sin{\\left (\\iota  \\right )} \\cos{\\left (d \\right )} \\cos{\\left (i \\right )}\\right ) \\boldsymbol{m}_{1} + \\sin{\\left (d \\right )} \\sin{\\left (\\iota  \\right )} \\boldsymbol{m}_{2} \\nonumber\n",
       "        \\end{equation}\n",
       "        $"
      ],
      "text/plain": [
       "<IPython.core.display.Math object>"
      ]
     },
     "execution_count": 4,
     "metadata": {},
     "output_type": "execute_result"
    }
   ],
   "source": [
    "gn = frame.gnomon() # on the surface frame (n-basis)\n",
    "gm = util.project_vector(gn, frame.dial(), frame.base(\"m\")) # projected onto the dial frame (m-basis)\n",
    "\n",
    "bn = util.update_coeffs(util.rotate(gn|Gn, -sp.pi/2, Gn).trigsimp()) # n-basis\n",
    "bm = util.project_vector(bn, frame.dial(), frame.base(\"m\")) # m-basis\n",
    "\n",
    "render.expression(\"b\", bm)\n"
   ]
  },
  {
   "cell_type": "markdown",
   "metadata": {},
   "source": [
    "$b$ is not a unit vector like $g$, but has length $\\cos(A)$ where $A$ is the angle we seek, denoted as $\\alpha$ in Rohr. Fortunately, $1-b^2$ has a nice factorization which yields the following."
   ]
  },
  {
   "cell_type": "code",
   "execution_count": 5,
   "metadata": {},
   "outputs": [
    {
     "data": {
      "text/latex": [
       "$\\displaystyle \n",
       "        \\begin{equation}\n",
       "            \\sin(\\alpha) = \\sin{\\left (i \\right )} \\cos{\\left (d \\right )} \\cos{\\left (\\phi  \\right )} + \\sin{\\left (\\phi  \\right )} \\cos{\\left (i \\right )} \\nonumber\n",
       "        \\end{equation}\n",
       "        $"
      ],
      "text/plain": [
       "<IPython.core.display.Math object>"
      ]
     },
     "execution_count": 5,
     "metadata": {},
     "output_type": "execute_result"
    }
   ],
   "source": [
    "sinA = result.gnomon_dialface_angle_sin()\n",
    "render.expression(r\"\\sin(\\alpha)\", rohr(sinA))"
   ]
  },
  {
   "cell_type": "markdown",
   "metadata": {},
   "source": [
    "This matches Equation 7 on page 78 of Rohr's book.\n",
    "\n",
    "The angle between the subgnomon and the noon line is called $\\beta$ by Rohr and $B$ in `analemma` notation before applying the `rohr` function defined above. Its cosine can be calculated as a simple scalar product of two unit vectors."
   ]
  },
  {
   "cell_type": "code",
   "execution_count": 6,
   "metadata": {},
   "outputs": [
    {
     "data": {
      "text/latex": [
       "$\\displaystyle \n",
       "        \\begin{equation}\n",
       "            \\cos(B) = \\frac{\\sin{\\left (i \\right )} \\cos{\\left (d \\right )} \\cos{\\left (\\iota  \\right )} - \\sin{\\left (\\iota  \\right )} \\cos{\\left (i \\right )}}{\\sqrt{- {\\sin{\\left (d \\right )}}^{2} {\\sin{\\left (i \\right )}}^{2} + 1} \\cos{\\left (A \\right )}} \\nonumber\n",
       "        \\end{equation}\n",
       "        $"
      ],
      "text/plain": [
       "<IPython.core.display.Math object>"
      ]
     },
     "execution_count": 6,
     "metadata": {},
     "output_type": "execute_result"
    }
   ],
   "source": [
    "unit_subgnomon = bn/cos(A)\n",
    "cosB = unit_subgnomon|noon_shadow\n",
    "render.expression(r\"\\cos(B)\", cosB)"
   ]
  },
  {
   "cell_type": "markdown",
   "metadata": {},
   "source": [
    "To find $\\sin(B)$, we can use the fact that we know the unit bivector $G$ that will rotate it in the plane shared by the subgnomon."
   ]
  },
  {
   "cell_type": "code",
   "execution_count": 7,
   "metadata": {},
   "outputs": [
    {
     "data": {
      "text/latex": [
       "$\\displaystyle \n",
       "        \\begin{equation}\n",
       "            \\sin(B) = \\frac{\\left(\\sin{\\left (i \\right )} \\sin{\\left (\\iota  \\right )} \\cos{\\left (d \\right )} + \\cos{\\left (i \\right )} \\cos{\\left (\\iota  \\right )}\\right) \\sin{\\left (d \\right )} \\sin{\\left (i \\right )}}{\\sqrt{- {\\sin{\\left (d \\right )}}^{2} {\\sin{\\left (i \\right )}}^{2} + 1} \\cos{\\left (A \\right )}} \\nonumber\n",
       "        \\end{equation}\n",
       "        $"
      ],
      "text/plain": [
       "<IPython.core.display.Math object>"
      ]
     },
     "execution_count": 7,
     "metadata": {},
     "output_type": "execute_result"
    }
   ],
   "source": [
    "sinB = unit_subgnomon|util.rotate(noon_shadow, sp.pi/2, Gn)\n",
    "render.expression(r\"\\sin(B)\", sinB)"
   ]
  },
  {
   "cell_type": "markdown",
   "metadata": {},
   "source": [
    "The inelegant denominator cancels in the ratio. Moving to Rohr's notation, we have a formula that matches the expression at the bottom of the right-hand column of page 78."
   ]
  },
  {
   "cell_type": "code",
   "execution_count": 8,
   "metadata": {},
   "outputs": [
    {
     "data": {
      "text/latex": [
       "$\\displaystyle \n",
       "        \\begin{equation}\n",
       "            \\tan(\\beta) = - \\frac{\\left(\\sin{\\left (i \\right )} \\cos{\\left (d \\right )} + \\cos{\\left (i \\right )} \\tan{\\left (\\phi  \\right )}\\right) \\sin{\\left (d \\right )} \\sin{\\left (i \\right )}}{\\sin{\\left (i \\right )} \\cos{\\left (d \\right )} \\tan{\\left (\\phi  \\right )} - \\cos{\\left (i \\right )}} \\nonumber\n",
       "        \\end{equation}\n",
       "        $"
      ],
      "text/plain": [
       "<IPython.core.display.Math object>"
      ]
     },
     "execution_count": 8,
     "metadata": {},
     "output_type": "execute_result"
    }
   ],
   "source": [
    "tanB = (sinB/cosB).subs(sin(iota), tan(iota)*cos(iota))\n",
    "render.expression( r\"\\tan(\\beta)\", rohr(tanB))"
   ]
  }
 ],
 "metadata": {
  "kernelspec": {
   "display_name": "venv",
   "language": "python",
   "name": "python3"
  },
  "language_info": {
   "codemirror_mode": {
    "name": "ipython",
    "version": 3
   },
   "file_extension": ".py",
   "mimetype": "text/x-python",
   "name": "python",
   "nbconvert_exporter": "python",
   "pygments_lexer": "ipython3",
   "version": "3.12.5"
  }
 },
 "nbformat": 4,
 "nbformat_minor": 2
}
