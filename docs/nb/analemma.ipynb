{
 "cells": [
  {
   "cell_type": "markdown",
   "metadata": {},
   "source": [
    "# The Analemma\n",
    "\n",
    "TODO words"
   ]
  },
  {
   "cell_type": "code",
   "execution_count": 1,
   "metadata": {},
   "outputs": [],
   "source": [
    "import sympy as sp\n",
    "from sympy import sin, cos, tan\n",
    "from sympy.abc import mu, sigma, psi, D, iota, theta\n",
    "\n",
    "from analemma.algebra import frame, render, result"
   ]
  },
  {
   "cell_type": "code",
   "execution_count": 2,
   "metadata": {},
   "outputs": [
    {
     "data": {
      "text/latex": [
       "$\\displaystyle \n",
       "        \\begin{equation}\n",
       "            x = \\frac{\\left(- \\sin{\\left (d \\right )} \\sin{\\left (\\mu  \\right )} \\cos{\\left (\\iota  \\right )} + \\cos{\\left (d \\right )} \\cos{\\left (\\mu  \\right )}\\right) \\sin{\\left (\\Xi \\right )}}{D} \\nonumber\n",
       "        \\end{equation}\n",
       "        \\\\\n",
       "        \\begin{equation}\n",
       "             = \\mathtt{\\text{}} \\nonumber\n",
       "        \\end{equation}\n",
       "        \\\\\n",
       "        \\begin{equation}\n",
       "            y = - \\frac{\\left(\\left(\\sin{\\left (i \\right )} \\sin{\\left (\\iota  \\right )} + \\sin{\\left (\\mu  \\right )} \\cos{\\left (d \\right )} \\cos{\\left (i \\right )} \\cos{\\left (\\iota  \\right )}\\right) \\sin{\\left (\\mu  \\right )} + \\sin{\\left (d \\right )} \\cos{\\left (i \\right )} \\cos{\\left (\\mu  \\right )}\\right) \\sin{\\left (\\Xi \\right )}}{D} \\nonumber\n",
       "        \\end{equation}\n",
       "        $"
      ],
      "text/plain": [
       "<IPython.core.display.Math object>"
      ]
     },
     "execution_count": 2,
     "metadata": {},
     "output_type": "execute_result"
    }
   ],
   "source": [
    "x, y = result.shadow_coords_xy()\n",
    "\n",
    "render.expressions((\"x\", \"\", \"y\"), (x, \"\", y)) # TODO vskip"
   ]
  },
  {
   "cell_type": "markdown",
   "metadata": {},
   "source": [
    "We have explicit forms for $\\sin(\\Xi)\\sin(\\mu)$, $\\sin(\\Xi)\\cos(\\mu)$ and $D$, allowing the shadow coordinates to be expressed in terms of the Earth's orientation parameters $\\alpha$, $\\sigma$, and $\\psi$, together with the sundial parameters $\\theta$, $i$, $d$ and $\\iota$:"
   ]
  },
  {
   "cell_type": "code",
   "execution_count": 3,
   "metadata": {},
   "outputs": [
    {
     "data": {
      "text/latex": [
       "$\\displaystyle \n",
       "        \\begin{equation}\n",
       "            x = \\frac{- \\left(\\sin{\\left (\\psi  \\right )} \\cos{\\left (\\alpha  \\right )} - \\cos{\\left (\\psi  \\right )} \\tan{\\left (\\sigma  \\right )}\\right) \\sin{\\left (d \\right )} \\cos{\\left (\\iota  \\right )} + \\left(- \\sin{\\left (\\alpha  \\right )} \\sin{\\left (\\iota  - \\theta  \\right )} + \\sin{\\left (\\psi  \\right )} \\cos{\\left (\\iota  - \\theta  \\right )} \\tan{\\left (\\sigma  \\right )} + \\cos{\\left (\\alpha  \\right )} \\cos{\\left (\\psi  \\right )} \\cos{\\left (\\iota  - \\theta  \\right )}\\right) \\cos{\\left (d \\right )}}{- \\left(\\sin{\\left (\\psi  \\right )} \\cos{\\left (\\alpha  \\right )} - \\cos{\\left (\\psi  \\right )} \\tan{\\left (\\sigma  \\right )}\\right) \\sin{\\left (d \\right )} \\sin{\\left (i \\right )} + \\left(\\sin{\\left (\\psi  \\right )} \\tan{\\left (\\sigma  \\right )} + \\cos{\\left (\\alpha  \\right )} \\cos{\\left (\\psi  \\right )}\\right) \\left(\\sin{\\left (i \\right )} \\cos{\\left (d \\right )} \\cos{\\left (\\theta  \\right )} - \\sin{\\left (\\theta  \\right )} \\cos{\\left (i \\right )}\\right) + \\left(\\sin{\\left (i \\right )} \\sin{\\left (\\theta  \\right )} \\cos{\\left (d \\right )} + \\cos{\\left (i \\right )} \\cos{\\left (\\theta  \\right )}\\right) \\sin{\\left (\\alpha  \\right )}} \\nonumber\n",
       "        \\end{equation}\n",
       "        $"
      ],
      "text/plain": [
       "<IPython.core.display.Math object>"
      ]
     },
     "execution_count": 3,
     "metadata": {},
     "output_type": "execute_result"
    }
   ],
   "source": [
    "def _simplify_shadow_coord_terms(term):\n",
    "\n",
    "    S = result.shadow_bivector()\n",
    "    M = frame.meridian_plane()\n",
    "    sinXi_sin_mu, sinXi_cos_mu = result.hour_angle_sincos(S, M)\n",
    "\n",
    "    Xi = sp.Symbol(r\"\\Xi\")\n",
    "\n",
    "    term = (term/sin(Xi)).subs(sin(mu), sinXi_sin_mu).subs(cos(mu), sinXi_cos_mu).simplify()\n",
    "    term = term.subs(sin(sigma), tan(sigma)*cos(sigma)).simplify()\n",
    "    return sp.collect(sp.collect(sp.collect(term, cos(psi)), sin(psi)), tan(sigma))\n",
    "\n",
    "S = result.shadow_bivector()\n",
    "M = frame.meridian_plane()\n",
    "sinXi_sin_mu, sinXi_cos_mu = result.hour_angle_sincos(S, M)\n",
    "\n",
    "mu_s = sp.Symbol(r\"\\mu_s\")\n",
    "Xi_s = sp.Symbol(r\"\\Xi_s\")\n",
    "Xi = sp.Symbol(r\"\\Xi\")\n",
    "D_soln = result.shadow_triangle_solution()\n",
    "\n",
    "D_explicit = sp.simplify(D_soln.subs(mu_s,mu).subs(Xi_s,Xi).subs(sin(mu),sinXi_sin_mu/sin(Xi)).subs(cos(mu),sinXi_cos_mu/sin(Xi)).subs(iota,theta))\n",
    "D_simple = sp.denom(D_explicit).subs(sin(sigma), tan(sigma)*cos(sigma)).simplify()\n",
    "render.expression(\"x\", _simplify_shadow_coord_terms(x*D) / D_simple)\n"
   ]
  },
  {
   "cell_type": "code",
   "execution_count": 4,
   "metadata": {},
   "outputs": [
    {
     "data": {
      "text/latex": [
       "$\\displaystyle \n",
       "        \\begin{equation}\n",
       "            y = \\frac{- \\left(\\sin{\\left (\\psi  \\right )} \\cos{\\left (\\alpha  \\right )} - \\cos{\\left (\\psi  \\right )} \\tan{\\left (\\sigma  \\right )}\\right) \\left(\\left(\\sin{\\left (\\psi  \\right )} \\cos{\\left (\\alpha  \\right )} \\cos{\\left (\\sigma  \\right )} - \\sin{\\left (\\sigma  \\right )} \\cos{\\left (\\psi  \\right )}\\right) \\cos{\\left (d \\right )} \\cos{\\left (i \\right )} \\cos{\\left (\\iota  \\right )} + \\sin{\\left (i \\right )} \\sin{\\left (\\iota  \\right )}\\right) - \\left(- \\sin{\\left (\\alpha  \\right )} \\sin{\\left (\\iota  - \\theta  \\right )} + \\sin{\\left (\\psi  \\right )} \\cos{\\left (\\iota  - \\theta  \\right )} \\tan{\\left (\\sigma  \\right )} + \\cos{\\left (\\alpha  \\right )} \\cos{\\left (\\psi  \\right )} \\cos{\\left (\\iota  - \\theta  \\right )}\\right) \\sin{\\left (d \\right )} \\cos{\\left (i \\right )}}{- \\left(\\sin{\\left (\\psi  \\right )} \\cos{\\left (\\alpha  \\right )} - \\cos{\\left (\\psi  \\right )} \\tan{\\left (\\sigma  \\right )}\\right) \\sin{\\left (d \\right )} \\sin{\\left (i \\right )} + \\left(\\sin{\\left (\\psi  \\right )} \\tan{\\left (\\sigma  \\right )} + \\cos{\\left (\\alpha  \\right )} \\cos{\\left (\\psi  \\right )}\\right) \\left(\\sin{\\left (i \\right )} \\cos{\\left (d \\right )} \\cos{\\left (\\theta  \\right )} - \\sin{\\left (\\theta  \\right )} \\cos{\\left (i \\right )}\\right) + \\left(\\sin{\\left (i \\right )} \\sin{\\left (\\theta  \\right )} \\cos{\\left (d \\right )} + \\cos{\\left (i \\right )} \\cos{\\left (\\theta  \\right )}\\right) \\sin{\\left (\\alpha  \\right )}} \\nonumber\n",
       "        \\end{equation}\n",
       "        $"
      ],
      "text/plain": [
       "<IPython.core.display.Math object>"
      ]
     },
     "execution_count": 4,
     "metadata": {},
     "output_type": "execute_result"
    }
   ],
   "source": [
    "render.expression(\"y\", _simplify_shadow_coord_terms(y*D) / D_simple)"
   ]
  },
  {
   "cell_type": "code",
   "execution_count": 5,
   "metadata": {},
   "outputs": [
    {
     "data": {
      "text/latex": [
       "$\\displaystyle \n",
       "        \\begin{equation}\n",
       "            x = \\frac{- \\left(\\sin{\\left (\\psi  \\right )} \\cos{\\left (\\alpha  \\right )} - \\cos{\\left (\\psi  \\right )} \\tan{\\left (\\sigma  \\right )}\\right) \\sin{\\left (d \\right )} \\cos{\\left (\\iota  \\right )} + \\left(- \\sin{\\left (\\alpha  \\right )} \\sin{\\left (\\iota  - \\theta  \\right )} + \\sin{\\left (\\psi  \\right )} \\cos{\\left (\\iota  - \\theta  \\right )} \\tan{\\left (\\sigma  \\right )} + \\cos{\\left (\\alpha  \\right )} \\cos{\\left (\\psi  \\right )} \\cos{\\left (\\iota  - \\theta  \\right )}\\right) \\cos{\\left (d \\right )}}{- \\left(\\sin{\\left (\\psi  \\right )} \\cos{\\left (\\alpha  \\right )} - \\cos{\\left (\\psi  \\right )} \\tan{\\left (\\sigma  \\right )}\\right) \\sin{\\left (d \\right )} \\sin{\\left (i \\right )} + \\left(\\sin{\\left (\\psi  \\right )} \\tan{\\left (\\sigma  \\right )} + \\cos{\\left (\\alpha  \\right )} \\cos{\\left (\\psi  \\right )}\\right) \\left(\\sin{\\left (i \\right )} \\cos{\\left (d \\right )} \\cos{\\left (\\theta  \\right )} - \\sin{\\left (\\theta  \\right )} \\cos{\\left (i \\right )}\\right) + \\left(\\sin{\\left (i \\right )} \\sin{\\left (\\theta  \\right )} \\cos{\\left (d \\right )} + \\cos{\\left (i \\right )} \\cos{\\left (\\theta  \\right )}\\right) \\sin{\\left (\\alpha  \\right )}} \\nonumber\n",
       "        \\end{equation}\n",
       "        \\\\\n",
       "        \\begin{equation}\n",
       "            y = \\frac{- \\left(\\sin{\\left (\\psi  \\right )} \\cos{\\left (\\alpha  \\right )} - \\cos{\\left (\\psi  \\right )} \\tan{\\left (\\sigma  \\right )}\\right) \\left(\\left(\\sin{\\left (\\psi  \\right )} \\cos{\\left (\\alpha  \\right )} \\cos{\\left (\\sigma  \\right )} - \\sin{\\left (\\sigma  \\right )} \\cos{\\left (\\psi  \\right )}\\right) \\cos{\\left (d \\right )} \\cos{\\left (i \\right )} \\cos{\\left (\\iota  \\right )} + \\sin{\\left (i \\right )} \\sin{\\left (\\iota  \\right )}\\right) - \\left(- \\sin{\\left (\\alpha  \\right )} \\sin{\\left (\\iota  - \\theta  \\right )} + \\sin{\\left (\\psi  \\right )} \\cos{\\left (\\iota  - \\theta  \\right )} \\tan{\\left (\\sigma  \\right )} + \\cos{\\left (\\alpha  \\right )} \\cos{\\left (\\psi  \\right )} \\cos{\\left (\\iota  - \\theta  \\right )}\\right) \\sin{\\left (d \\right )} \\cos{\\left (i \\right )}}{- \\left(\\sin{\\left (\\psi  \\right )} \\cos{\\left (\\alpha  \\right )} - \\cos{\\left (\\psi  \\right )} \\tan{\\left (\\sigma  \\right )}\\right) \\sin{\\left (d \\right )} \\sin{\\left (i \\right )} + \\left(\\sin{\\left (\\psi  \\right )} \\tan{\\left (\\sigma  \\right )} + \\cos{\\left (\\alpha  \\right )} \\cos{\\left (\\psi  \\right )}\\right) \\left(\\sin{\\left (i \\right )} \\cos{\\left (d \\right )} \\cos{\\left (\\theta  \\right )} - \\sin{\\left (\\theta  \\right )} \\cos{\\left (i \\right )}\\right) + \\left(\\sin{\\left (i \\right )} \\sin{\\left (\\theta  \\right )} \\cos{\\left (d \\right )} + \\cos{\\left (i \\right )} \\cos{\\left (\\theta  \\right )}\\right) \\sin{\\left (\\alpha  \\right )}} \\nonumber\n",
       "        \\end{equation}\n",
       "        $"
      ],
      "text/plain": [
       "<IPython.core.display.Math object>"
      ]
     },
     "execution_count": 5,
     "metadata": {},
     "output_type": "execute_result"
    }
   ],
   "source": [
    "xe, ye = result.shadow_coords_xy_explicit()\n",
    "render.expressions((\"x\", \"y\"), (xe, ye))"
   ]
  }
 ],
 "metadata": {
  "kernelspec": {
   "display_name": "venv",
   "language": "python",
   "name": "python3"
  },
  "language_info": {
   "codemirror_mode": {
    "name": "ipython",
    "version": 3
   },
   "file_extension": ".py",
   "mimetype": "text/x-python",
   "name": "python",
   "nbconvert_exporter": "python",
   "pygments_lexer": "ipython3",
   "version": "3.12.5"
  }
 },
 "nbformat": 4,
 "nbformat_minor": 2
}
