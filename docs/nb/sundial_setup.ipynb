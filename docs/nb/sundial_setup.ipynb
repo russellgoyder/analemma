{
 "cells": [
  {
   "cell_type": "markdown",
   "metadata": {},
   "source": [
    "# Setup and Definitions\n",
    "\n",
    "TODO blurb"
   ]
  },
  {
   "cell_type": "code",
   "execution_count": 1,
   "metadata": {},
   "outputs": [],
   "source": [
    "import sympy as sp\n",
    "from sympy import sin, cos, tan\n",
    "from sympy.abc import alpha, psi, sigma, i, d, iota, delta\n",
    "from analemma.algebra import frame, render, util"
   ]
  },
  {
   "cell_type": "markdown",
   "metadata": {},
   "source": [
    "Will also want $s$ on the $n$ frame TODO"
   ]
  },
  {
   "cell_type": "markdown",
   "metadata": {},
   "source": [
    "## Fixed Stars Frame\n",
    "\n",
    "First, we define the geometric algebra of 3-space and some basis blades from the frame of the \"fixed stars\"\n",
    "\n",
    "![Earth's orientation and orbit](https://raw.githubusercontent.com/russellgoyder/sundial-latex/main/figs/MainArena.png?token=GHSAT0AAAAAAB73Q3JM6JGFDMRHPPAJKRQ2ZAWFO7Q \"Earth's orientation and orbit.\")."
   ]
  },
  {
   "cell_type": "code",
   "execution_count": 2,
   "metadata": {},
   "outputs": [],
   "source": [
    "e1, e2, e3 = frame.base(\"e\")\n",
    "\n",
    "def check_orthnormal(three_frame) -> None:\n",
    "    \"\"\"\n",
    "    Check that a frame of three vectors is orthonormal\n",
    "\n",
    "    Ensure that the geometric product of the vectors is equal to the pseudoscalar\n",
    "    \"\"\"\n",
    "    v1, v2, v3 = three_frame\n",
    "    # this is more elegant\n",
    "    # assert (v1*v2*v3).trigsimp().obj.equals((e1^e2^e3).obj)\n",
    "    # but this is significantly faster and equivalent\n",
    "    assert v1|v1 == v2|v2 == v3|v3 == frame.scalar_element(1)\n",
    "    assert v1|v2 == v1|v3 == v2|v3 == frame.scalar_element(0)\n",
    "\n",
    "check_orthnormal((e1, e2, e3))"
   ]
  },
  {
   "cell_type": "markdown",
   "metadata": {},
   "source": [
    "### Earth Frame\n",
    "\n",
    "Now, let the tilt of the earth's plane (axis) of rotation be $\\alpha$ and measure the earth's rotation by $\\psi$. Then we can define the Earth frame as follows."
   ]
  },
  {
   "cell_type": "code",
   "execution_count": 3,
   "metadata": {},
   "outputs": [
    {
     "data": {
      "text/latex": [
       "$\\displaystyle \\begin{align} f_0 &= \\cos{\\left (\\alpha  \\right )} \\cos{\\left (\\psi  \\right )} \\boldsymbol{e}_{1} + \\sin{\\left (\\psi  \\right )} \\boldsymbol{e}_{2} + \\sin{\\left (\\alpha  \\right )} \\cos{\\left (\\psi  \\right )} \\boldsymbol{e}_{3}\\nonumber \\\\ f_1 &= - \\sin{\\left (\\psi  \\right )} \\cos{\\left (\\alpha  \\right )} \\boldsymbol{e}_{1} + \\cos{\\left (\\psi  \\right )} \\boldsymbol{e}_{2} - \\sin{\\left (\\alpha  \\right )} \\sin{\\left (\\psi  \\right )} \\boldsymbol{e}_{3}\\nonumber \\\\ f_2 &= - \\sin{\\left (\\alpha  \\right )} \\boldsymbol{e}_{1} + \\cos{\\left (\\alpha  \\right )} \\boldsymbol{e}_{3}\\nonumber \\end{align}$"
      ],
      "text/plain": [
       "<IPython.core.display.Math object>"
      ]
     },
     "execution_count": 3,
     "metadata": {},
     "output_type": "execute_result"
    }
   ],
   "source": [
    "f1, f2, f3 = frame.planet()\n",
    "check_orthnormal((f1, f2, f3))\n",
    "render.frame(\"f\", (f1,f2,f3))"
   ]
  },
  {
   "cell_type": "markdown",
   "metadata": {},
   "source": [
    "The equatorial plane should only depend on the tilt of the Earth's axis of spin $\\alpha$, not the angle by which it has rotated relative to the fixed stars $\\psi$."
   ]
  },
  {
   "cell_type": "code",
   "execution_count": 4,
   "metadata": {},
   "outputs": [
    {
     "data": {
      "text/latex": [
       "$\\displaystyle \n",
       "        \\begin{equation}\n",
       "            f_1 \\wedge f_2 = \\cos{\\left (\\alpha  \\right )} \\boldsymbol{e}_{1}\\wedge \\boldsymbol{e}_{2} - \\sin{\\left (\\alpha  \\right )} \\boldsymbol{e}_{2}\\wedge \\boldsymbol{e}_{3} \\nonumber\n",
       "        \\end{equation}\n",
       "        $"
      ],
      "text/plain": [
       "<IPython.core.display.Math object>"
      ]
     },
     "execution_count": 4,
     "metadata": {},
     "output_type": "execute_result"
    }
   ],
   "source": [
    "render.expression(r\"f_1 \\wedge f_2\", (f1^f2))"
   ]
  },
  {
   "cell_type": "markdown",
   "metadata": {},
   "source": [
    "### Surface Frame\n",
    "\n",
    "Define an orthonormal frame embedded in the Earth's surface, with $n_1$ pointing South, $n_2$ pointing East and $n_3$ pointing up.\n",
    "\n",
    "![](https://raw.githubusercontent.com/russellgoyder/sundial-latex/main/figs/SurfaceFrame.png?token=GHSAT0AAAAAAB73Q3JNXNOAJWYLCUINTVLUZAWF6JQ \"Frame embedded in Earth's surface.\").\n",
    "\n",
    "<!-- ![](https://raw.githubusercontent.com/russellgoyder/sundial-latex/main/figs/SurfaceFrame.svg?token=GHSAT0AAAAAAB73Q3JNXNOAJWYLCUINTVLUZAWF6JQ \"Frame embedded in Earth's surface.\"). -->"
   ]
  },
  {
   "cell_type": "code",
   "execution_count": 5,
   "metadata": {},
   "outputs": [
    {
     "data": {
      "text/latex": [
       "$\\displaystyle \\begin{align} n_0 &= \\left ( \\sin{\\left (\\alpha  \\right )} \\sin{\\left (\\theta  \\right )} + \\cos{\\left (\\alpha  \\right )} \\cos{\\left (\\psi  \\right )} \\cos{\\left (\\theta  \\right )}\\right ) \\boldsymbol{e}_{1} + \\sin{\\left (\\psi  \\right )} \\cos{\\left (\\theta  \\right )} \\boldsymbol{e}_{2} + \\left ( \\sin{\\left (\\alpha  \\right )} \\cos{\\left (\\psi  \\right )} \\cos{\\left (\\theta  \\right )} - \\sin{\\left (\\theta  \\right )} \\cos{\\left (\\alpha  \\right )}\\right ) \\boldsymbol{e}_{3}\\nonumber \\\\ n_1 &= - \\sin{\\left (\\psi  \\right )} \\cos{\\left (\\alpha  \\right )} \\boldsymbol{e}_{1} + \\cos{\\left (\\psi  \\right )} \\boldsymbol{e}_{2} - \\sin{\\left (\\alpha  \\right )} \\sin{\\left (\\psi  \\right )} \\boldsymbol{e}_{3}\\nonumber \\\\ n_2 &= \\left ( - \\sin{\\left (\\alpha  \\right )} \\cos{\\left (\\theta  \\right )} + \\sin{\\left (\\theta  \\right )} \\cos{\\left (\\alpha  \\right )} \\cos{\\left (\\psi  \\right )}\\right ) \\boldsymbol{e}_{1} + \\sin{\\left (\\psi  \\right )} \\sin{\\left (\\theta  \\right )} \\boldsymbol{e}_{2} + \\left ( \\sin{\\left (\\alpha  \\right )} \\sin{\\left (\\theta  \\right )} \\cos{\\left (\\psi  \\right )} + \\cos{\\left (\\alpha  \\right )} \\cos{\\left (\\theta  \\right )}\\right ) \\boldsymbol{e}_{3}\\nonumber \\end{align}$"
      ],
      "text/plain": [
       "<IPython.core.display.Math object>"
      ]
     },
     "execution_count": 5,
     "metadata": {},
     "output_type": "execute_result"
    }
   ],
   "source": [
    "n1, n2, n3 = frame.surface()\n",
    "\n",
    "check_orthnormal((n1, n2, n3))\n",
    "\n",
    "render.frame(\"n\", (n1,n2,n3))"
   ]
  },
  {
   "cell_type": "markdown",
   "metadata": {},
   "source": [
    "### Orbit Rotor and Meridian Plane\n",
    "\n",
    "Earth orbit rotor $R_\\sigma$, and vector parallel to rays of sunshine, $s$."
   ]
  },
  {
   "cell_type": "code",
   "execution_count": 6,
   "metadata": {},
   "outputs": [
    {
     "data": {
      "text/latex": [
       "$\\displaystyle \n",
       "        \\begin{equation}\n",
       "            s = \\cos{\\left (\\sigma  \\right )} \\boldsymbol{e}_{1} + \\sin{\\left (\\sigma  \\right )} \\boldsymbol{e}_{2} \\nonumber\n",
       "        \\end{equation}\n",
       "        $"
      ],
      "text/plain": [
       "<IPython.core.display.Math object>"
      ]
     },
     "execution_count": 6,
     "metadata": {},
     "output_type": "execute_result"
    }
   ],
   "source": [
    "s = frame.sunray()\n",
    "\n",
    "render.expression(\"s\", s)"
   ]
  },
  {
   "cell_type": "markdown",
   "metadata": {},
   "source": [
    "The meridian plane, $M = n_1 \\wedge n_3$."
   ]
  },
  {
   "cell_type": "code",
   "execution_count": 7,
   "metadata": {},
   "outputs": [
    {
     "data": {
      "text/latex": [
       "$\\displaystyle \n",
       "        \\begin{equation}\n",
       "            M = \\sin{\\left (\\alpha  \\right )} \\sin{\\left (\\psi  \\right )} \\boldsymbol{e}_{1}\\wedge \\boldsymbol{e}_{2} + \\cos{\\left (\\psi  \\right )} \\boldsymbol{e}_{1}\\wedge \\boldsymbol{e}_{3} + \\sin{\\left (\\psi  \\right )} \\cos{\\left (\\alpha  \\right )} \\boldsymbol{e}_{2}\\wedge \\boldsymbol{e}_{3} \\nonumber\n",
       "        \\end{equation}\n",
       "        $"
      ],
      "text/plain": [
       "<IPython.core.display.Math object>"
      ]
     },
     "execution_count": 7,
     "metadata": {},
     "output_type": "execute_result"
    }
   ],
   "source": [
    "M = frame.meridian_plane()\n",
    "render.expression(\"M\", M)"
   ]
  },
  {
   "cell_type": "markdown",
   "metadata": {},
   "source": [
    "The noon line is the intersection of the sunshine vector $s$ and the meridian plane $M$, which occurs where $s \\wedge M$ vanishes."
   ]
  },
  {
   "cell_type": "code",
   "execution_count": 8,
   "metadata": {},
   "outputs": [
    {
     "data": {
      "text/latex": [
       "$\\displaystyle \\left ( \\sin{\\left (\\psi  \\right )} \\cos{\\left (\\alpha  \\right )} \\cos{\\left (\\sigma  \\right )} - \\sin{\\left (\\sigma  \\right )} \\cos{\\left (\\psi  \\right )}\\right ) \\boldsymbol{e}_{1}\\wedge \\boldsymbol{e}_{2}\\wedge \\boldsymbol{e}_{3}$"
      ],
      "text/plain": [
       "<IPython.core.display.Math object>"
      ]
     },
     "execution_count": 8,
     "metadata": {},
     "output_type": "execute_result"
    }
   ],
   "source": [
    "render.multivector( (s^M).trigsimp() )"
   ]
  },
  {
   "cell_type": "code",
   "execution_count": 9,
   "metadata": {},
   "outputs": [
    {
     "data": {
      "text/latex": [
       "$\\displaystyle \n",
       "        \\begin{equation}\n",
       "            \\tan(\\psi) = \\frac{\\tan{\\left (\\sigma  \\right )}}{\\cos{\\left (\\alpha  \\right )}} \\nonumber\n",
       "        \\end{equation}\n",
       "        $"
      ],
      "text/plain": [
       "<IPython.core.display.Math object>"
      ]
     },
     "execution_count": 9,
     "metadata": {},
     "output_type": "execute_result"
    }
   ],
   "source": [
    "coeff = (s^M).trigsimp().get_coefs(3)[0]\n",
    "soln = sp.solve(coeff.subs(sin(psi), tan(psi)*cos(psi)), tan(psi))[0]\n",
    "\n",
    "assert soln.equals(tan(sigma)/cos(alpha))\n",
    "render.expression( r\"\\tan(\\psi)\", soln )"
   ]
  },
  {
   "cell_type": "markdown",
   "metadata": {},
   "source": [
    "### Dial face and gnomon\n",
    "\n",
    "Define an orthonormal frame $u_1, u_2, u_3$ as the unevaluated version of $n_1, n_2, n_3$.\n",
    "\n",
    "![](https://raw.githubusercontent.com/russellgoyder/sundial-latex/main/figs/DialFrame.png?token=GHSAT0AAAAAAB73Q3JNJN46TIEHP3QCWWGYZAWGADA \"Frame embedded in the sundial's face.\").\n"
   ]
  },
  {
   "cell_type": "markdown",
   "metadata": {},
   "source": [
    "Frame embedded in dial face."
   ]
  },
  {
   "cell_type": "code",
   "execution_count": 10,
   "metadata": {},
   "outputs": [
    {
     "data": {
      "text/latex": [
       "$\\displaystyle \\begin{align} m_0 &= \\cos{\\left (d \\right )} \\cos{\\left (i \\right )} \\boldsymbol{n}_{1} + \\sin{\\left (d \\right )} \\cos{\\left (i \\right )} \\boldsymbol{n}_{2} + \\sin{\\left (i \\right )} \\boldsymbol{n}_{3}\\nonumber \\\\ m_1 &= - \\sin{\\left (d \\right )} \\boldsymbol{n}_{1} + \\cos{\\left (d \\right )} \\boldsymbol{n}_{2}\\nonumber \\\\ m_2 &= - \\sin{\\left (i \\right )} \\cos{\\left (d \\right )} \\boldsymbol{n}_{1} - \\sin{\\left (d \\right )} \\sin{\\left (i \\right )} \\boldsymbol{n}_{2} + \\cos{\\left (i \\right )} \\boldsymbol{n}_{3}\\nonumber \\end{align}$"
      ],
      "text/plain": [
       "<IPython.core.display.Math object>"
      ]
     },
     "execution_count": 10,
     "metadata": {},
     "output_type": "execute_result"
    }
   ],
   "source": [
    "m1, m2, m3 = frame.dial()\n",
    "\n",
    "render.frame(\"m\", (m1,m2,m3))"
   ]
  },
  {
   "cell_type": "markdown",
   "metadata": {},
   "source": [
    "Dial face expressed relative to $n$ basis: $G_n$."
   ]
  },
  {
   "cell_type": "code",
   "execution_count": 11,
   "metadata": {},
   "outputs": [
    {
     "data": {
      "text/latex": [
       "$\\displaystyle \n",
       "        \\begin{equation}\n",
       "            G_n = \\cos{\\left (i \\right )} \\boldsymbol{n}_{1}\\wedge \\boldsymbol{n}_{2} + \\sin{\\left (d \\right )} \\sin{\\left (i \\right )} \\boldsymbol{n}_{1}\\wedge \\boldsymbol{n}_{3} - \\sin{\\left (i \\right )} \\cos{\\left (d \\right )} \\boldsymbol{n}_{2}\\wedge \\boldsymbol{n}_{3} \\nonumber\n",
       "        \\end{equation}\n",
       "        $"
      ],
      "text/plain": [
       "<IPython.core.display.Math object>"
      ]
     },
     "execution_count": 11,
     "metadata": {},
     "output_type": "execute_result"
    }
   ],
   "source": [
    "Gn = (m1^m2).trigsimp()\n",
    "\n",
    "# check that we get the same result by rotating u1^u2\n",
    "nn1, nn2, nn3 = frame.base(\"n\")\n",
    "assert Gn == util.rotate(util.rotate(nn1^nn2, i, nn1^nn3), d, nn1^nn2).trigsimp()\n",
    "\n",
    "render.expression( \"G_n\", Gn)\n"
   ]
  },
  {
   "cell_type": "markdown",
   "metadata": {},
   "source": [
    "The gnomon expressed relative to the $u$ frame, $g_u$.\n",
    "\n",
    "![](https://raw.githubusercontent.com/russellgoyder/sundial-latex/main/figs/Gnomon.png?token=GHSAT0AAAAAAB73Q3JNHJMDP6T55SWPTQFGZAWGBNA \"The gnomon.\").\n"
   ]
  },
  {
   "cell_type": "code",
   "execution_count": 12,
   "metadata": {},
   "outputs": [
    {
     "data": {
      "text/latex": [
       "$\\displaystyle \n",
       "        \\begin{equation}\n",
       "            g_n = - \\sin{\\left (\\iota  \\right )} \\left(\\sin{\\left (\\delta  \\right )} \\boldsymbol{n}_{2} + \\cos{\\left (\\delta  \\right )} \\boldsymbol{n}_{1}\\right) + \\cos{\\left (\\iota  \\right )} \\boldsymbol{n}_{3} \\nonumber\n",
       "        \\end{equation}\n",
       "        $"
      ],
      "text/plain": [
       "<IPython.core.display.Math object>"
      ]
     },
     "execution_count": 12,
     "metadata": {},
     "output_type": "execute_result"
    }
   ],
   "source": [
    "gn = frame.gnomon(\"n\", zero_decl=False)\n",
    "\n",
    "# extra manipulation to display exactly as in paper\n",
    "render.expression(\"g_n\", sp.collect(sp.trigsimp(gn.obj), -sin(iota)))"
   ]
  },
  {
   "cell_type": "markdown",
   "metadata": {},
   "source": [
    "Projected onto the fixed-stars basis, the gnomon is"
   ]
  },
  {
   "cell_type": "code",
   "execution_count": 13,
   "metadata": {},
   "outputs": [
    {
     "data": {
      "text/latex": [
       "$\\displaystyle \\begin{align} g & = - \\sin{\\left (\\alpha  \\right )} \\sin{\\left (\\iota  \\right )} \\sin{\\left (\\theta  \\right )} \\cos{\\left (\\delta  \\right )} - \\sin{\\left (\\alpha  \\right )} \\cos{\\left (\\iota  \\right )} \\cos{\\left (\\theta  \\right )} + \\sin{\\left (\\delta  \\right )} \\sin{\\left (\\iota  \\right )} \\sin{\\left (\\psi  \\right )} \\cos{\\left (\\alpha  \\right )} - \\sin{\\left (\\iota  \\right )} \\cos{\\left (\\alpha  \\right )} \\cos{\\left (\\delta  \\right )} \\cos{\\left (\\psi  \\right )} \\cos{\\left (\\theta  \\right )} + \\sin{\\left (\\theta  \\right )} \\cos{\\left (\\alpha  \\right )} \\cos{\\left (\\iota  \\right )} \\cos{\\left (\\psi  \\right )} e_0 \\nonumber \\\\ &- \\sin{\\left (\\delta  \\right )} \\sin{\\left (\\iota  \\right )} \\cos{\\left (\\psi  \\right )} - \\sin{\\left (\\iota  \\right )} \\sin{\\left (\\psi  \\right )} \\cos{\\left (\\delta  \\right )} \\cos{\\left (\\theta  \\right )} + \\sin{\\left (\\psi  \\right )} \\sin{\\left (\\theta  \\right )} \\cos{\\left (\\iota  \\right )} e_1 \\nonumber \\\\ &\\sin{\\left (\\alpha  \\right )} \\sin{\\left (\\delta  \\right )} \\sin{\\left (\\iota  \\right )} \\sin{\\left (\\psi  \\right )} - \\sin{\\left (\\alpha  \\right )} \\sin{\\left (\\iota  \\right )} \\cos{\\left (\\delta  \\right )} \\cos{\\left (\\psi  \\right )} \\cos{\\left (\\theta  \\right )} + \\sin{\\left (\\alpha  \\right )} \\sin{\\left (\\theta  \\right )} \\cos{\\left (\\iota  \\right )} \\cos{\\left (\\psi  \\right )} + \\sin{\\left (\\iota  \\right )} \\sin{\\left (\\theta  \\right )} \\cos{\\left (\\alpha  \\right )} \\cos{\\left (\\delta  \\right )} + \\cos{\\left (\\alpha  \\right )} \\cos{\\left (\\iota  \\right )} \\cos{\\left (\\theta  \\right )} e_2& \\nonumber \\end{align}$"
      ],
      "text/plain": [
       "<IPython.core.display.Math object>"
      ]
     },
     "execution_count": 13,
     "metadata": {},
     "output_type": "execute_result"
    }
   ],
   "source": [
    "g = util.project_vector(gn, target_frame=(nn1, nn2, nn3), render_frame=(n1, n2, n3))\n",
    "g = g.trigsimp()\n",
    "\n",
    "render.align(\"g\", g)"
   ]
  },
  {
   "cell_type": "markdown",
   "metadata": {},
   "source": [
    "The gnomon lies in the meridian plane when the following trivector vanishes:"
   ]
  },
  {
   "cell_type": "code",
   "execution_count": 14,
   "metadata": {},
   "outputs": [
    {
     "data": {
      "text/latex": [
       "$\\displaystyle \\sin{\\left (\\delta  \\right )} \\sin{\\left (\\iota  \\right )} \\boldsymbol{e}_{1}\\wedge \\boldsymbol{e}_{2}\\wedge \\boldsymbol{e}_{3}$"
      ],
      "text/plain": [
       "<IPython.core.display.Math object>"
      ]
     },
     "execution_count": 14,
     "metadata": {},
     "output_type": "execute_result"
    }
   ],
   "source": [
    "M_wedge_g = M^g\n",
    "assert M_wedge_g.obj.trigsimp().equals((sin(delta)*sin(iota)*e1^e2^e3).obj)\n",
    "render.multivector( M_wedge_g )"
   ]
  },
  {
   "cell_type": "markdown",
   "metadata": {},
   "source": [
    "Will also want $s$ on the $n$ frame TODO but not using it here"
   ]
  },
  {
   "cell_type": "code",
   "execution_count": 15,
   "metadata": {},
   "outputs": [
    {
     "data": {
      "text/latex": [
       "$\\displaystyle \\begin{align} s_n & = \\sin{\\left (\\alpha  \\right )} \\sin{\\left (\\theta  \\right )} \\cos{\\left (\\sigma  \\right )} + \\sin{\\left (\\psi  \\right )} \\sin{\\left (\\sigma  \\right )} \\cos{\\left (\\theta  \\right )} + \\cos{\\left (\\alpha  \\right )} \\cos{\\left (\\psi  \\right )} \\cos{\\left (\\sigma  \\right )} \\cos{\\left (\\theta  \\right )} n_0 \\nonumber \\\\ &- \\sin{\\left (\\psi  \\right )} \\cos{\\left (\\alpha  \\right )} \\cos{\\left (\\sigma  \\right )} + \\sin{\\left (\\sigma  \\right )} \\cos{\\left (\\psi  \\right )} n_1 \\nonumber \\\\ &- \\sin{\\left (\\alpha  \\right )} \\cos{\\left (\\sigma  \\right )} \\cos{\\left (\\theta  \\right )} + \\sin{\\left (\\psi  \\right )} \\sin{\\left (\\sigma  \\right )} \\sin{\\left (\\theta  \\right )} + \\sin{\\left (\\theta  \\right )} \\cos{\\left (\\alpha  \\right )} \\cos{\\left (\\psi  \\right )} \\cos{\\left (\\sigma  \\right )} n_2& \\nonumber \\end{align}$"
      ],
      "text/plain": [
       "<IPython.core.display.Math object>"
      ]
     },
     "execution_count": 15,
     "metadata": {},
     "output_type": "execute_result"
    }
   ],
   "source": [
    "sn = util.project_vector(s, target_frame=(n1, n2, n3), render_frame=(nn1, nn2, nn3))\n",
    "\n",
    "render.align(\"s_n\", sn)\n"
   ]
  }
 ],
 "metadata": {
  "kernelspec": {
   "display_name": "venv",
   "language": "python",
   "name": "python3"
  },
  "language_info": {
   "codemirror_mode": {
    "name": "ipython",
    "version": 3
   },
   "file_extension": ".py",
   "mimetype": "text/x-python",
   "name": "python",
   "nbconvert_exporter": "python",
   "pygments_lexer": "ipython3",
   "version": "3.12.5"
  }
 },
 "nbformat": 4,
 "nbformat_minor": 2
}
