{
 "cells": [
  {
   "cell_type": "markdown",
   "metadata": {},
   "source": [
    "# Setup and Definitions\n",
    "\n",
    "We start by establishing the geometry, location and orientation of the gnomon (shadow-casting stick) and face of the sundial."
   ]
  },
  {
   "cell_type": "code",
   "execution_count": 16,
   "metadata": {},
   "outputs": [],
   "source": [
    "import sympy as sp\n",
    "from sympy import sin, cos, tan\n",
    "from sympy.abc import alpha, psi, sigma, i, d, iota, delta\n",
    "from analemma.algebra import frame, render, util"
   ]
  },
  {
   "cell_type": "markdown",
   "metadata": {},
   "source": [
    "## Fixed Stars and Earth Frames\n",
    "\n",
    "Define an orthonormal frame (set of basis vectors) $e_1, e_2, e_3$ that is fixed relative to the \"fixed stars\", in [analemma.algebra.frame.base][]. Then, let the tilt of the earth's plane (axis) of rotation be $\\alpha$ and measure the earth's rotation by $\\psi$. The Earth frame $f_1, f_2, f_3$ is then given by [analemma.algebra.frame.planet][].\n",
    "\n",
    "![Earth's orientation and orbit](https://raw.githubusercontent.com/russellgoyder/sundial-latex/main/figs/MainArena.png?token=GHSAT0AAAAAAB73Q3JM6JGFDMRHPPAJKRQ2ZAWFO7Q \"Earth's orientation and orbit.\")."
   ]
  },
  {
   "cell_type": "code",
   "execution_count": 17,
   "metadata": {},
   "outputs": [
    {
     "data": {
      "text/latex": [
       "$\\displaystyle \\begin{align} f_0 &= \\cos{\\left (\\alpha  \\right )} \\cos{\\left (\\psi  \\right )} \\boldsymbol{e}_{1} + \\sin{\\left (\\psi  \\right )} \\boldsymbol{e}_{2} + \\sin{\\left (\\alpha  \\right )} \\cos{\\left (\\psi  \\right )} \\boldsymbol{e}_{3}\\nonumber \\\\ f_1 &= - \\sin{\\left (\\psi  \\right )} \\cos{\\left (\\alpha  \\right )} \\boldsymbol{e}_{1} + \\cos{\\left (\\psi  \\right )} \\boldsymbol{e}_{2} - \\sin{\\left (\\alpha  \\right )} \\sin{\\left (\\psi  \\right )} \\boldsymbol{e}_{3}\\nonumber \\\\ f_2 &= - \\sin{\\left (\\alpha  \\right )} \\boldsymbol{e}_{1} + \\cos{\\left (\\alpha  \\right )} \\boldsymbol{e}_{3}\\nonumber \\end{align}$"
      ],
      "text/plain": [
       "<IPython.core.display.Math object>"
      ]
     },
     "execution_count": 17,
     "metadata": {},
     "output_type": "execute_result"
    }
   ],
   "source": [
    "e1, e2, e3 = frame.base(\"e\")\n",
    "f1, f2, f3 = frame.planet()\n",
    "render.frame(\"f\", (f1,f2,f3))"
   ]
  },
  {
   "cell_type": "markdown",
   "metadata": {},
   "source": [
    "The equatorial plane should only depend on the tilt of the Earth's axis of spin $\\alpha$, not the angle by which it has rotated relative to the fixed stars $\\psi$."
   ]
  },
  {
   "cell_type": "code",
   "execution_count": 18,
   "metadata": {},
   "outputs": [
    {
     "data": {
      "text/latex": [
       "$\\displaystyle \n",
       "        \\begin{equation}\n",
       "            f_1 \\wedge f_2 = \\cos{\\left (\\alpha  \\right )} \\boldsymbol{e}_{1}\\wedge \\boldsymbol{e}_{2} - \\sin{\\left (\\alpha  \\right )} \\boldsymbol{e}_{2}\\wedge \\boldsymbol{e}_{3} \\nonumber\n",
       "        \\end{equation}\n",
       "        $"
      ],
      "text/plain": [
       "<IPython.core.display.Math object>"
      ]
     },
     "execution_count": 18,
     "metadata": {},
     "output_type": "execute_result"
    }
   ],
   "source": [
    "render.expression(r\"f_1 \\wedge f_2\", (f1^f2))"
   ]
  },
  {
   "cell_type": "markdown",
   "metadata": {},
   "source": [
    "Note: the wedge operation \"$\\wedge$\" defines a *bivector*, which encodes the orientation of a plane in space (but also has a magnitude, just as a vector has a direction and a magnitude). This is a concept from Geometric Algebra which is used throughout the `analemma` package. A good place to learn more is [https://bivector.net/](https://bivector.net/).\n",
    "\n",
    "## Surface Frame\n",
    "\n",
    "Define an orthonormal frame embedded in the [Earth's surface][analemma.algebra.frame.surface], with $n_1$ pointing South, $n_2$ pointing East and $n_3$ pointing up. Note that $\\theta$ is not latitude, but $90^\\circ$ minus latitude.\n",
    "\n",
    "![](https://raw.githubusercontent.com/russellgoyder/sundial-latex/main/figs/SurfaceFrame.png?token=GHSAT0AAAAAAB73Q3JNXNOAJWYLCUINTVLUZAWF6JQ \"Frame embedded in Earth's surface.\")."
   ]
  },
  {
   "cell_type": "code",
   "execution_count": 19,
   "metadata": {},
   "outputs": [
    {
     "data": {
      "text/latex": [
       "$\\displaystyle \\begin{align} n_0 &= \\left ( \\sin{\\left (\\alpha  \\right )} \\sin{\\left (\\theta  \\right )} + \\cos{\\left (\\alpha  \\right )} \\cos{\\left (\\psi  \\right )} \\cos{\\left (\\theta  \\right )}\\right ) \\boldsymbol{e}_{1} + \\sin{\\left (\\psi  \\right )} \\cos{\\left (\\theta  \\right )} \\boldsymbol{e}_{2} + \\left ( \\sin{\\left (\\alpha  \\right )} \\cos{\\left (\\psi  \\right )} \\cos{\\left (\\theta  \\right )} - \\sin{\\left (\\theta  \\right )} \\cos{\\left (\\alpha  \\right )}\\right ) \\boldsymbol{e}_{3}\\nonumber \\\\ n_1 &= - \\sin{\\left (\\psi  \\right )} \\cos{\\left (\\alpha  \\right )} \\boldsymbol{e}_{1} + \\cos{\\left (\\psi  \\right )} \\boldsymbol{e}_{2} - \\sin{\\left (\\alpha  \\right )} \\sin{\\left (\\psi  \\right )} \\boldsymbol{e}_{3}\\nonumber \\\\ n_2 &= \\left ( - \\sin{\\left (\\alpha  \\right )} \\cos{\\left (\\theta  \\right )} + \\sin{\\left (\\theta  \\right )} \\cos{\\left (\\alpha  \\right )} \\cos{\\left (\\psi  \\right )}\\right ) \\boldsymbol{e}_{1} + \\sin{\\left (\\psi  \\right )} \\sin{\\left (\\theta  \\right )} \\boldsymbol{e}_{2} + \\left ( \\sin{\\left (\\alpha  \\right )} \\sin{\\left (\\theta  \\right )} \\cos{\\left (\\psi  \\right )} + \\cos{\\left (\\alpha  \\right )} \\cos{\\left (\\theta  \\right )}\\right ) \\boldsymbol{e}_{3}\\nonumber \\end{align}$"
      ],
      "text/plain": [
       "<IPython.core.display.Math object>"
      ]
     },
     "execution_count": 19,
     "metadata": {},
     "output_type": "execute_result"
    }
   ],
   "source": [
    "n1, n2, n3 = frame.surface()\n",
    "render.frame(\"n\", (n1,n2,n3))"
   ]
  },
  {
   "cell_type": "markdown",
   "metadata": {},
   "source": [
    "## Orbit Rotor and Meridian Plane\n",
    "\n",
    "Although we will work with the Earth for concreteness, the derivation applies to any planet. The angle $\\sigma$ measures the progress of the planet around its orbit, with $\\sigma = 0$ when the planet lies along the $e_1$ axis. Therefore, a vector from the origin to the planet models a ray of light from the star - a [sun ray][analemma.algebra.frame.sunray]."
   ]
  },
  {
   "cell_type": "code",
   "execution_count": 6,
   "metadata": {},
   "outputs": [
    {
     "data": {
      "text/latex": [
       "$\\displaystyle \n",
       "        \\begin{equation}\n",
       "            s = \\cos{\\left (\\sigma  \\right )} \\boldsymbol{e}_{1} + \\sin{\\left (\\sigma  \\right )} \\boldsymbol{e}_{2} \\nonumber\n",
       "        \\end{equation}\n",
       "        $"
      ],
      "text/plain": [
       "<IPython.core.display.Math object>"
      ]
     },
     "execution_count": 6,
     "metadata": {},
     "output_type": "execute_result"
    }
   ],
   "source": [
    "s = frame.sunray()\n",
    "render.expression(\"s\", s)"
   ]
  },
  {
   "cell_type": "markdown",
   "metadata": {},
   "source": [
    "The [meridian plane][analemma.algebra.frame.meridian_plane] contains a line of longitude and is defined by $M = n_1 \\wedge n_3$."
   ]
  },
  {
   "cell_type": "code",
   "execution_count": 7,
   "metadata": {},
   "outputs": [
    {
     "data": {
      "text/latex": [
       "$\\displaystyle \n",
       "        \\begin{equation}\n",
       "            M = \\sin{\\left (\\alpha  \\right )} \\sin{\\left (\\psi  \\right )} \\boldsymbol{e}_{1}\\wedge \\boldsymbol{e}_{2} + \\cos{\\left (\\psi  \\right )} \\boldsymbol{e}_{1}\\wedge \\boldsymbol{e}_{3} + \\sin{\\left (\\psi  \\right )} \\cos{\\left (\\alpha  \\right )} \\boldsymbol{e}_{2}\\wedge \\boldsymbol{e}_{3} \\nonumber\n",
       "        \\end{equation}\n",
       "        $"
      ],
      "text/plain": [
       "<IPython.core.display.Math object>"
      ]
     },
     "execution_count": 7,
     "metadata": {},
     "output_type": "execute_result"
    }
   ],
   "source": [
    "M = frame.meridian_plane()\n",
    "render.expression(\"M\", M)"
   ]
  },
  {
   "cell_type": "markdown",
   "metadata": {},
   "source": [
    "The noon line is the intersection of the sun ray $s$ and the meridian plane $M$, which occurs where $s \\wedge M$ (a 3-d object) vanishes."
   ]
  },
  {
   "cell_type": "code",
   "execution_count": 20,
   "metadata": {},
   "outputs": [
    {
     "data": {
      "text/latex": [
       "$\\displaystyle \\left ( \\sin{\\left (\\psi  \\right )} \\cos{\\left (\\alpha  \\right )} \\cos{\\left (\\sigma  \\right )} - \\sin{\\left (\\sigma  \\right )} \\cos{\\left (\\psi  \\right )}\\right ) \\boldsymbol{e}_{1}\\wedge \\boldsymbol{e}_{2}\\wedge \\boldsymbol{e}_{3}$"
      ],
      "text/plain": [
       "<IPython.core.display.Math object>"
      ]
     },
     "execution_count": 20,
     "metadata": {},
     "output_type": "execute_result"
    }
   ],
   "source": [
    "render.multivector((s^M).trigsimp())"
   ]
  },
  {
   "cell_type": "markdown",
   "metadata": {},
   "source": [
    "Solving for $\\psi$ gives the angle of Earth's rotation corresponding to noon."
   ]
  },
  {
   "cell_type": "code",
   "execution_count": 9,
   "metadata": {},
   "outputs": [
    {
     "data": {
      "text/latex": [
       "$\\displaystyle \n",
       "        \\begin{equation}\n",
       "            \\tan(\\psi) = \\frac{\\tan{\\left (\\sigma  \\right )}}{\\cos{\\left (\\alpha  \\right )}} \\nonumber\n",
       "        \\end{equation}\n",
       "        $"
      ],
      "text/plain": [
       "<IPython.core.display.Math object>"
      ]
     },
     "execution_count": 9,
     "metadata": {},
     "output_type": "execute_result"
    }
   ],
   "source": [
    "coeff = (s^M).trigsimp().get_coefs(3)[0]\n",
    "soln = sp.solve(coeff.subs(sin(psi), tan(psi)*cos(psi)), tan(psi))[0]\n",
    "\n",
    "assert soln.equals(tan(sigma)/cos(alpha))\n",
    "render.expression( r\"\\tan(\\psi)\", soln )"
   ]
  },
  {
   "cell_type": "markdown",
   "metadata": {},
   "source": [
    "## Dial Face and Gnomon\n",
    "\n",
    "Now we can define the orientation of the sundial. The unit vector $m_3$ points upward perpendicular to the [dial][analemma.algebra.frame.dial] face, while $m_1$ and $m_2$ point North and West respectively when the face's inclination $i$ and declination $d$ are zero.\n",
    "\n",
    "![](https://raw.githubusercontent.com/russellgoyder/sundial-latex/main/figs/DialFrame.png?token=GHSAT0AAAAAAB73Q3JNJN46TIEHP3QCWWGYZAWGADA \"Frame embedded in the sundial's face.\").\n"
   ]
  },
  {
   "cell_type": "code",
   "execution_count": 21,
   "metadata": {},
   "outputs": [
    {
     "data": {
      "text/latex": [
       "$\\displaystyle \\begin{align} m_0 &= \\cos{\\left (d \\right )} \\cos{\\left (i \\right )} \\boldsymbol{n}_{1} + \\sin{\\left (d \\right )} \\cos{\\left (i \\right )} \\boldsymbol{n}_{2} + \\sin{\\left (i \\right )} \\boldsymbol{n}_{3}\\nonumber \\\\ m_1 &= - \\sin{\\left (d \\right )} \\boldsymbol{n}_{1} + \\cos{\\left (d \\right )} \\boldsymbol{n}_{2}\\nonumber \\\\ m_2 &= - \\sin{\\left (i \\right )} \\cos{\\left (d \\right )} \\boldsymbol{n}_{1} - \\sin{\\left (d \\right )} \\sin{\\left (i \\right )} \\boldsymbol{n}_{2} + \\cos{\\left (i \\right )} \\boldsymbol{n}_{3}\\nonumber \\end{align}$"
      ],
      "text/plain": [
       "<IPython.core.display.Math object>"
      ]
     },
     "execution_count": 21,
     "metadata": {},
     "output_type": "execute_result"
    }
   ],
   "source": [
    "m1, m2, m3 = frame.dial()\n",
    "render.frame(\"m\", (m1,m2,m3))"
   ]
  },
  {
   "cell_type": "markdown",
   "metadata": {},
   "source": [
    "Given this frame, we can form the unit bivector $G_n$ that encodes the [dial face][analemma.algebra.frame.dialface] directly."
   ]
  },
  {
   "cell_type": "code",
   "execution_count": 24,
   "metadata": {},
   "outputs": [
    {
     "data": {
      "text/latex": [
       "$\\displaystyle \n",
       "        \\begin{equation}\n",
       "            G_n = \\cos{\\left (i \\right )} \\boldsymbol{n}_{1}\\wedge \\boldsymbol{n}_{2} + \\sin{\\left (d \\right )} \\sin{\\left (i \\right )} \\boldsymbol{n}_{1}\\wedge \\boldsymbol{n}_{3} - \\sin{\\left (i \\right )} \\cos{\\left (d \\right )} \\boldsymbol{n}_{2}\\wedge \\boldsymbol{n}_{3} \\nonumber\n",
       "        \\end{equation}\n",
       "        $"
      ],
      "text/plain": [
       "<IPython.core.display.Math object>"
      ]
     },
     "execution_count": 24,
     "metadata": {},
     "output_type": "execute_result"
    }
   ],
   "source": [
    "Gn = frame.dialface()\n",
    "render.expression( \"G_n\", Gn)"
   ]
  },
  {
   "cell_type": "markdown",
   "metadata": {},
   "source": [
    "The [gnomon][analemma.algebra.frame.gnomon] $g_n$ expressed relative to the planet's surface frame is given by:\n",
    "\n",
    "![](https://raw.githubusercontent.com/russellgoyder/sundial-latex/main/figs/Gnomon.png?token=GHSAT0AAAAAAB73Q3JNHJMDP6T55SWPTQFGZAWGBNA \"The gnomon.\").\n"
   ]
  },
  {
   "cell_type": "code",
   "execution_count": 12,
   "metadata": {},
   "outputs": [
    {
     "data": {
      "text/latex": [
       "$\\displaystyle \n",
       "        \\begin{equation}\n",
       "            g_n = - \\sin{\\left (\\iota  \\right )} \\left(\\sin{\\left (\\delta  \\right )} \\boldsymbol{n}_{2} + \\cos{\\left (\\delta  \\right )} \\boldsymbol{n}_{1}\\right) + \\cos{\\left (\\iota  \\right )} \\boldsymbol{n}_{3} \\nonumber\n",
       "        \\end{equation}\n",
       "        $"
      ],
      "text/plain": [
       "<IPython.core.display.Math object>"
      ]
     },
     "execution_count": 12,
     "metadata": {},
     "output_type": "execute_result"
    }
   ],
   "source": [
    "gn = frame.gnomon(\"n\", zero_decl=False)\n",
    "\n",
    "# extra manipulation to display exactly as in paper\n",
    "render.expression(\"g_n\", sp.collect(sp.trigsimp(gn.obj), -sin(iota)))"
   ]
  },
  {
   "cell_type": "markdown",
   "metadata": {},
   "source": [
    "[Projected][analemma.algebra.util.project_vector] onto the fixed-stars basis, the gnomon is"
   ]
  },
  {
   "cell_type": "code",
   "execution_count": 25,
   "metadata": {},
   "outputs": [
    {
     "data": {
      "text/latex": [
       "$\\displaystyle \\begin{align} g & = - \\sin{\\left (\\alpha  \\right )} \\sin{\\left (\\iota  \\right )} \\sin{\\left (\\theta  \\right )} \\cos{\\left (\\delta  \\right )} - \\sin{\\left (\\alpha  \\right )} \\cos{\\left (\\iota  \\right )} \\cos{\\left (\\theta  \\right )} + \\sin{\\left (\\delta  \\right )} \\sin{\\left (\\iota  \\right )} \\sin{\\left (\\psi  \\right )} \\cos{\\left (\\alpha  \\right )} - \\sin{\\left (\\iota  \\right )} \\cos{\\left (\\alpha  \\right )} \\cos{\\left (\\delta  \\right )} \\cos{\\left (\\psi  \\right )} \\cos{\\left (\\theta  \\right )} + \\sin{\\left (\\theta  \\right )} \\cos{\\left (\\alpha  \\right )} \\cos{\\left (\\iota  \\right )} \\cos{\\left (\\psi  \\right )} e_0 \\nonumber \\\\ &- \\sin{\\left (\\delta  \\right )} \\sin{\\left (\\iota  \\right )} \\cos{\\left (\\psi  \\right )} - \\sin{\\left (\\iota  \\right )} \\sin{\\left (\\psi  \\right )} \\cos{\\left (\\delta  \\right )} \\cos{\\left (\\theta  \\right )} + \\sin{\\left (\\psi  \\right )} \\sin{\\left (\\theta  \\right )} \\cos{\\left (\\iota  \\right )} e_1 \\nonumber \\\\ &\\sin{\\left (\\alpha  \\right )} \\sin{\\left (\\delta  \\right )} \\sin{\\left (\\iota  \\right )} \\sin{\\left (\\psi  \\right )} - \\sin{\\left (\\alpha  \\right )} \\sin{\\left (\\iota  \\right )} \\cos{\\left (\\delta  \\right )} \\cos{\\left (\\psi  \\right )} \\cos{\\left (\\theta  \\right )} + \\sin{\\left (\\alpha  \\right )} \\sin{\\left (\\theta  \\right )} \\cos{\\left (\\iota  \\right )} \\cos{\\left (\\psi  \\right )} + \\sin{\\left (\\iota  \\right )} \\sin{\\left (\\theta  \\right )} \\cos{\\left (\\alpha  \\right )} \\cos{\\left (\\delta  \\right )} + \\cos{\\left (\\alpha  \\right )} \\cos{\\left (\\iota  \\right )} \\cos{\\left (\\theta  \\right )} e_2& \\nonumber \\end{align}$"
      ],
      "text/plain": [
       "<IPython.core.display.Math object>"
      ]
     },
     "execution_count": 25,
     "metadata": {},
     "output_type": "execute_result"
    }
   ],
   "source": [
    "nn1, nn2, nn3 = frame.base(\"n\")\n",
    "g = util.project_vector(gn, target_frame=(nn1, nn2, nn3), render_frame=(n1, n2, n3))\n",
    "g = g.trigsimp()\n",
    "\n",
    "render.align(\"g\", g)"
   ]
  },
  {
   "cell_type": "markdown",
   "metadata": {},
   "source": [
    "The gnomon lies in the meridian plane when the following trivector vanishes:"
   ]
  },
  {
   "cell_type": "code",
   "execution_count": 26,
   "metadata": {},
   "outputs": [
    {
     "data": {
      "text/latex": [
       "$\\displaystyle \\sin{\\left (\\delta  \\right )} \\sin{\\left (\\iota  \\right )} \\boldsymbol{e}_{1}\\wedge \\boldsymbol{e}_{2}\\wedge \\boldsymbol{e}_{3}$"
      ],
      "text/plain": [
       "<IPython.core.display.Math object>"
      ]
     },
     "execution_count": 26,
     "metadata": {},
     "output_type": "execute_result"
    }
   ],
   "source": [
    "M_wedge_g = M^g\n",
    "assert M_wedge_g.obj.trigsimp().equals((sin(delta)*sin(iota)*e1^e2^e3).obj)\n",
    "render.multivector( M_wedge_g )"
   ]
  }
 ],
 "metadata": {
  "kernelspec": {
   "display_name": "venv",
   "language": "python",
   "name": "python3"
  },
  "language_info": {
   "codemirror_mode": {
    "name": "ipython",
    "version": 3
   },
   "file_extension": ".py",
   "mimetype": "text/x-python",
   "name": "python",
   "nbconvert_exporter": "python",
   "pygments_lexer": "ipython3",
   "version": "3.12.5"
  }
 },
 "nbformat": 4,
 "nbformat_minor": 2
}
