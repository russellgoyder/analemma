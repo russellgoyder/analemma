{
 "cells": [
  {
   "cell_type": "markdown",
   "metadata": {},
   "source": [
    "# The Shadow Length\n",
    "\n",
    "In [The Shadow Angle](shadow_angle.md) we found a unit vector $\\hat{w}$ parallel to the shadow. Now we shall find the length $L$ of the shadow, and therefore the shadow vector $w = L \\hat{w}$."
   ]
  },
  {
   "cell_type": "code",
   "execution_count": 6,
   "metadata": {},
   "outputs": [],
   "source": [
    "import sympy as sp\n",
    "from sympy import sin\n",
    "from sympy.abc import D\n",
    "from analemma.algebra import frame, render, result"
   ]
  },
  {
   "cell_type": "markdown",
   "metadata": {},
   "source": [
    "## Solving the Shadow Triangle\n",
    "\n",
    "We can find $L$ by forming $w(\\lambda) = g + \\lambda s$ and enforcing that this vector lies in the dial face by solving $w(\\lambda) \\wedge G = 0$ for $\\lambda$. It will be useful to separate the numerator and denominator by writing [$\\lambda = \\frac{N}{D}$][analemma.algebra.result.shadow_triangle_solution].\n",
    "\n",
    "![](https://raw.githubusercontent.com/russellgoyder/sundial-latex/main/figs/ShadowTriangle.png?token=GHSAT0AAAAAAB73Q3JNHJMDP6T55SWPTQFGZAWGBNA \"The gnomon.\")."
   ]
  },
  {
   "cell_type": "code",
   "execution_count": 2,
   "metadata": {},
   "outputs": [
    {
     "data": {
      "text/latex": [
       "$\\displaystyle \n",
       "        \\begin{equation}\n",
       "            \\lambda \\equiv \\frac{N}{D} = \\frac{\\sin{\\left (i \\right )} \\sin{\\left (\\iota  \\right )} \\cos{\\left (d \\right )} + \\cos{\\left (i \\right )} \\cos{\\left (\\iota  \\right )}}{\\left(\\left(\\sin{\\left (i \\right )} \\cos{\\left (d \\right )} \\cos{\\left (\\theta  \\right )} - \\sin{\\left (\\theta  \\right )} \\cos{\\left (i \\right )}\\right) \\cos{\\left (\\mu_{s} \\right )} - \\sin{\\left (\\mu_{s} \\right )} \\sin{\\left (d \\right )} \\sin{\\left (i \\right )}\\right) \\sin{\\left (\\Xi_{s} \\right )} + \\left(\\sin{\\left (i \\right )} \\sin{\\left (\\theta  \\right )} \\cos{\\left (d \\right )} + \\cos{\\left (i \\right )} \\cos{\\left (\\theta  \\right )}\\right) \\sin{\\left (\\alpha  \\right )} \\cos{\\left (\\sigma  \\right )}} \\nonumber\n",
       "        \\end{equation}\n",
       "        $"
      ],
      "text/plain": [
       "<IPython.core.display.Math object>"
      ]
     },
     "execution_count": 2,
     "metadata": {},
     "output_type": "execute_result"
    }
   ],
   "source": [
    "render.expression(r\"\\lambda \\equiv \\frac{N}{D}\", result.shadow_triangle_solution())"
   ]
  },
  {
   "cell_type": "markdown",
   "metadata": {},
   "source": [
    "where the subscript $s$ on the hour angle $\\mu_s$ and sunray-gnomon angle $\\Xi_s$ indicates that they are to be evaluated under the condition $\\iota = \\theta$. This is true when the gnomon is parallel to the earth's axis, and termed a *style*, hence the subscript $s$.\n",
    "\n",
    "Given the above solution for $\\lambda$, we now have $w$ in principle. However, it is a little cumbersome to work with and we can get $w$ in terms of $g$-$\\lambda s$-$w$ triangle directly by projecting $w$ onto $s$ and $g$ to give two equations we can solve for $\\lambda$ and $L$, the length of $w$. We have\n",
    "\n",
    "$$s\\cdot w = L\\cos(\\Xi-\\beta) = s\\cdot g + \\lambda\\, s\\cdot s = \\cos(\\Xi) + \\lambda$$\n",
    "\n",
    "and\n",
    "\n",
    "$$g\\cdot w = L\\cos(\\beta) = g\\cdot g + \\lambda g\\cdot s = 1 + \\lambda\\, \\cos(\\Xi)$$\n",
    "\n",
    "This yields two simultaneous equations for $\\lambda$ and $L$, with solutions\n",
    "\n",
    "$$\\lambda = \\frac{\\sin(\\beta)}{\\sin(\\Xi-\\beta)}$$\n",
    "\n",
    "and\n",
    "\n",
    "$$L = \\frac{\\sin(\\Xi)}{\\sin(\\Xi-\\beta)} = \\frac{N \\sin(\\Xi)}{D \\sin(\\beta)}$$\n",
    "\n",
    "## Angle between Gnomon and Shadow\n",
    "\n",
    "Given that [$\\sin(\\beta)$][analemma.algebra.result.gnomon_shadow_angle_sincos] appears in the solution for $\\lambda$, it will be useful to have its explicit form, which is"
   ]
  },
  {
   "cell_type": "code",
   "execution_count": 3,
   "metadata": {},
   "outputs": [
    {
     "data": {
      "text/latex": [
       "$\\displaystyle \n",
       "        \\begin{equation}\n",
       "            \\tan(\\beta) = \\frac{\\sin{\\left (i \\right )} \\sin{\\left (\\iota  \\right )} \\cos{\\left (d \\right )} + \\cos{\\left (i \\right )} \\cos{\\left (\\iota  \\right )}}{\\left(\\sin{\\left (i \\right )} \\cos{\\left (d \\right )} \\cos{\\left (\\iota  \\right )} - \\sin{\\left (\\iota  \\right )} \\cos{\\left (i \\right )}\\right) \\cos{\\left (\\mu  \\right )} - \\sin{\\left (d \\right )} \\sin{\\left (i \\right )} \\sin{\\left (\\mu  \\right )}} \\nonumber\n",
       "        \\end{equation}\n",
       "        $"
      ],
      "text/plain": [
       "<IPython.core.display.Math object>"
      ]
     },
     "execution_count": 3,
     "metadata": {},
     "output_type": "execute_result"
    }
   ],
   "source": [
    "sin_beta, cos_beta = result.gnomon_shadow_angle_sincos()\n",
    "render.expression(r\"\\tan(\\beta)\", sin_beta/cos_beta)"
   ]
  },
  {
   "cell_type": "markdown",
   "metadata": {},
   "source": [
    "The (sine of the) angle $\\Psi$ between the dial face and the plane containing the shadow and gnomon cancels in the ratio of $\\sin(\\beta)$ and $\\cos(\\beta)$ above:"
   ]
  },
  {
   "cell_type": "code",
   "execution_count": 4,
   "metadata": {},
   "outputs": [
    {
     "data": {
      "text/latex": [
       "$\\displaystyle \n",
       "        \\begin{equation}\n",
       "            \\sin(\\beta) = \\frac{\\sin{\\left (i \\right )} \\sin{\\left (\\iota  \\right )} \\cos{\\left (d \\right )} + \\cos{\\left (i \\right )} \\cos{\\left (\\iota  \\right )}}{\\sin{\\left (\\Psi \\right )}} \\nonumber\n",
       "        \\end{equation}\n",
       "        $"
      ],
      "text/plain": [
       "<IPython.core.display.Math object>"
      ]
     },
     "execution_count": 4,
     "metadata": {},
     "output_type": "execute_result"
    }
   ],
   "source": [
    "render.expression(r\"\\sin(\\beta)\", sin_beta)"
   ]
  },
  {
   "cell_type": "markdown",
   "metadata": {},
   "source": [
    "The numerator of $\\sin(\\beta)$ is equal to $N$, the numerator of $\\lambda$, and so we have that\n",
    "\n",
    "$$\\sin(\\beta) = \\frac{N}{\\sin(\\Psi)}$$\n",
    "\n",
    "and so\n",
    "\n",
    "$$L = \\frac{\\sin(\\Xi)\\sin(\\Psi)}{D}$$\n",
    "\n",
    "## The Shadow Vector\n",
    "\n",
    "Given this form of $L$, we can express the shadow vector as follows."
   ]
  },
  {
   "cell_type": "code",
   "execution_count": 5,
   "metadata": {},
   "outputs": [
    {
     "data": {
      "text/latex": [
       "$\\displaystyle \\begin{align} D\\, w = D\\,L\\,\\hat{w} & = \\left(\\left(\\sin{\\left (d \\right )} \\sin{\\left (i \\right )} \\sin{\\left (\\iota  \\right )} \\sin{\\left (\\mu  \\right )} + \\cos{\\left (i \\right )} \\cos{\\left (\\mu  \\right )}\\right) \\sin{\\left (\\Xi \\right )}\\right) n_1 \\nonumber \\\\ &\\left(\\left(- \\sin{\\left (i \\right )} \\sin{\\left (\\iota  \\right )} \\sin{\\left (\\mu  \\right )} \\cos{\\left (d \\right )} - \\sin{\\left (\\mu  \\right )} \\cos{\\left (i \\right )} \\cos{\\left (\\iota  \\right )}\\right) \\sin{\\left (\\Xi \\right )}\\right) n_2 \\nonumber \\\\ &\\left(\\left(- \\sin{\\left (d \\right )} \\sin{\\left (i \\right )} \\sin{\\left (\\mu  \\right )} \\cos{\\left (\\iota  \\right )} + \\sin{\\left (i \\right )} \\cos{\\left (d \\right )} \\cos{\\left (\\mu  \\right )}\\right) \\sin{\\left (\\Xi \\right )}\\right) n_3& \\nonumber \\end{align}$"
      ],
      "text/plain": [
       "<IPython.core.display.Math object>"
      ]
     },
     "execution_count": 5,
     "metadata": {},
     "output_type": "execute_result"
    }
   ],
   "source": [
    "Gn = frame.dialface()\n",
    "Sn = result.shadow_bivector_explicit()\n",
    "w_hat = result.unit_shadow(Gn, Sn)\n",
    "\n",
    "Xi = sp.Symbol(r\"\\Xi\")\n",
    "render.align(\n",
    "    r\"D\\, w = D\\,L\\,\\hat{w}\",\n",
    "    D*result.shadow_length()*w_hat,\n",
    "    lambda coeff : sp.collect(coeff, sin(Xi)))\n"
   ]
  }
 ],
 "metadata": {
  "kernelspec": {
   "display_name": "venv",
   "language": "python",
   "name": "python3"
  },
  "language_info": {
   "codemirror_mode": {
    "name": "ipython",
    "version": 3
   },
   "file_extension": ".py",
   "mimetype": "text/x-python",
   "name": "python",
   "nbconvert_exporter": "python",
   "pygments_lexer": "ipython3",
   "version": "3.12.5"
  }
 },
 "nbformat": 4,
 "nbformat_minor": 2
}
