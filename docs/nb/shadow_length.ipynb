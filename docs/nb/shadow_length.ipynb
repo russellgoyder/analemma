{
 "cells": [
  {
   "cell_type": "markdown",
   "metadata": {},
   "source": [
    "# The Shadow Length\n",
    "\n",
    "TODO words"
   ]
  },
  {
   "cell_type": "code",
   "execution_count": 1,
   "metadata": {},
   "outputs": [],
   "source": [
    "import sympy as sp\n",
    "from sympy.abc import p, D\n",
    "from sympy import sin, cos\n",
    "import numpy as np\n",
    "from analemma.algebra import frame, render, result\n",
    "\n",
    "e1, e2, e3 = frame.base(\"e\")\n",
    "f1, f2, f3 = frame.planet()\n",
    "n1, n2, n3 = frame.surface()\n",
    "M = frame.meridian_plane() # n1^n3\n",
    "s = frame.sunray()\n",
    "\n",
    "m1, m2, m3 = frame.dial()\n",
    "gn = frame.gnomon(\"n\", zero_decl=True)\n",
    "g = frame.gnomon(\"e\", zero_decl=True)\n",
    "\n"
   ]
  },
  {
   "cell_type": "markdown",
   "metadata": {},
   "source": [
    "We have the angle of the shadow vector $w$. Now find the length. Form $w(\\lambda) = g + \\lambda s$ and enforce $w(\\lambda) \\wedge G = 0$.\n",
    "\n",
    "TODO words from:\n",
    "\n",
    "Now to simplify the denominator. Writing $\\lambda = \\frac{N}{D}$, we can write $D$ in terms of the hour angle $\\mu$ (and sunray-gnomon angle $\\Xi$) evaluated under the condition $\\iota = \\theta$ and denoted $\\mu_s$ (and $\\Xi_s$). This is true when the gnomon is parallel to the earth's axis, and termed a style, hence the subscript $s$.\n",
    "\n",
    "TODO \\lambda is N/D which is sin(beta)/sin(Xi-beta)"
   ]
  },
  {
   "cell_type": "code",
   "execution_count": 2,
   "metadata": {},
   "outputs": [
    {
     "data": {
      "text/latex": [
       "$\\displaystyle \n",
       "        \\begin{equation}\n",
       "            \\lambda \\equiv \\frac{N}{D} = \\frac{\\sin{\\left (i \\right )} \\sin{\\left (\\iota  \\right )} \\cos{\\left (d \\right )} + \\cos{\\left (i \\right )} \\cos{\\left (\\iota  \\right )}}{\\left(\\left(\\sin{\\left (i \\right )} \\cos{\\left (d \\right )} \\cos{\\left (\\theta  \\right )} - \\sin{\\left (\\theta  \\right )} \\cos{\\left (i \\right )}\\right) \\cos{\\left (\\mu_{s} \\right )} - \\sin{\\left (\\mu_{s} \\right )} \\sin{\\left (d \\right )} \\sin{\\left (i \\right )}\\right) \\sin{\\left (\\Xi_{s} \\right )} + \\left(\\sin{\\left (i \\right )} \\sin{\\left (\\theta  \\right )} \\cos{\\left (d \\right )} + \\cos{\\left (i \\right )} \\cos{\\left (\\theta  \\right )}\\right) \\sin{\\left (\\alpha  \\right )} \\cos{\\left (\\sigma  \\right )}} \\nonumber\n",
       "        \\end{equation}\n",
       "        $"
      ],
      "text/plain": [
       "<IPython.core.display.Math object>"
      ]
     },
     "execution_count": 2,
     "metadata": {},
     "output_type": "execute_result"
    }
   ],
   "source": [
    "render.expression(r\"\\lambda \\equiv \\frac{N}{D}\", result.shadow_triangle_solution())"
   ]
  },
  {
   "cell_type": "markdown",
   "metadata": {},
   "source": [
    "So given $\\lambda$, we have $w = g + \\lambda s$. However, it is a little cumbersome to work with and we can get $w$ in terms of $g$-$\\lambda s$-$w$ triangle directly by projecting $w$ onto $s$ and $g$ to give two equations we can solve for $\\lambda$ and $L$, the length of $w$. We have\n",
    "\n",
    "$$s\\cdot w = L\\cos(\\Xi-\\beta) = s\\cdot g + \\lambda\\, s\\cdot s = \\cos(\\Xi) + \\lambda$$\n",
    "\n",
    "and\n",
    "\n",
    "$$g\\cdot w = L\\cos(\\beta) = g\\cdot g + \\lambda g\\cdot s = 1 + \\lambda\\, \\cos(\\Xi)$$\n",
    "\n",
    "This yields two simultaneous equations for $\\lambda$ and $L$, with solutions\n",
    "\n",
    "$$\\lambda = \\frac{\\sin(\\beta)}{\\sin(\\Xi-\\beta)}$$\n",
    "\n",
    "and\n",
    "\n",
    "$$L = \\frac{\\sin(\\Xi)}{\\sin(\\Xi-\\beta)} = \\frac{N \\sin(\\Xi)}{D \\sin(\\beta)}$$\n",
    "\n",
    "Eliminating \n",
    "\n",
    "Given that $\\sin(\\beta)$ appears in the solution for $\\lambda$, it will be useful to have its explicit form, which is"
   ]
  },
  {
   "cell_type": "code",
   "execution_count": 3,
   "metadata": {},
   "outputs": [
    {
     "data": {
      "text/latex": [
       "$\\displaystyle \n",
       "        \\begin{equation}\n",
       "            \\tan(\\beta) = \\frac{\\sin{\\left (i \\right )} \\sin{\\left (\\iota  \\right )} \\cos{\\left (d \\right )} + \\cos{\\left (i \\right )} \\cos{\\left (\\iota  \\right )}}{\\left(\\sin{\\left (i \\right )} \\cos{\\left (d \\right )} \\cos{\\left (\\iota  \\right )} - \\sin{\\left (\\iota  \\right )} \\cos{\\left (i \\right )}\\right) \\cos{\\left (\\mu  \\right )} - \\sin{\\left (d \\right )} \\sin{\\left (i \\right )} \\sin{\\left (\\mu  \\right )}} \\nonumber\n",
       "        \\end{equation}\n",
       "        $"
      ],
      "text/plain": [
       "<IPython.core.display.Math object>"
      ]
     },
     "execution_count": 3,
     "metadata": {},
     "output_type": "execute_result"
    }
   ],
   "source": [
    "sin_beta, cos_beta = result.gnomon_shadow_angle_sincos()\n",
    "render.expression(r\"\\tan(\\beta)\", sin_beta/cos_beta)"
   ]
  },
  {
   "cell_type": "markdown",
   "metadata": {},
   "source": [
    "The (sine of the) angle $\\Psi$ between the dial face and the plane containing the shadow and gnomon cancels in the ratio of $\\sin(\\beta)$ and $\\cos(\\beta)$ above."
   ]
  },
  {
   "cell_type": "code",
   "execution_count": 4,
   "metadata": {},
   "outputs": [
    {
     "data": {
      "text/latex": [
       "$\\displaystyle \n",
       "        \\begin{equation}\n",
       "            \\sin(\\beta) = \\frac{\\sin{\\left (i \\right )} \\sin{\\left (\\iota  \\right )} \\cos{\\left (d \\right )} + \\cos{\\left (i \\right )} \\cos{\\left (\\iota  \\right )}}{\\sin{\\left (\\Psi \\right )}} \\nonumber\n",
       "        \\end{equation}\n",
       "        $"
      ],
      "text/plain": [
       "<IPython.core.display.Math object>"
      ]
     },
     "execution_count": 4,
     "metadata": {},
     "output_type": "execute_result"
    }
   ],
   "source": [
    "render.expression(r\"\\sin(\\beta)\", sin_beta)"
   ]
  },
  {
   "cell_type": "markdown",
   "metadata": {},
   "source": [
    "The numerator of $\\sin(\\beta)$ is equal to $N$, the numerator of $\\lambda$, and so we have that\n",
    "\n",
    "$$\\sin(\\beta) = \\frac{N}{\\sin(\\Psi)}$$\n",
    "\n",
    "and so\n",
    "\n",
    "$$L = \\frac{\\sin(\\Xi)\\sin(\\Psi)}{D}$$\n",
    "\n",
    "From TODO link shadow angle we have $\\hat{w}$ so we can express the shadow vector as $w = L\\hat{w}$."
   ]
  },
  {
   "cell_type": "code",
   "execution_count": 5,
   "metadata": {},
   "outputs": [
    {
     "data": {
      "text/latex": [
       "$\\displaystyle \\begin{align} \\sin(\\Psi)\\,\\hat{w} & = \\left(\\sin{\\left (d \\right )} \\sin{\\left (i \\right )} \\sin{\\left (\\iota  \\right )} \\sin{\\left (\\mu  \\right )} + \\cos{\\left (i \\right )} \\cos{\\left (\\mu  \\right )}\\right) n_1 \\nonumber \\\\ &\\left(- \\sin{\\left (i \\right )} \\sin{\\left (\\iota  \\right )} \\sin{\\left (\\mu  \\right )} \\cos{\\left (d \\right )} - \\sin{\\left (\\mu  \\right )} \\cos{\\left (i \\right )} \\cos{\\left (\\iota  \\right )}\\right) n_2 \\nonumber \\\\ &\\left(- \\sin{\\left (d \\right )} \\sin{\\left (i \\right )} \\sin{\\left (\\mu  \\right )} \\cos{\\left (\\iota  \\right )} + \\sin{\\left (i \\right )} \\cos{\\left (d \\right )} \\cos{\\left (\\mu  \\right )}\\right) n_3& \\nonumber \\end{align}$"
      ],
      "text/plain": [
       "<IPython.core.display.Math object>"
      ]
     },
     "execution_count": 5,
     "metadata": {},
     "output_type": "execute_result"
    }
   ],
   "source": [
    "Gn = frame.dialface()\n",
    "Sn = result.shadow_bivector_explicit()\n",
    "w_hat = result.unit_shadow(Gn, Sn)\n",
    "\n",
    "Psi = sp.Symbol(r\"\\Psi\")\n",
    "render.align(r\"\\sin(\\Psi)\\,\\hat{w}\", w_hat*sin(Psi))"
   ]
  },
  {
   "cell_type": "code",
   "execution_count": 9,
   "metadata": {},
   "outputs": [
    {
     "data": {
      "text/latex": [
       "$\\displaystyle \\begin{align} D\\, w = D\\,L\\,\\hat{w} & = \\left(\\sin{\\left (\\Xi \\right )} \\sin{\\left (d \\right )} \\sin{\\left (i \\right )} \\sin{\\left (\\iota  \\right )} \\sin{\\left (\\mu  \\right )} + \\sin{\\left (\\Xi \\right )} \\cos{\\left (i \\right )} \\cos{\\left (\\mu  \\right )}\\right) n_1 \\nonumber \\\\ &\\left(- \\sin{\\left (\\Xi \\right )} \\sin{\\left (i \\right )} \\sin{\\left (\\iota  \\right )} \\sin{\\left (\\mu  \\right )} \\cos{\\left (d \\right )} - \\sin{\\left (\\Xi \\right )} \\sin{\\left (\\mu  \\right )} \\cos{\\left (i \\right )} \\cos{\\left (\\iota  \\right )}\\right) n_2 \\nonumber \\\\ &\\left(- \\sin{\\left (\\Xi \\right )} \\sin{\\left (d \\right )} \\sin{\\left (i \\right )} \\sin{\\left (\\mu  \\right )} \\cos{\\left (\\iota  \\right )} + \\sin{\\left (\\Xi \\right )} \\sin{\\left (i \\right )} \\cos{\\left (d \\right )} \\cos{\\left (\\mu  \\right )}\\right) n_3& \\nonumber \\end{align}$"
      ],
      "text/plain": [
       "<IPython.core.display.Math object>"
      ]
     },
     "execution_count": 9,
     "metadata": {},
     "output_type": "execute_result"
    }
   ],
   "source": [
    "render.align(r\"D\\, w = D\\,L\\,\\hat{w}\", D*result.shadow_length()*w_hat) # TODO bring out sinXi_sin_mu and cos also zero-based basis"
   ]
  },
  {
   "cell_type": "code",
   "execution_count": null,
   "metadata": {},
   "outputs": [],
   "source": []
  }
 ],
 "metadata": {
  "kernelspec": {
   "display_name": "venv",
   "language": "python",
   "name": "python3"
  },
  "language_info": {
   "codemirror_mode": {
    "name": "ipython",
    "version": 3
   },
   "file_extension": ".py",
   "mimetype": "text/x-python",
   "name": "python",
   "nbconvert_exporter": "python",
   "pygments_lexer": "ipython3",
   "version": "3.12.5"
  }
 },
 "nbformat": 4,
 "nbformat_minor": 2
}
