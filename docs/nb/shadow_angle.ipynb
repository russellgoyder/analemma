{
 "cells": [
  {
   "cell_type": "markdown",
   "metadata": {},
   "source": [
    "# The Shadow Angle\n",
    "\n",
    "Given the shadow plane and hour angle described in [The Hour Angle](hour_angle.md), we can calculate a unit vector in the dial face parallel to the shadow, and track its progress across the dial face.\n"
   ]
  },
  {
   "cell_type": "code",
   "execution_count": 3,
   "metadata": {},
   "outputs": [],
   "source": [
    "from analemma.algebra import frame, render, result"
   ]
  },
  {
   "cell_type": "markdown",
   "metadata": {},
   "source": [
    "## Intersecting the Shadow Plane and Dial Face\n",
    "\n",
    "The shadow cast on the dial face by the gnomon is parallel to the intersection between the shadow bivector $S$ (the plane containing the sun ray and the gnomon) and $G$ (the dial face). We can construct [this intersection][analemma.algebra.result.dialface_shadowbivector_intersection] in Geometric Algebra (GA) as\n",
    "\n",
    "$$u = \\langle I G S \\rangle_1$$\n",
    "\n",
    "where $I = e_1 \\wedge e_2 \\wedge e_3$ is the pseudo-scalar (directed volume)."
   ]
  },
  {
   "cell_type": "code",
   "execution_count": 4,
   "metadata": {},
   "outputs": [
    {
     "data": {
      "text/latex": [
       "$\\displaystyle \\begin{align} u & = \\left(\\sin{\\left (\\Xi \\right )} \\sin{\\left (d \\right )} \\sin{\\left (i \\right )} \\sin{\\left (\\iota  \\right )} \\sin{\\left (\\mu  \\right )} + \\sin{\\left (\\Xi \\right )} \\cos{\\left (i \\right )} \\cos{\\left (\\mu  \\right )}\\right) n_1 \\nonumber \\\\ &\\left(- \\sin{\\left (\\Xi \\right )} \\sin{\\left (i \\right )} \\sin{\\left (\\iota  \\right )} \\sin{\\left (\\mu  \\right )} \\cos{\\left (d \\right )} - \\sin{\\left (\\Xi \\right )} \\sin{\\left (\\mu  \\right )} \\cos{\\left (i \\right )} \\cos{\\left (\\iota  \\right )}\\right) n_2 \\nonumber \\\\ &\\left(- \\sin{\\left (\\Xi \\right )} \\sin{\\left (d \\right )} \\sin{\\left (i \\right )} \\sin{\\left (\\mu  \\right )} \\cos{\\left (\\iota  \\right )} + \\sin{\\left (\\Xi \\right )} \\sin{\\left (i \\right )} \\cos{\\left (d \\right )} \\cos{\\left (\\mu  \\right )}\\right) n_3& \\nonumber \\end{align}$"
      ],
      "text/plain": [
       "<IPython.core.display.Math object>"
      ]
     },
     "execution_count": 4,
     "metadata": {},
     "output_type": "execute_result"
    }
   ],
   "source": [
    "Sn = result.shadow_bivector_explicit()\n",
    "Gn = frame.dialface()\n",
    "u = result.dialface_shadowbivector_intersection(Gn, Sn)\n",
    "render.align(\"u\", u)"
   ]
  },
  {
   "cell_type": "markdown",
   "metadata": {},
   "source": [
    "## Normalization\n",
    "\n",
    "Want to normalize $u$ to get $\\hat{u} \\equiv \\hat{w}$, a unit vector parallel to the shadow $w$. We could square and add the above components and attempt to factorize, but there is a route to a simpler expression because GA allows us to project two- and higher-dimensional objects onto each other just like vectors.\n",
    "\n",
    "The cosine of the angle between $S$ and $G$ is given by\n",
    "\n",
    "$$\\cos(\\Psi) = \\frac{S\\cdot G}{\\sqrt{-S^2}\\sqrt{-G^2}}$$\n",
    "\n",
    "Given that $S^2 = -\\sin^2(\\Xi)$ and $G^2 = -1$, we have\n",
    "\n",
    "$$ \\cos(\\Psi) = \\frac{S\\cdot G}{\\sin(\\Xi)}$$\n",
    "\n",
    "We can calculate a simple [expression for $\\cos(\\Psi)$][analemma.algebra.result.dialface_shadowbivector_angle_cos]:"
   ]
  },
  {
   "cell_type": "code",
   "execution_count": 6,
   "metadata": {},
   "outputs": [
    {
     "data": {
      "text/latex": [
       "$\\displaystyle \n",
       "        \\begin{equation}\n",
       "            \\cos(\\Psi) = - \\sin{\\left (d \\right )} \\sin{\\left (i \\right )} \\cos{\\left (\\mu  \\right )} - \\sin{\\left (i \\right )} \\sin{\\left (\\mu  \\right )} \\cos{\\left (d \\right )} \\cos{\\left (\\iota  \\right )} + \\sin{\\left (\\iota  \\right )} \\sin{\\left (\\mu  \\right )} \\cos{\\left (i \\right )} \\nonumber\n",
       "        \\end{equation}\n",
       "        $"
      ],
      "text/plain": [
       "<IPython.core.display.Math object>"
      ]
     },
     "execution_count": 6,
     "metadata": {},
     "output_type": "execute_result"
    }
   ],
   "source": [
    "cosPsi = result.dialface_shadowbivector_angle_cos(Gn, Sn)\n",
    "render.expression(r\"\\cos(\\Psi)\", cosPsi)"
   ]
  },
  {
   "cell_type": "markdown",
   "metadata": {},
   "source": [
    "Now, the length of $u$ is related to $\\Psi$ as follows.\n",
    "\n",
    "$$u^2 = (I\\; G \\times S)^2 = (\\frac{I}{2}(GS-SG))^2 = -\\frac{1}{4}(GSGS+SGSG-2S^2G^2)$$\n",
    "\n",
    "But\n",
    "\n",
    "$$(S\\cdot G)^2 = \\frac{1}{4}(SG+GS)^2 = \\frac{1}{4}(SGSG+GSGS+2S^2G^2)$$\n",
    "\n",
    "So,\n",
    "\n",
    "$$u^2 = S^2G^2 - (S\\cdot G)^2 = \\sin^2(\\Xi) - (S\\cdot G)^2 = \\sin^2(\\Xi)\\sin^2(\\Psi)$$\n",
    "\n",
    "(my [Geometric Algebra cheat sheet](https://russellgoyder.github.io/geometric-algebra-cheat-sheet/) can be useful at times like this)\n",
    "\n",
    "## The Unit Shadow\n",
    "\n",
    "We can now form [$\\hat{w}$][analemma.algebra.result.unit_shadow] by dividing $u$ by its length $\\sin(\\Xi)\\sin(\\Psi)$. Note that this length is not the length of the shadow vector $w$ which we will call $L$ such that $w = L \\hat{w}$. It is related to $L$ as we shall see in [The Shadow Length](shadow_length.md)."
   ]
  },
  {
   "cell_type": "code",
   "execution_count": 9,
   "metadata": {},
   "outputs": [
    {
     "data": {
      "text/latex": [
       "$\\displaystyle \\begin{align} \\hat{w} = \\frac{w}{L} = \\frac{u}{\\sin(\\Xi)\\sin(\\Psi)} & = \\left(\\frac{\\sin{\\left (d \\right )} \\sin{\\left (i \\right )} \\sin{\\left (\\iota  \\right )} \\sin{\\left (\\mu  \\right )}}{\\sin{\\left (\\Psi \\right )}} + \\frac{\\cos{\\left (i \\right )} \\cos{\\left (\\mu  \\right )}}{\\sin{\\left (\\Psi \\right )}}\\right) n_1 \\nonumber \\\\ &\\left(- \\frac{\\sin{\\left (i \\right )} \\sin{\\left (\\iota  \\right )} \\sin{\\left (\\mu  \\right )} \\cos{\\left (d \\right )}}{\\sin{\\left (\\Psi \\right )}} - \\frac{\\sin{\\left (\\mu  \\right )} \\cos{\\left (i \\right )} \\cos{\\left (\\iota  \\right )}}{\\sin{\\left (\\Psi \\right )}}\\right) n_2 \\nonumber \\\\ &\\left(- \\frac{\\sin{\\left (d \\right )} \\sin{\\left (i \\right )} \\sin{\\left (\\mu  \\right )} \\cos{\\left (\\iota  \\right )}}{\\sin{\\left (\\Psi \\right )}} + \\frac{\\sin{\\left (i \\right )} \\cos{\\left (d \\right )} \\cos{\\left (\\mu  \\right )}}{\\sin{\\left (\\Psi \\right )}}\\right) n_3& \\nonumber \\end{align}$"
      ],
      "text/plain": [
       "<IPython.core.display.Math object>"
      ]
     },
     "execution_count": 9,
     "metadata": {},
     "output_type": "execute_result"
    }
   ],
   "source": [
    "w_hat = result.unit_shadow(Gn, Sn)\n",
    "render.align(r\"\\hat{w} = \\frac{w}{L} = \\frac{u}{\\sin(\\Xi)\\sin(\\Psi)}\", w_hat)\n"
   ]
  },
  {
   "cell_type": "markdown",
   "metadata": {},
   "source": [
    "## The Shadow Angle Relative to Noon\n",
    "\n",
    "Let's get the angular coordinate of the shadow relative to noon, call it $\\zeta$. At [noon][analemma.algebra.result.unit_noon_shadow] we have $\\mu = 0$:"
   ]
  },
  {
   "cell_type": "code",
   "execution_count": 10,
   "metadata": {},
   "outputs": [
    {
     "data": {
      "text/latex": [
       "$\\displaystyle \n",
       "        \\begin{equation}\n",
       "            \\hat{w}_{\\mu=0} = \\frac{\\cos{\\left (i \\right )}}{\\sqrt{- {\\sin{\\left (d \\right )}}^{2} {\\sin{\\left (i \\right )}}^{2} + 1}} \\boldsymbol{n}_{1} + \\frac{\\sin{\\left (i \\right )} \\cos{\\left (d \\right )}}{\\sqrt{- {\\sin{\\left (d \\right )}}^{2} {\\sin{\\left (i \\right )}}^{2} + 1}} \\boldsymbol{n}_{3} \\nonumber\n",
       "        \\end{equation}\n",
       "        $"
      ],
      "text/plain": [
       "<IPython.core.display.Math object>"
      ]
     },
     "execution_count": 10,
     "metadata": {},
     "output_type": "execute_result"
    }
   ],
   "source": [
    "render.expression(r\"\\hat{w}_{\\mu=0}\", result.unit_noon_shadow(Gn, Sn))"
   ]
  },
  {
   "cell_type": "markdown",
   "metadata": {},
   "source": [
    "So $\\cos(\\zeta) = \\hat{w}(\\mu) \\cdot \\hat{w}(0)$ and the easiest route to $\\sin(\\zeta)$ is to use the fact that the shadow lives in the plane of the dial face, so $\\hat{w}(\\mu) \\wedge \\hat{w}(0) = \\sin(\\zeta) G$."
   ]
  },
  {
   "cell_type": "code",
   "execution_count": 12,
   "metadata": {},
   "outputs": [
    {
     "data": {
      "text/latex": [
       "$\\displaystyle \n",
       "        \\begin{equation}\n",
       "            \\sin(\\zeta) = \\frac{\\left(\\sin{\\left (i \\right )} \\sin{\\left (\\iota  \\right )} \\cos{\\left (d \\right )} + \\cos{\\left (i \\right )} \\cos{\\left (\\iota  \\right )}\\right) \\sin{\\left (\\mu  \\right )}}{\\sqrt{- {\\sin{\\left (d \\right )}}^{2} {\\sin{\\left (i \\right )}}^{2} + 1} \\sin{\\left (\\Psi \\right )}} \\nonumber\n",
       "        \\end{equation}\n",
       "        \\\\\n",
       "        \\begin{equation}\n",
       "            \\cos(\\zeta) = \\frac{\\left(- {\\sin{\\left (d \\right )}}^{2} {\\sin{\\left (i \\right )}}^{2} + 1\\right) \\cos{\\left (\\mu  \\right )} + \\left(- \\sin{\\left (i \\right )} \\cos{\\left (d \\right )} \\cos{\\left (\\iota  \\right )} + \\sin{\\left (\\iota  \\right )} \\cos{\\left (i \\right )}\\right) \\sin{\\left (d \\right )} \\sin{\\left (i \\right )} \\sin{\\left (\\mu  \\right )}}{\\sqrt{- {\\sin{\\left (d \\right )}}^{2} {\\sin{\\left (i \\right )}}^{2} + 1} \\sin{\\left (\\Psi \\right )}} \\nonumber\n",
       "        \\end{equation}\n",
       "        \\\\\n",
       "        \\begin{equation}\n",
       "            \\tan(\\zeta) = - \\frac{\\left(\\sin{\\left (i \\right )} \\sin{\\left (\\iota  \\right )} \\cos{\\left (d \\right )} + \\cos{\\left (i \\right )} \\cos{\\left (\\iota  \\right )}\\right) \\tan{\\left (\\mu  \\right )}}{{\\sin{\\left (d \\right )}}^{2} {\\sin{\\left (i \\right )}}^{2} + \\sin{\\left (d \\right )} {\\sin{\\left (i \\right )}}^{2} \\cos{\\left (d \\right )} \\cos{\\left (\\iota  \\right )} \\tan{\\left (\\mu  \\right )} - \\sin{\\left (d \\right )} \\sin{\\left (i \\right )} \\sin{\\left (\\iota  \\right )} \\cos{\\left (i \\right )} \\tan{\\left (\\mu  \\right )} - 1} \\nonumber\n",
       "        \\end{equation}\n",
       "        $"
      ],
      "text/plain": [
       "<IPython.core.display.Math object>"
      ]
     },
     "execution_count": 12,
     "metadata": {},
     "output_type": "execute_result"
    }
   ],
   "source": [
    "render.expressions(\n",
    "    (r\"\\sin(\\zeta)\", r\"\\cos(\\zeta)\", r\"\\tan(\\zeta)\"),\n",
    "    result.noon_angle_sincos(Gn, Sn) + (result.noon_angle_tan(Gn, Sn),)\n",
    "    )"
   ]
  }
 ],
 "metadata": {
  "kernelspec": {
   "display_name": "venv",
   "language": "python",
   "name": "python3"
  },
  "language_info": {
   "codemirror_mode": {
    "name": "ipython",
    "version": 3
   },
   "file_extension": ".py",
   "mimetype": "text/x-python",
   "name": "python",
   "nbconvert_exporter": "python",
   "pygments_lexer": "ipython3",
   "version": "3.12.5"
  }
 },
 "nbformat": 4,
 "nbformat_minor": 2
}
