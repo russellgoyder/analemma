{
 "cells": [
  {
   "cell_type": "markdown",
   "metadata": {},
   "source": [
    "# The Noon-Shadow Angle\n",
    "\n",
    "TODO words\n"
   ]
  },
  {
   "cell_type": "code",
   "execution_count": 1,
   "metadata": {},
   "outputs": [],
   "source": [
    "import sympy as sp\n",
    "from sympy import sin\n",
    "import numpy as np\n",
    "from analemma.algebra import frame, render, result\n",
    "\n",
    "e1, e2, e3 = frame.base(\"e\")\n",
    "f1, f2, f3 = frame.planet()\n",
    "n1, n2, n3 = frame.surface()\n",
    "M = frame.meridian_plane() # n1^n3\n",
    "s = frame.sunray()\n",
    "\n",
    "m1, m2, m3 = frame.dial()\n",
    "gn = frame.gnomon(\"n\", zero_decl=True)\n",
    "g = frame.gnomon(\"e\", zero_decl=True)"
   ]
  },
  {
   "cell_type": "markdown",
   "metadata": {},
   "source": [
    "## The Hour Angle\n",
    "\n",
    "TODO recap hour angle and words about simplifying the shadow bivector, Note that sin(Xi) is overall factor."
   ]
  },
  {
   "cell_type": "markdown",
   "metadata": {},
   "source": [
    "TODO use words from here\n",
    "\n",
    "The calculation proceeds by defining $S = s \\wedge g$, the plane containing the sunshine vector and the gnomon. Its magnitude is the (negative) cosine of the angle between $s$ and $g$. Then we can obtain a generalized solar hour angle $\\mu$ as the angle between $S$ and $M$, given by\n",
    "\n",
    "$$\\cos(\\mu) = \\frac{-S\\cdot M}{\\sqrt{-S^2}\\sqrt{-M^2}} = \\frac{-S\\cdot M}{\\sin(\\Xi)}$$\n",
    "\n",
    "given that $M^2=-1$. In anticipation of setting $\\delta =0$, I will apply $\\delta$ as a subscript to these quantities for now."
   ]
  },
  {
   "cell_type": "code",
   "execution_count": 2,
   "metadata": {},
   "outputs": [
    {
     "data": {
      "text/latex": [
       "$\\displaystyle \\begin{align} S & = \\sin{\\left (\\alpha  \\right )} \\sin{\\left (\\sigma  \\right )} \\cos{\\left (\\iota  - \\theta  \\right )} - \\sin{\\left (\\psi  \\right )} \\sin{\\left (\\iota  - \\theta  \\right )} \\cos{\\left (\\sigma  \\right )} + \\sin{\\left (\\sigma  \\right )} \\sin{\\left (\\iota  - \\theta  \\right )} \\cos{\\left (\\alpha  \\right )} \\cos{\\left (\\psi  \\right )} e_1 \\wedge e_2 \\nonumber \\\\ &- \\sin{\\left (\\alpha  \\right )} \\sin{\\left (\\iota  - \\theta  \\right )} \\cos{\\left (\\psi  \\right )} \\cos{\\left (\\sigma  \\right )} + \\cos{\\left (\\alpha  \\right )} \\cos{\\left (\\sigma  \\right )} \\cos{\\left (\\iota  - \\theta  \\right )} e_1 \\wedge e_3 \\nonumber \\\\ &- \\sin{\\left (\\alpha  \\right )} \\sin{\\left (\\sigma  \\right )} \\sin{\\left (\\iota  - \\theta  \\right )} \\cos{\\left (\\psi  \\right )} + \\sin{\\left (\\sigma  \\right )} \\cos{\\left (\\alpha  \\right )} \\cos{\\left (\\iota  - \\theta  \\right )} e_2 \\wedge e_3 \\nonumber \\\\ & = - \\sin{\\left (\\Xi \\right )} \\sin{\\left (\\iota  \\right )} \\sin{\\left (\\mu  \\right )} \\boldsymbol{n}_{1}\\wedge \\boldsymbol{n}_{2} + \\sin{\\left (\\Xi \\right )} \\cos{\\left (\\mu  \\right )} \\boldsymbol{n}_{1}\\wedge \\boldsymbol{n}_{3} - \\sin{\\left (\\Xi \\right )} \\sin{\\left (\\mu  \\right )} \\cos{\\left (\\iota  \\right )} \\boldsymbol{n}_{2}\\wedge \\boldsymbol{n}_{3}& \\nonumber \\end{align}$"
      ],
      "text/plain": [
       "<IPython.core.display.Math object>"
      ]
     },
     "execution_count": 2,
     "metadata": {},
     "output_type": "execute_result"
    }
   ],
   "source": [
    "S = result.shadow_bivector(s, g)\n",
    "Sn = result.shadow_bivector_explicit()\n",
    "\n",
    "render.simplification(\"S\", [S, Sn], as_lines=[True, False])"
   ]
  },
  {
   "cell_type": "markdown",
   "metadata": {},
   "source": [
    "where the hour angle $\\tan(\\mu)$ is defined by"
   ]
  },
  {
   "cell_type": "code",
   "execution_count": 3,
   "metadata": {},
   "outputs": [
    {
     "data": {
      "text/latex": [
       "$\\displaystyle \n",
       "        \\begin{equation}\n",
       "            \\tan(\\mu) = \\frac{\\sin{\\left (\\psi  \\right )} \\cos{\\left (\\alpha  \\right )} - \\cos{\\left (\\psi  \\right )} \\tan{\\left (\\sigma  \\right )}}{\\left(\\sin{\\left (\\psi  \\right )} \\tan{\\left (\\sigma  \\right )} + \\cos{\\left (\\alpha  \\right )} \\cos{\\left (\\psi  \\right )}\\right) \\cos{\\left (\\iota  - \\theta  \\right )} - \\sin{\\left (\\alpha  \\right )} \\sin{\\left (\\iota  - \\theta  \\right )}} \\nonumber\n",
       "        \\end{equation}\n",
       "        $"
      ],
      "text/plain": [
       "<IPython.core.display.Math object>"
      ]
     },
     "execution_count": 3,
     "metadata": {},
     "output_type": "execute_result"
    }
   ],
   "source": [
    "render.expression(r\"\\tan(\\mu)\", result.hour_angle_tan(S, M))"
   ]
  },
  {
   "cell_type": "code",
   "execution_count": 4,
   "metadata": {},
   "outputs": [
    {
     "data": {
      "text/latex": [
       "$\\displaystyle \n",
       "        \\begin{equation}\n",
       "            \\cos(\\Xi) = - \\left(\\sin{\\left (\\alpha  \\right )} \\cos{\\left (\\iota  - \\theta  \\right )} + \\sin{\\left (\\iota  - \\theta  \\right )} \\cos{\\left (\\alpha  \\right )} \\cos{\\left (\\psi  \\right )}\\right) \\cos{\\left (\\sigma  \\right )} - \\sin{\\left (\\psi  \\right )} \\sin{\\left (\\sigma  \\right )} \\sin{\\left (\\iota  - \\theta  \\right )} \\nonumber\n",
       "        \\end{equation}\n",
       "        $"
      ],
      "text/plain": [
       "<IPython.core.display.Math object>"
      ]
     },
     "execution_count": 4,
     "metadata": {},
     "output_type": "execute_result"
    }
   ],
   "source": [
    "render.expression(r\"\\cos(\\Xi)\", result.shadow_bivector_magnitude_angle_cos(s, g))"
   ]
  },
  {
   "cell_type": "markdown",
   "metadata": {},
   "source": [
    "## The Unit Shadow\n",
    "\n",
    "Form a vector $u$ parallel to the shadow, as the intersection between $S$ (the plane containing the sun ray and the gnomon) and $G$ (the dial face) where\n",
    "\n",
    "$$u = \\langle I G S \\rangle_1$$\n",
    "\n",
    "TODO link to cheat sheet"
   ]
  },
  {
   "cell_type": "code",
   "execution_count": 5,
   "metadata": {},
   "outputs": [
    {
     "data": {
      "text/latex": [
       "$\\displaystyle \\begin{align} u & = \\left(\\sin{\\left (\\Xi \\right )} \\sin{\\left (d \\right )} \\sin{\\left (i \\right )} \\sin{\\left (\\iota  \\right )} \\sin{\\left (\\mu  \\right )} + \\sin{\\left (\\Xi \\right )} \\cos{\\left (i \\right )} \\cos{\\left (\\mu  \\right )}\\right) n_1 \\nonumber \\\\ &\\left(- \\sin{\\left (\\Xi \\right )} \\sin{\\left (i \\right )} \\sin{\\left (\\iota  \\right )} \\sin{\\left (\\mu  \\right )} \\cos{\\left (d \\right )} - \\sin{\\left (\\Xi \\right )} \\sin{\\left (\\mu  \\right )} \\cos{\\left (i \\right )} \\cos{\\left (\\iota  \\right )}\\right) n_2 \\nonumber \\\\ &\\left(- \\sin{\\left (\\Xi \\right )} \\sin{\\left (d \\right )} \\sin{\\left (i \\right )} \\sin{\\left (\\mu  \\right )} \\cos{\\left (\\iota  \\right )} + \\sin{\\left (\\Xi \\right )} \\sin{\\left (i \\right )} \\cos{\\left (d \\right )} \\cos{\\left (\\mu  \\right )}\\right) n_3& \\nonumber \\end{align}$"
      ],
      "text/plain": [
       "<IPython.core.display.Math object>"
      ]
     },
     "execution_count": 5,
     "metadata": {},
     "output_type": "execute_result"
    }
   ],
   "source": [
    "Gn = frame.dialface()\n",
    "u = result.dialface_shadowbivector_intersection(Gn, Sn)\n",
    "render.align(\"u\", u)"
   ]
  },
  {
   "cell_type": "markdown",
   "metadata": {},
   "source": [
    "Want to normalize $u$ to get $\\hat{u} \\equiv \\hat{w}$, a unit vector parallel to the shadow $w$. Can square and add the above components, but there is a route to a simpler expression as follows.\n",
    "\n",
    "The cosine of the angle between the \"shadow plane\" $S$ (containing the sun ray $s$ and the gnomon $g$) and dial face $G$ is given by\n",
    "\n",
    "$$\\cos(\\Psi) = \\frac{S\\cdot G}{\\sqrt{-S^2}\\sqrt{-G^2}}$$\n",
    "\n",
    "Given that $S^2 = -\\sin^2(\\Xi)$ and $G^2 = -1$,\n",
    "\n",
    "$$ \\cos(\\Psi) = \\frac{S\\cdot G}{\\sin(\\Xi)}$$\n",
    "\n",
    "We can verify the equivalence of these two forms of $\\cos(\\Psi)$ as follows,"
   ]
  },
  {
   "cell_type": "code",
   "execution_count": 6,
   "metadata": {},
   "outputs": [
    {
     "data": {
      "text/latex": [
       "$\\displaystyle  0 $"
      ],
      "text/plain": [
       "0"
      ]
     },
     "metadata": {},
     "output_type": "display_data"
    }
   ],
   "source": [
    "# check (force sympy to give up the positive square root in each factor in the denominator)\n",
    "def _norm(B):\n",
    "    return sp.powdenest(sp.sqrt(sp.trigsimp((-B|B).obj)), force=True)\n",
    "\n",
    "Xi = sp.Symbol(r\"\\Xi\")\n",
    "SuGu_check = sp.trigsimp((Sn|Gn).obj)/_norm(Sn)/_norm(Gn) - (Sn|Gn)/sin(Xi)\n",
    "assert SuGu_check.obj.equals(0)\n",
    "display( SuGu_check )"
   ]
  },
  {
   "cell_type": "markdown",
   "metadata": {},
   "source": [
    "and calculate a simple expression for $\\cos(\\Psi)$:"
   ]
  },
  {
   "cell_type": "code",
   "execution_count": 7,
   "metadata": {},
   "outputs": [
    {
     "data": {
      "text/latex": [
       "$\\displaystyle \n",
       "        \\begin{equation}\n",
       "            \\cos(\\Psi) = - \\sin{\\left (d \\right )} \\sin{\\left (i \\right )} \\cos{\\left (\\mu  \\right )} - \\sin{\\left (i \\right )} \\sin{\\left (\\mu  \\right )} \\cos{\\left (d \\right )} \\cos{\\left (\\iota  \\right )} + \\sin{\\left (\\iota  \\right )} \\sin{\\left (\\mu  \\right )} \\cos{\\left (i \\right )} \\nonumber\n",
       "        \\end{equation}\n",
       "        $"
      ],
      "text/plain": [
       "<IPython.core.display.Math object>"
      ]
     },
     "execution_count": 7,
     "metadata": {},
     "output_type": "execute_result"
    }
   ],
   "source": [
    "cosPsi = result.dialface_shadowbivector_angle_cos(Gn, Sn)\n",
    "render.expression(r\"\\cos(\\Psi)\", cosPsi)"
   ]
  },
  {
   "cell_type": "markdown",
   "metadata": {},
   "source": [
    "Now, the length of $u$ is related to $\\Psi$ as follows.\n",
    "\n",
    "$$u^2 = (I\\; G \\times S)^2 = (\\frac{I}{2}(GS-SG))^2 = -\\frac{1}{4}(GSGS+SGSG-2S^2G^2)$$\n",
    "\n",
    "But\n",
    "\n",
    "$$(S\\cdot G)^2 = \\frac{1}{4}(SG+GS)^2 = \\frac{1}{4}(SGSG+GSGS+2S^2G^2)$$\n",
    "\n",
    "So,\n",
    "\n",
    "$$u^2 = S^2G^2 - (S\\cdot G)^2 = \\sin^2(\\Xi) - (S\\cdot G)^2 = \\sin^2(\\Xi)\\sin^2(\\Psi)$$\n",
    "\n",
    "TODO link to cheat sheet"
   ]
  },
  {
   "cell_type": "code",
   "execution_count": 8,
   "metadata": {},
   "outputs": [
    {
     "data": {
      "text/latex": [
       "$\\displaystyle  0 $"
      ],
      "text/plain": [
       "0"
      ]
     },
     "metadata": {},
     "output_type": "display_data"
    }
   ],
   "source": [
    "# check TODO consider moving to a test file for speed\n",
    "u2_check = (u|u) - (sin(Xi)**2 - (Sn|Gn)**2)\n",
    "assert u2_check.obj.equals(0)\n",
    "display( u2_check )"
   ]
  },
  {
   "cell_type": "markdown",
   "metadata": {},
   "source": [
    "We can now form $\\hat{w}$ by dividing $u$ by its length\n",
    "\n",
    "TODO explain the $u$ has some arbitrary length"
   ]
  },
  {
   "cell_type": "code",
   "execution_count": 9,
   "metadata": {},
   "outputs": [
    {
     "data": {
      "text/latex": [
       "$\\displaystyle \\begin{align} \\hat{w} & = \\left(\\frac{\\sin{\\left (d \\right )} \\sin{\\left (i \\right )} \\sin{\\left (\\iota  \\right )} \\sin{\\left (\\mu  \\right )}}{\\sin{\\left (\\Psi \\right )}} + \\frac{\\cos{\\left (i \\right )} \\cos{\\left (\\mu  \\right )}}{\\sin{\\left (\\Psi \\right )}}\\right) n_1 \\nonumber \\\\ &\\left(- \\frac{\\sin{\\left (i \\right )} \\sin{\\left (\\iota  \\right )} \\sin{\\left (\\mu  \\right )} \\cos{\\left (d \\right )}}{\\sin{\\left (\\Psi \\right )}} - \\frac{\\sin{\\left (\\mu  \\right )} \\cos{\\left (i \\right )} \\cos{\\left (\\iota  \\right )}}{\\sin{\\left (\\Psi \\right )}}\\right) n_2 \\nonumber \\\\ &\\left(- \\frac{\\sin{\\left (d \\right )} \\sin{\\left (i \\right )} \\sin{\\left (\\mu  \\right )} \\cos{\\left (\\iota  \\right )}}{\\sin{\\left (\\Psi \\right )}} + \\frac{\\sin{\\left (i \\right )} \\cos{\\left (d \\right )} \\cos{\\left (\\mu  \\right )}}{\\sin{\\left (\\Psi \\right )}}\\right) n_3& \\nonumber \\end{align}$"
      ],
      "text/plain": [
       "<IPython.core.display.Math object>"
      ]
     },
     "execution_count": 9,
     "metadata": {},
     "output_type": "execute_result"
    }
   ],
   "source": [
    "what = result.unit_shadow(Gn, Sn)\n",
    "\n",
    "render.align(r\"\\hat{w}\", what) # TODO factor (in update_coeffs for now) also basis vectors are zero-based\n"
   ]
  },
  {
   "cell_type": "markdown",
   "metadata": {},
   "source": [
    "Check that\n",
    "\n",
    "$$\\hat{w}^2 = \\left(\\frac{u}{\\sin(\\Xi)\\sin(\\Psi)}\\right)^2 = 1$$\n",
    "\n",
    "by showing that\n",
    "\n",
    "$$\\frac{u^2}{\\sin^2(\\Xi)} - \\sin^2\\Psi = 0$$\n",
    "\n",
    "TODO move to test file so runs in parallel"
   ]
  },
  {
   "cell_type": "code",
   "execution_count": 10,
   "metadata": {},
   "outputs": [
    {
     "data": {
      "text/latex": [
       "$\\displaystyle 0$"
      ],
      "text/plain": [
       "0"
      ]
     },
     "metadata": {},
     "output_type": "display_data"
    }
   ],
   "source": [
    "sinPsiSquared = 1 - sp.expand(cosPsi**2)\n",
    "u_over_sinXi_squared = sp.trigsimp(((u|u)/sin(Xi)**2).obj)\n",
    "what_check = sp.trigsimp(u_over_sinXi_squared - sinPsiSquared)\n",
    "assert what_check.equals(0)\n",
    "display( what_check )"
   ]
  },
  {
   "cell_type": "markdown",
   "metadata": {},
   "source": [
    "## The Shadow at Noon\n",
    "\n",
    "Get the angular coordinate of the shadow tip relative to noon, call it $\\zeta$. At noon we have $\\mu = 0$"
   ]
  },
  {
   "cell_type": "code",
   "execution_count": 11,
   "metadata": {},
   "outputs": [
    {
     "data": {
      "text/latex": [
       "$\\displaystyle \n",
       "        \\begin{equation}\n",
       "            \\hat{w}_{\\mu=0} = \\frac{\\cos{\\left (i \\right )}}{\\sqrt{- {\\sin{\\left (d \\right )}}^{2} {\\sin{\\left (i \\right )}}^{2} + 1}} \\boldsymbol{n}_{1} + \\frac{\\sin{\\left (i \\right )} \\cos{\\left (d \\right )}}{\\sqrt{- {\\sin{\\left (d \\right )}}^{2} {\\sin{\\left (i \\right )}}^{2} + 1}} \\boldsymbol{n}_{3} \\nonumber\n",
       "        \\end{equation}\n",
       "        $"
      ],
      "text/plain": [
       "<IPython.core.display.Math object>"
      ]
     },
     "execution_count": 11,
     "metadata": {},
     "output_type": "execute_result"
    }
   ],
   "source": [
    "render.expression(r\"\\hat{w}_{\\mu=0}\", result.unit_noon_shadow(Gn, Sn))"
   ]
  },
  {
   "cell_type": "markdown",
   "metadata": {},
   "source": [
    "So $\\cos(\\zeta) = \\hat{w}(\\mu) \\cdot \\hat{w}(0)$ and the easiest route to $\\sin(\\zeta)$ is to use the fact that the shadow lives in the plane of the dial face, so $\\hat{w}(\\mu) \\wedge \\hat{w}(0) = \\sin(\\zeta) G$."
   ]
  },
  {
   "cell_type": "code",
   "execution_count": 12,
   "metadata": {},
   "outputs": [
    {
     "data": {
      "text/latex": [
       "$\\displaystyle \n",
       "        \\begin{equation}\n",
       "            \\sin(\\zeta) = \\frac{\\left(\\sin{\\left (i \\right )} \\sin{\\left (\\iota  \\right )} \\cos{\\left (d \\right )} + \\cos{\\left (i \\right )} \\cos{\\left (\\iota  \\right )}\\right) \\sin{\\left (\\mu  \\right )}}{\\sqrt{- {\\sin{\\left (d \\right )}}^{2} {\\sin{\\left (i \\right )}}^{2} + 1} \\sin{\\left (\\Psi \\right )}} \\nonumber\n",
       "        \\end{equation}\n",
       "        \\\\\n",
       "        \\begin{equation}\n",
       "            \\cos(\\zeta) = \\frac{\\left(- {\\sin{\\left (d \\right )}}^{2} {\\sin{\\left (i \\right )}}^{2} + 1\\right) \\cos{\\left (\\mu  \\right )} + \\left(- \\sin{\\left (i \\right )} \\cos{\\left (d \\right )} \\cos{\\left (\\iota  \\right )} + \\sin{\\left (\\iota  \\right )} \\cos{\\left (i \\right )}\\right) \\sin{\\left (d \\right )} \\sin{\\left (i \\right )} \\sin{\\left (\\mu  \\right )}}{\\sqrt{- {\\sin{\\left (d \\right )}}^{2} {\\sin{\\left (i \\right )}}^{2} + 1} \\sin{\\left (\\Psi \\right )}} \\nonumber\n",
       "        \\end{equation}\n",
       "        \\\\\n",
       "        \\begin{equation}\n",
       "            \\tan(\\zeta) = - \\frac{\\left(\\sin{\\left (i \\right )} \\sin{\\left (\\iota  \\right )} \\cos{\\left (d \\right )} + \\cos{\\left (i \\right )} \\cos{\\left (\\iota  \\right )}\\right) \\tan{\\left (\\mu  \\right )}}{{\\sin{\\left (d \\right )}}^{2} {\\sin{\\left (i \\right )}}^{2} + \\sin{\\left (d \\right )} {\\sin{\\left (i \\right )}}^{2} \\cos{\\left (d \\right )} \\cos{\\left (\\iota  \\right )} \\tan{\\left (\\mu  \\right )} - \\sin{\\left (d \\right )} \\sin{\\left (i \\right )} \\sin{\\left (\\iota  \\right )} \\cos{\\left (i \\right )} \\tan{\\left (\\mu  \\right )} - 1} \\nonumber\n",
       "        \\end{equation}\n",
       "        $"
      ],
      "text/plain": [
       "<IPython.core.display.Math object>"
      ]
     },
     "execution_count": 12,
     "metadata": {},
     "output_type": "execute_result"
    }
   ],
   "source": [
    "render.expressions(\n",
    "    (r\"\\sin(\\zeta)\", r\"\\cos(\\zeta)\", r\"\\tan(\\zeta)\"),\n",
    "    result.noon_angle_sincos(Gn, Sn) + (result.noon_angle_tan(Gn, Sn),)\n",
    "    )"
   ]
  },
  {
   "cell_type": "code",
   "execution_count": 13,
   "metadata": {},
   "outputs": [],
   "source": [
    "# TODO move tests from sundial.ipynb to tests/"
   ]
  },
  {
   "cell_type": "code",
   "execution_count": null,
   "metadata": {},
   "outputs": [],
   "source": []
  }
 ],
 "metadata": {
  "kernelspec": {
   "display_name": "venv",
   "language": "python",
   "name": "python3"
  },
  "language_info": {
   "codemirror_mode": {
    "name": "ipython",
    "version": 3
   },
   "file_extension": ".py",
   "mimetype": "text/x-python",
   "name": "python",
   "nbconvert_exporter": "python",
   "pygments_lexer": "ipython3",
   "version": "3.12.5"
  }
 },
 "nbformat": 4,
 "nbformat_minor": 2
}
